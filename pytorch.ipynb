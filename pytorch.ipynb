{
 "cells": [
  {
   "cell_type": "code",
   "execution_count": 1,
   "metadata": {},
   "outputs": [],
   "source": [
    "import torch\n",
    "import numpy as np"
   ]
  },
  {
   "cell_type": "code",
   "execution_count": 2,
   "metadata": {},
   "outputs": [
    {
     "data": {
      "text/plain": [
       "tensor([[2., 2., 2., 2.],\n",
       "        [2., 2., 2., 2.],\n",
       "        [2., 2., 2., 2.]])"
      ]
     },
     "execution_count": 2,
     "metadata": {},
     "output_type": "execute_result"
    }
   ],
   "source": [
    "x = torch.zeros(3,4)\n",
    "x.add_(2)"
   ]
  },
  {
   "cell_type": "markdown",
   "metadata": {},
   "source": [
    "Gradient Calculation With Autograd"
   ]
  },
  {
   "cell_type": "code",
   "execution_count": 3,
   "metadata": {},
   "outputs": [
    {
     "data": {
      "text/plain": [
       "tensor([0.1247, 0.0538, 0.8073, 0.0288], requires_grad=True)"
      ]
     },
     "execution_count": 3,
     "metadata": {},
     "output_type": "execute_result"
    }
   ],
   "source": [
    "x = torch.rand(4 , requires_grad=True) # if the requires_grad = false , we cant use gradient function\n",
    "x"
   ]
  },
  {
   "cell_type": "code",
   "execution_count": 4,
   "metadata": {},
   "outputs": [
    {
     "data": {
      "text/plain": [
       "tensor([2.1247, 2.0538, 2.8073, 2.0288], grad_fn=<AddBackward0>)"
      ]
     },
     "execution_count": 4,
     "metadata": {},
     "output_type": "execute_result"
    }
   ],
   "source": [
    "y = x + 2\n",
    "y"
   ]
  },
  {
   "cell_type": "code",
   "execution_count": 5,
   "metadata": {},
   "outputs": [
    {
     "data": {
      "text/plain": [
       "tensor([ 9.0287,  8.4363, 15.7620,  8.2324], grad_fn=<MulBackward0>)"
      ]
     },
     "execution_count": 5,
     "metadata": {},
     "output_type": "execute_result"
    }
   ],
   "source": [
    "z = y*y*2\n",
    "z"
   ]
  },
  {
   "cell_type": "code",
   "execution_count": 6,
   "metadata": {},
   "outputs": [
    {
     "data": {
      "text/plain": [
       "tensor(10.3649, grad_fn=<MeanBackward0>)"
      ]
     },
     "execution_count": 6,
     "metadata": {},
     "output_type": "execute_result"
    }
   ],
   "source": [
    "z = z.mean()\n",
    "z"
   ]
  },
  {
   "cell_type": "markdown",
   "metadata": {},
   "source": [
    "Prediction using Gradient in Numpy\n"
   ]
  },
  {
   "cell_type": "code",
   "execution_count": 4,
   "metadata": {},
   "outputs": [
    {
     "name": "stdout",
     "output_type": "stream",
     "text": [
      "Prediction before training: f(5) = 0.000\n",
      "epoch 1: w = 1.200 , loss = 30.000\n",
      "epoch 2: w = 1.680 , loss = 4.800\n",
      "epoch 3: w = 1.872 , loss = 0.768\n",
      "epoch 4: w = 1.949 , loss = 0.123\n",
      "epoch 5: w = 1.980 , loss = 0.020\n",
      "epoch 6: w = 1.992 , loss = 0.003\n",
      "epoch 7: w = 1.997 , loss = 0.001\n",
      "epoch 8: w = 1.999 , loss = 0.000\n",
      "epoch 9: w = 1.999 , loss = 0.000\n",
      "epoch 10: w = 2.000 , loss = 0.000\n",
      "epoch 11: w = 2.000 , loss = 0.000\n",
      "epoch 12: w = 2.000 , loss = 0.000\n",
      "epoch 13: w = 2.000 , loss = 0.000\n",
      "epoch 14: w = 2.000 , loss = 0.000\n",
      "epoch 15: w = 2.000 , loss = 0.000\n",
      "epoch 16: w = 2.000 , loss = 0.000\n",
      "epoch 17: w = 2.000 , loss = 0.000\n",
      "epoch 18: w = 2.000 , loss = 0.000\n",
      "epoch 19: w = 2.000 , loss = 0.000\n",
      "epoch 20: w = 2.000 , loss = 0.000\n",
      "Prediction after training: f(5) = 20.000\n"
     ]
    }
   ],
   "source": [
    "import torch\n",
    "import numpy as np\n",
    "x = np.array([1,2,3,4] , dtype = 'float32')\n",
    "y = np.array([2,4,6,8] , dtype = 'float32')\n",
    "\n",
    "w = np.array(0.0 , dtype = 'float32')\n",
    "\n",
    "#prediction\n",
    "def forward(x):\n",
    "    return w*x\n",
    "\n",
    "#loss = MSE\n",
    "def loss(y , y_predicted):\n",
    "    return ((y_predicted - y)**2).mean()\n",
    "\n",
    "#gradient\n",
    "# MSE = 1/N * (w*x - y)**2\n",
    "# dJ/dw = 1/N 2x (w*x - y)\n",
    "\n",
    "def gradient(x,y,y_predicted):\n",
    "    return np.dot(2*x, y_predicted-y).mean()\n",
    "\n",
    "print(f'Prediction before training: f(5) = {forward(5):.3f}')\n",
    "\n",
    "#Training\n",
    "learning_rate = 0.01\n",
    "epoch = 20\n",
    "\n",
    "for i in range (epoch):\n",
    "    y_pred = forward(x)\n",
    "    l = loss(y , y_pred)\n",
    "    dw = gradient(x,y,y_pred)\n",
    "\n",
    "    w -= learning_rate * dw\n",
    "\n",
    "    print(f'epoch {i+1}: w = {w:.3f} , loss = {l:.3f}')\n",
    "\n",
    "\n",
    "print(f'Prediction after training: f(5) = {forward(10):.3f}')\n",
    "\n",
    "    "
   ]
  },
  {
   "cell_type": "markdown",
   "metadata": {},
   "source": [
    "Prediction using Gradient in Pytorch\n"
   ]
  },
  {
   "cell_type": "code",
   "execution_count": 12,
   "metadata": {},
   "outputs": [
    {
     "name": "stdout",
     "output_type": "stream",
     "text": [
      "Prediction before training: f(5) = 0.000\n",
      "epoch 1: w = 0.300 , loss = 30.000\n",
      "epoch 2: w = 0.555 , loss = 21.675\n",
      "epoch 3: w = 0.772 , loss = 15.660\n",
      "epoch 4: w = 0.956 , loss = 11.314\n",
      "epoch 5: w = 1.113 , loss = 8.175\n",
      "epoch 6: w = 1.246 , loss = 5.906\n",
      "epoch 7: w = 1.359 , loss = 4.267\n",
      "epoch 8: w = 1.455 , loss = 3.083\n",
      "epoch 9: w = 1.537 , loss = 2.228\n",
      "epoch 10: w = 1.606 , loss = 1.609\n",
      "epoch 11: w = 1.665 , loss = 1.163\n",
      "epoch 12: w = 1.716 , loss = 0.840\n",
      "epoch 13: w = 1.758 , loss = 0.607\n",
      "epoch 14: w = 1.794 , loss = 0.439\n",
      "epoch 15: w = 1.825 , loss = 0.317\n",
      "epoch 16: w = 1.851 , loss = 0.229\n",
      "epoch 17: w = 1.874 , loss = 0.165\n",
      "epoch 18: w = 1.893 , loss = 0.119\n",
      "epoch 19: w = 1.909 , loss = 0.086\n",
      "epoch 20: w = 1.922 , loss = 0.062\n",
      "Prediction after training: f(5) = 19.225\n"
     ]
    }
   ],
   "source": [
    "import torch\n",
    "import numpy as np\n",
    "x = torch.tensor([1,2,3,4] , dtype = torch.float32)\n",
    "y = torch.tensor([2,4,6,8] , dtype = torch.float32)\n",
    "\n",
    "w = torch.tensor(0.0 , dtype = torch.float32,requires_grad=True)\n",
    "\n",
    "#prediction\n",
    "def forward(x):\n",
    "    return w*x\n",
    "\n",
    "#loss = MSE\n",
    "def loss(y , y_predicted):\n",
    "    return ((y_predicted - y)**2).mean()\n",
    "\n",
    "#gradient\n",
    "# MSE = 1/N * (w*x - y)**2\n",
    "# dJ/dw = 1/N 2x (w*x - y)\n",
    "\n",
    "def gradient(x,y,y_predicted):\n",
    "    return torch.dot(2*x, y_predicted-y).mean()\n",
    "\n",
    "print(f'Prediction before training: f(5) = {forward(5):.3f}')\n",
    "\n",
    "#Training\n",
    "learning_rate = 0.01\n",
    "epoch = 20\n",
    "\n",
    "for i in range (epoch):\n",
    "    y_pred = forward(x)\n",
    "    l = loss(y , y_pred)\n",
    "    #dw = gradient(x,y,y_pred)\n",
    "    l.backward()\n",
    "\n",
    "    with torch.no_grad():\n",
    "        dw = w.grad\n",
    "        w -= learning_rate * dw\n",
    "\n",
    "    w.grad.zero_()\n",
    "\n",
    "    print(f'epoch {i+1}: w = {w:.3f} , loss = {l:.3f}')\n",
    "\n",
    "\n",
    "print(f'Prediction after training: f(5) = {forward(10):.3f}')\n",
    "\n",
    "    "
   ]
  },
  {
   "cell_type": "code",
   "execution_count": null,
   "metadata": {},
   "outputs": [],
   "source": []
  }
 ],
 "metadata": {
  "kernelspec": {
   "display_name": "Python 3",
   "language": "python",
   "name": "python3"
  },
  "language_info": {
   "codemirror_mode": {
    "name": "ipython",
    "version": 3
   },
   "file_extension": ".py",
   "mimetype": "text/x-python",
   "name": "python",
   "nbconvert_exporter": "python",
   "pygments_lexer": "ipython3",
   "version": "3.10.8"
  }
 },
 "nbformat": 4,
 "nbformat_minor": 2
}
