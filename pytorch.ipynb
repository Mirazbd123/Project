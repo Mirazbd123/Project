{
 "cells": [
  {
   "cell_type": "code",
   "execution_count": 1,
   "metadata": {},
   "outputs": [],
   "source": [
    "import torch\n",
    "import numpy as np"
   ]
  },
  {
   "cell_type": "code",
   "execution_count": 2,
   "metadata": {},
   "outputs": [
    {
     "data": {
      "text/plain": [
       "tensor([[2., 2., 2., 2.],\n",
       "        [2., 2., 2., 2.],\n",
       "        [2., 2., 2., 2.]])"
      ]
     },
     "execution_count": 2,
     "metadata": {},
     "output_type": "execute_result"
    }
   ],
   "source": [
    "x = torch.zeros(3,4)\n",
    "x.add_(2)"
   ]
  },
  {
   "cell_type": "markdown",
   "metadata": {},
   "source": [
    "Gradient Calculation With Autograd"
   ]
  },
  {
   "cell_type": "code",
   "execution_count": 3,
   "metadata": {},
   "outputs": [
    {
     "data": {
      "text/plain": [
       "tensor([0.7415, 0.8359, 0.4826, 0.9478], requires_grad=True)"
      ]
     },
     "execution_count": 3,
     "metadata": {},
     "output_type": "execute_result"
    }
   ],
   "source": [
    "x = torch.rand(4 , requires_grad=True) # if the requires_grad = false , we cant use gradient function\n",
    "x"
   ]
  },
  {
   "cell_type": "code",
   "execution_count": 4,
   "metadata": {},
   "outputs": [
    {
     "data": {
      "text/plain": [
       "tensor([2.7415, 2.8359, 2.4826, 2.9478], grad_fn=<AddBackward0>)"
      ]
     },
     "execution_count": 4,
     "metadata": {},
     "output_type": "execute_result"
    }
   ],
   "source": [
    "y = x + 2\n",
    "y"
   ]
  },
  {
   "cell_type": "code",
   "execution_count": 5,
   "metadata": {},
   "outputs": [
    {
     "data": {
      "text/plain": [
       "tensor([15.0312, 16.0844, 12.3264, 17.3790], grad_fn=<MulBackward0>)"
      ]
     },
     "execution_count": 5,
     "metadata": {},
     "output_type": "execute_result"
    }
   ],
   "source": [
    "z = y*y*2\n",
    "z"
   ]
  },
  {
   "cell_type": "code",
   "execution_count": 6,
   "metadata": {},
   "outputs": [
    {
     "data": {
      "text/plain": [
       "tensor(15.2052, grad_fn=<MeanBackward0>)"
      ]
     },
     "execution_count": 6,
     "metadata": {},
     "output_type": "execute_result"
    }
   ],
   "source": [
    "z = z.mean()\n",
    "z"
   ]
  },
  {
   "cell_type": "markdown",
   "metadata": {},
   "source": [
    "Prediction using Gradient in Numpy\n"
   ]
  },
  {
   "cell_type": "code",
   "execution_count": 7,
   "metadata": {},
   "outputs": [
    {
     "name": "stdout",
     "output_type": "stream",
     "text": [
      "Prediction before training: f(5) = 0.000\n",
      "epoch 1: w = 1.200 , loss = 30.000\n",
      "epoch 2: w = 1.680 , loss = 4.800\n",
      "epoch 3: w = 1.872 , loss = 0.768\n",
      "epoch 4: w = 1.949 , loss = 0.123\n",
      "epoch 5: w = 1.980 , loss = 0.020\n",
      "epoch 6: w = 1.992 , loss = 0.003\n",
      "epoch 7: w = 1.997 , loss = 0.001\n",
      "epoch 8: w = 1.999 , loss = 0.000\n",
      "epoch 9: w = 1.999 , loss = 0.000\n",
      "epoch 10: w = 2.000 , loss = 0.000\n",
      "epoch 11: w = 2.000 , loss = 0.000\n",
      "epoch 12: w = 2.000 , loss = 0.000\n",
      "epoch 13: w = 2.000 , loss = 0.000\n",
      "epoch 14: w = 2.000 , loss = 0.000\n",
      "epoch 15: w = 2.000 , loss = 0.000\n",
      "epoch 16: w = 2.000 , loss = 0.000\n",
      "epoch 17: w = 2.000 , loss = 0.000\n",
      "epoch 18: w = 2.000 , loss = 0.000\n",
      "epoch 19: w = 2.000 , loss = 0.000\n",
      "epoch 20: w = 2.000 , loss = 0.000\n",
      "Prediction after training: f(5) = 20.000\n"
     ]
    }
   ],
   "source": [
    "import torch\n",
    "import numpy as np\n",
    "x = np.array([1,2,3,4] , dtype = 'float32')\n",
    "y = np.array([2,4,6,8] , dtype = 'float32')\n",
    "\n",
    "w = np.array(0.0 , dtype = 'float32')\n",
    "\n",
    "#prediction\n",
    "def forward(x):\n",
    "    return w*x\n",
    "\n",
    "#loss = MSE\n",
    "def loss(y , y_predicted):\n",
    "    return ((y_predicted - y)**2).mean()\n",
    "\n",
    "#gradient\n",
    "# MSE = 1/N * (w*x - y)**2\n",
    "# dJ/dw = 1/N 2x (w*x - y)\n",
    "\n",
    "def gradient(x,y,y_predicted):\n",
    "    return np.dot(2*x, y_predicted-y).mean()\n",
    "\n",
    "print(f'Prediction before training: f(5) = {forward(5):.3f}')\n",
    "\n",
    "#Training\n",
    "learning_rate = 0.01\n",
    "epoch = 20\n",
    "\n",
    "for i in range (epoch):\n",
    "    y_pred = forward(x)\n",
    "    l = loss(y , y_pred)\n",
    "    dw = gradient(x,y,y_pred)\n",
    "\n",
    "    w -= learning_rate * dw\n",
    "\n",
    "    print(f'epoch {i+1}: w = {w:.3f} , loss = {l:.3f}')\n",
    "\n",
    "\n",
    "print(f'Prediction after training: f(5) = {forward(10):.3f}')\n",
    "\n",
    "    "
   ]
  },
  {
   "cell_type": "markdown",
   "metadata": {},
   "source": [
    "Prediction using Gradient in Pytorch\n"
   ]
  },
  {
   "cell_type": "code",
   "execution_count": 8,
   "metadata": {},
   "outputs": [
    {
     "name": "stdout",
     "output_type": "stream",
     "text": [
      "Prediction before training: f(5) = 0.000\n",
      "epoch 1: w = 0.300 , loss = 30.000\n",
      "epoch 2: w = 0.555 , loss = 21.675\n",
      "epoch 3: w = 0.772 , loss = 15.660\n",
      "epoch 4: w = 0.956 , loss = 11.314\n",
      "epoch 5: w = 1.113 , loss = 8.175\n",
      "epoch 6: w = 1.246 , loss = 5.906\n",
      "epoch 7: w = 1.359 , loss = 4.267\n",
      "epoch 8: w = 1.455 , loss = 3.083\n",
      "epoch 9: w = 1.537 , loss = 2.228\n",
      "epoch 10: w = 1.606 , loss = 1.609\n",
      "epoch 11: w = 1.665 , loss = 1.163\n",
      "epoch 12: w = 1.716 , loss = 0.840\n",
      "epoch 13: w = 1.758 , loss = 0.607\n",
      "epoch 14: w = 1.794 , loss = 0.439\n",
      "epoch 15: w = 1.825 , loss = 0.317\n",
      "epoch 16: w = 1.851 , loss = 0.229\n",
      "epoch 17: w = 1.874 , loss = 0.165\n",
      "epoch 18: w = 1.893 , loss = 0.119\n",
      "epoch 19: w = 1.909 , loss = 0.086\n",
      "epoch 20: w = 1.922 , loss = 0.062\n",
      "Prediction after training: f(5) = 19.225\n"
     ]
    }
   ],
   "source": [
    "import torch\n",
    "import numpy as np\n",
    "x = torch.tensor([1,2,3,4] , dtype = torch.float32)\n",
    "y = torch.tensor([2,4,6,8] , dtype = torch.float32)\n",
    "\n",
    "w = torch.tensor(0.0 , dtype = torch.float32,requires_grad=True)\n",
    "\n",
    "#prediction\n",
    "def forward(x):\n",
    "    return w*x\n",
    "\n",
    "#loss = MSE\n",
    "def loss(y , y_predicted):\n",
    "    return ((y_predicted - y)**2).mean()\n",
    "\n",
    "#gradient\n",
    "# MSE = 1/N * (w*x - y)**2\n",
    "# dJ/dw = 1/N 2x (w*x - y)\n",
    "\n",
    "def gradient(x,y,y_predicted):\n",
    "    return torch.dot(2*x, y_predicted-y).mean()\n",
    "\n",
    "print(f'Prediction before training: f(5) = {forward(5):.3f}')\n",
    "\n",
    "#Training\n",
    "learning_rate = 0.01\n",
    "epoch = 20\n",
    "\n",
    "for i in range (epoch):\n",
    "    y_pred = forward(x)\n",
    "    l = loss(y , y_pred)\n",
    "    #dw = gradient(x,y,y_pred)\n",
    "    l.backward()\n",
    "\n",
    "    with torch.no_grad():\n",
    "        dw = w.grad\n",
    "        w -= learning_rate * dw\n",
    "\n",
    "    w.grad.zero_()\n",
    "\n",
    "    print(f'epoch {i+1}: w = {w:.3f} , loss = {l:.3f}')\n",
    "\n",
    "\n",
    "print(f'Prediction after training: f(5) = {forward(10):.3f}')\n",
    "\n",
    "    "
   ]
  },
  {
   "cell_type": "markdown",
   "metadata": {},
   "source": [
    "Linear Regression Using pytorch"
   ]
  },
  {
   "cell_type": "code",
   "execution_count": 9,
   "metadata": {},
   "outputs": [],
   "source": [
    "import torch\n",
    "import torch.nn as nn \n",
    "import numpy as np"
   ]
  },
  {
   "cell_type": "code",
   "execution_count": 10,
   "metadata": {},
   "outputs": [
    {
     "data": {
      "text/plain": [
       "[0, 1, 2, 3, 4, 5, 6, 7, 8, 9]"
      ]
     },
     "execution_count": 10,
     "metadata": {},
     "output_type": "execute_result"
    }
   ],
   "source": [
    "#create dummy data \n",
    "x_values = [i for i in range(10)]\n",
    "x_values"
   ]
  },
  {
   "cell_type": "markdown",
   "metadata": {},
   "source": [
    "Linear Regression using pytorch"
   ]
  },
  {
   "cell_type": "code",
   "execution_count": 25,
   "metadata": {},
   "outputs": [
    {
     "name": "stdout",
     "output_type": "stream",
     "text": [
      "epoch: 10 , loss = 575.2079\n",
      "epoch: 20 , loss = 340.8062\n",
      "epoch: 30 , loss = 332.8537\n",
      "epoch: 40 , loss = 332.5776\n",
      "epoch: 50 , loss = 332.5679\n",
      "epoch: 60 , loss = 332.5676\n",
      "epoch: 70 , loss = 332.5675\n",
      "epoch: 80 , loss = 332.5676\n",
      "epoch: 90 , loss = 332.5676\n",
      "epoch: 100 , loss = 332.5676\n"
     ]
    },
    {
     "data": {
      "image/png": "[encoded data removed]",
      "text/plain": [
       "<Figure size 640x480 with 1 Axes>"
      ]
     },
     "metadata": {},
     "output_type": "display_data"
    }
   ],
   "source": [
    "# 1) Design Model (input , output size , forward pass)\n",
    "# 2) Construct Loss and optimizer\n",
    "# 3) Training Loop:\n",
    "#       - Forward pass: compute prediction\n",
    "#       - Backward pass: compute gradient\n",
    "#       - Update weights\n",
    "\n",
    "import torch \n",
    "import torch.nn as nn\n",
    "import numpy as np \n",
    "from sklearn import datasets\n",
    "import matplotlib.pyplot as plt\n",
    "\n",
    "# prepare data \n",
    "x_numpy , y_numpy = datasets.make_regression(n_samples=100 , n_features=1 , noise = 20 , random_state=1) \n",
    "\n",
    "# This values is in numpy aarray , so we have to convert it in tensor and float32 as well\n",
    "\n",
    "x = torch.from_numpy(x_numpy.astype(np.float32))\n",
    "y = torch.from_numpy(y_numpy.astype(np.float32))\n",
    "\n",
    "y = y.view(y.shape[0] , 1)\n",
    "n_samples , n_features = x.shape\n",
    "\n",
    "\n",
    "# Model\n",
    "input_size = n_features\n",
    "output_size = 1\n",
    "model = nn.Linear(input_size,output_size)\n",
    "\n",
    "# loss and optimizer\n",
    "criterion = nn.MSELoss()\n",
    "optimizer = torch.optim.SGD(model.parameters() , lr = 0.1)\n",
    "\n",
    "# training loop\n",
    "num_epochs = 100\n",
    "for epoch in range(num_epochs):\n",
    "    #forward pass and loss\n",
    "    y_predicted = model(x)\n",
    "    loss = criterion(y_predicted , y)\n",
    "\n",
    "    # backward pass\n",
    "    loss.backward()\n",
    "\n",
    "    #update\n",
    "    optimizer.step()\n",
    "\n",
    "    optimizer.zero_grad()\n",
    "\n",
    "    if (epoch+1) % 10 == 0:\n",
    "        print(f'epoch: {epoch+1} , loss = {loss.item():.4f}')\n",
    "\n",
    "\n",
    "#plot\n",
    "predicted = model(x).detach().numpy()\n",
    "plt.plot(x_numpy, y_numpy , 'ro')\n",
    "plt.plot(x_numpy,predicted,'b')\n",
    "plt.show()"
   ]
  },
  {
   "cell_type": "markdown",
   "metadata": {},
   "source": [
    "Logistic Regression using pytorch"
   ]
  },
  {
   "cell_type": "code",
   "execution_count": 31,
   "metadata": {},
   "outputs": [
    {
     "name": "stdout",
     "output_type": "stream",
     "text": [
      "epoch: 10, loss = 0.5221\n",
      "epoch: 20, loss = 0.4411\n",
      "epoch: 30, loss = 0.3882\n",
      "epoch: 40, loss = 0.3506\n",
      "epoch: 50, loss = 0.3223\n",
      "epoch: 60, loss = 0.3001\n",
      "epoch: 70, loss = 0.2820\n",
      "epoch: 80, loss = 0.2671\n",
      "epoch: 90, loss = 0.2543\n",
      "epoch: 100, loss = 0.2434\n",
      "accuracy = 0.9298\n"
     ]
    }
   ],
   "source": [
    "# 1) Design Model (input , output size , forward pass)\n",
    "# 2) Construct Loss and optimizer\n",
    "# 3) Training Loop:\n",
    "#       - Forward pass: compute prediction\n",
    "#       - Backward pass: compute gradient\n",
    "#       - Update weights\n",
    "\n",
    "import torch \n",
    "import torch.nn as nn\n",
    "import numpy as np \n",
    "from sklearn import datasets\n",
    "import matplotlib.pyplot as plt\n",
    "from sklearn.preprocessing import StandardScaler\n",
    "from sklearn.model_selection import train_test_split\n",
    "\n",
    "#preparing data\n",
    "bc = datasets.load_breast_cancer()\n",
    "x , y = bc.data , bc.target\n",
    "\n",
    "n_samples , n_features = x.shape\n",
    "\n",
    "#scale\n",
    "sc = StandardScaler()\n",
    "x = sc.fit_transform(x)\n",
    "\n",
    "#train test split\n",
    "x_train , x_test , y_train , y_test = train_test_split(x,y,test_size=0.2 , random_state=12)\n",
    "\n",
    "#convert to tensor\n",
    "x_train = torch.from_numpy(x_train.astype(np.float32))\n",
    "x_test = torch.from_numpy(x_test.astype(np.float32))\n",
    "y_train = torch.from_numpy(y_train.astype(np.float32))\n",
    "y_test = torch.from_numpy(y_test.astype(np.float32))\n",
    "\n",
    "#reshape y\n",
    "y_train = y_train.view(y_train.shape[0],1)\n",
    "y_test = y_test.view(y_test.shape[0] , 1)\n",
    "\n",
    "#model\n",
    "class LogisticRegression(nn.Module):\n",
    "    def __init__(self , n_input_features):\n",
    "        super(LogisticRegression , self).__init__() #super is used to call the constructor of the parent class\n",
    "        self.linear = nn.Linear(n_input_features,1)\n",
    "    \n",
    "    def forward(self , x):\n",
    "        y_predicted = torch.sigmoid(self.linear(x))\n",
    "        return y_predicted\n",
    "    \n",
    "model = LogisticRegression(n_features)\n",
    "\n",
    "#loss \n",
    "criterion = nn.BCELoss()\n",
    "optimizer = torch.optim.SGD(model.parameters(),lr = .01)\n",
    "\n",
    "#training\n",
    "num_epochs = 100\n",
    "for epoch in range(num_epochs):\n",
    "    y_predicted = model(x_train)\n",
    "    loss = criterion(y_predicted,y_train)\n",
    "\n",
    "    #backprop\n",
    "    loss.backward()\n",
    "\n",
    "    #update\n",
    "    optimizer.step()\n",
    "\n",
    "    optimizer.zero_grad()\n",
    "\n",
    "    if (epoch+1) % 10 == 0:\n",
    "        print(f'epoch: {epoch+1}, loss = {loss.item():.4f}')\n",
    "\n",
    "#store the prediction history\n",
    "with torch.no_grad():\n",
    "    y_predicted = model(x_test)\n",
    "    y_predicted_cls = y_predicted.round()\n",
    "    acc = y_predicted_cls.eq(y_test).sum() / float(y_test.shape[0])\n",
    "    print(f'accuracy = {acc.item():.4f}')"
   ]
  },
  {
   "cell_type": "markdown",
   "metadata": {},
   "source": [
    "Dataset and Dataloader class in pytorch"
   ]
  },
  {
   "cell_type": "code",
   "execution_count": 1,
   "metadata": {},
   "outputs": [],
   "source": [
    "import torch \n",
    "import torchvision\n",
    "from torch.utils.data import Dataset , DataLoader #for loading and using the datasets\n",
    "import numpy as np\n",
    "import math"
   ]
  },
  {
   "cell_type": "markdown",
   "metadata": {},
   "source": [
    "In our reguler way for deep learning we just import the dataset and train it to the model, but when our dataset is too big and it takes time , so for this problem we can just splite dataset into batches and train the model and for this we use dataset and dataloader in pytorch"
   ]
  },
  {
   "cell_type": "code",
   "execution_count": 2,
   "metadata": {},
   "outputs": [
    {
     "ename": "IndentationError",
     "evalue": "expected an indented block after function definition on line 2 (1484066002.py, line 5)",
     "output_type": "error",
     "traceback": [
      "\u001b[1;36m  Cell \u001b[1;32mIn[2], line 5\u001b[1;36m\u001b[0m\n\u001b[1;33m    def __getitem__(self,index):\u001b[0m\n\u001b[1;37m    ^\u001b[0m\n\u001b[1;31mIndentationError\u001b[0m\u001b[1;31m:\u001b[0m expected an indented block after function definition on line 2\n"
     ]
    }
   ],
   "source": [
    "class WineDataset(Dataset):\n",
    "    def __init__(self):\n",
    "        # load dataset\n",
    "    \n",
    "    def __getitem__(self,index):\n",
    "        #return the index of dataset\n",
    "\n",
    "    def __len__(self):\n",
    "        #return the length of dataset"
   ]
  },
  {
   "cell_type": "code",
   "execution_count": null,
   "metadata": {},
   "outputs": [],
   "source": []
  }
 ],
 "metadata": {
  "kernelspec": {
   "display_name": "Python 3",
   "language": "python",
   "name": "python3"
  },
  "language_info": {
   "codemirror_mode": {
    "name": "ipython",
    "version": 3
   },
   "file_extension": ".py",
   "mimetype": "text/x-python",
   "name": "python",
   "nbconvert_exporter": "python",
   "pygments_lexer": "ipython3",
   "version": "3.10.8"
  }
 },
 "nbformat": 4,
 "nbformat_minor": 2
}
