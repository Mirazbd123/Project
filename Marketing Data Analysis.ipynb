{
 "cells": [
  {
   "cell_type": "code",
   "execution_count": 1,
   "metadata": {},
   "outputs": [],
   "source": [
    "import numpy as np\n",
    "import pandas as pd\n",
    "import matplotlib.pyplot as plt\n",
    "import seaborn as sns\n",
    "from sklearn.preprocessing import OrdinalEncoder\n"
   ]
  },
  {
   "cell_type": "code",
   "execution_count": 2,
   "metadata": {},
   "outputs": [],
   "source": [
    "df = pd.read_csv(\"E:\\\\dekstop moved ap\\\\Data set\\\\marketing data\\\\Marketing Campaign data.csv\")"
   ]
  },
  {
   "cell_type": "code",
   "execution_count": 3,
   "metadata": {},
   "outputs": [],
   "source": [
    "df.drop(columns=['CUST_ID' , 'COMMENTS'] , inplace= True)"
   ]
  },
  {
   "cell_type": "code",
   "execution_count": 4,
   "metadata": {},
   "outputs": [
    {
     "data": {
      "text/html": [
       "<div>\n",
       "<style scoped>\n",
       "    .dataframe tbody tr th:only-of-type {\n",
       "        vertical-align: middle;\n",
       "    }\n",
       "\n",
       "    .dataframe tbody tr th {\n",
       "        vertical-align: top;\n",
       "    }\n",
       "\n",
       "    .dataframe thead th {\n",
       "        text-align: right;\n",
       "    }\n",
       "</style>\n",
       "<table border=\"1\" class=\"dataframe\">\n",
       "  <thead>\n",
       "    <tr style=\"text-align: right;\">\n",
       "      <th></th>\n",
       "      <th>CUST_GENDER</th>\n",
       "      <th>AGE</th>\n",
       "      <th>CUST_MARITAL_STATUS</th>\n",
       "      <th>COUNTRY_NAME</th>\n",
       "      <th>CUST_INCOME_LEVEL</th>\n",
       "      <th>EDUCATION</th>\n",
       "      <th>OCCUPATION</th>\n",
       "      <th>HOUSEHOLD_SIZE</th>\n",
       "      <th>YRS_RESIDENCE</th>\n",
       "      <th>AFFINITY_CARD</th>\n",
       "      <th>BULK_PACK_DISKETTES</th>\n",
       "      <th>FLAT_PANEL_MONITOR</th>\n",
       "      <th>HOME_THEATER_PACKAGE</th>\n",
       "      <th>BOOKKEEPING_APPLICATION</th>\n",
       "      <th>PRINTER_SUPPLIES</th>\n",
       "      <th>Y_BOX_GAMES</th>\n",
       "      <th>OS_DOC_SET_KANJI</th>\n",
       "    </tr>\n",
       "  </thead>\n",
       "  <tbody>\n",
       "    <tr>\n",
       "      <th>0</th>\n",
       "      <td>F</td>\n",
       "      <td>41</td>\n",
       "      <td>NeverM</td>\n",
       "      <td>United States of America</td>\n",
       "      <td>J: 190,000 - 249,999</td>\n",
       "      <td>Masters</td>\n",
       "      <td>Prof.</td>\n",
       "      <td>2</td>\n",
       "      <td>4</td>\n",
       "      <td>0</td>\n",
       "      <td>1</td>\n",
       "      <td>1</td>\n",
       "      <td>1</td>\n",
       "      <td>1</td>\n",
       "      <td>1</td>\n",
       "      <td>0</td>\n",
       "      <td>0</td>\n",
       "    </tr>\n",
       "    <tr>\n",
       "      <th>1</th>\n",
       "      <td>M</td>\n",
       "      <td>27</td>\n",
       "      <td>NeverM</td>\n",
       "      <td>United States of America</td>\n",
       "      <td>I: 170,000 - 189,999</td>\n",
       "      <td>Bach.</td>\n",
       "      <td>Sales</td>\n",
       "      <td>2</td>\n",
       "      <td>3</td>\n",
       "      <td>0</td>\n",
       "      <td>1</td>\n",
       "      <td>1</td>\n",
       "      <td>0</td>\n",
       "      <td>1</td>\n",
       "      <td>1</td>\n",
       "      <td>1</td>\n",
       "      <td>0</td>\n",
       "    </tr>\n",
       "    <tr>\n",
       "      <th>2</th>\n",
       "      <td>F</td>\n",
       "      <td>20</td>\n",
       "      <td>NeverM</td>\n",
       "      <td>United States of America</td>\n",
       "      <td>H: 150,000 - 169,999</td>\n",
       "      <td>HS-grad</td>\n",
       "      <td>Cleric.</td>\n",
       "      <td>2</td>\n",
       "      <td>2</td>\n",
       "      <td>0</td>\n",
       "      <td>1</td>\n",
       "      <td>0</td>\n",
       "      <td>0</td>\n",
       "      <td>1</td>\n",
       "      <td>1</td>\n",
       "      <td>1</td>\n",
       "      <td>0</td>\n",
       "    </tr>\n",
       "    <tr>\n",
       "      <th>3</th>\n",
       "      <td>M</td>\n",
       "      <td>45</td>\n",
       "      <td>Married</td>\n",
       "      <td>United States of America</td>\n",
       "      <td>B: 30,000 - 49,999</td>\n",
       "      <td>Bach.</td>\n",
       "      <td>Exec.</td>\n",
       "      <td>3</td>\n",
       "      <td>5</td>\n",
       "      <td>1</td>\n",
       "      <td>0</td>\n",
       "      <td>0</td>\n",
       "      <td>1</td>\n",
       "      <td>1</td>\n",
       "      <td>1</td>\n",
       "      <td>0</td>\n",
       "      <td>0</td>\n",
       "    </tr>\n",
       "    <tr>\n",
       "      <th>4</th>\n",
       "      <td>M</td>\n",
       "      <td>34</td>\n",
       "      <td>NeverM</td>\n",
       "      <td>United States of America</td>\n",
       "      <td>K: 250,000 - 299,999</td>\n",
       "      <td>Masters</td>\n",
       "      <td>Sales</td>\n",
       "      <td>9+</td>\n",
       "      <td>5</td>\n",
       "      <td>1</td>\n",
       "      <td>1</td>\n",
       "      <td>1</td>\n",
       "      <td>0</td>\n",
       "      <td>1</td>\n",
       "      <td>1</td>\n",
       "      <td>0</td>\n",
       "      <td>0</td>\n",
       "    </tr>\n",
       "  </tbody>\n",
       "</table>\n",
       "</div>"
      ],
      "text/plain": [
       "  CUST_GENDER  AGE CUST_MARITAL_STATUS              COUNTRY_NAME  \\\n",
       "0           F   41              NeverM  United States of America   \n",
       "1           M   27              NeverM  United States of America   \n",
       "2           F   20              NeverM  United States of America   \n",
       "3           M   45             Married  United States of America   \n",
       "4           M   34              NeverM  United States of America   \n",
       "\n",
       "      CUST_INCOME_LEVEL EDUCATION OCCUPATION HOUSEHOLD_SIZE  YRS_RESIDENCE  \\\n",
       "0  J: 190,000 - 249,999   Masters      Prof.              2              4   \n",
       "1  I: 170,000 - 189,999     Bach.      Sales              2              3   \n",
       "2  H: 150,000 - 169,999   HS-grad    Cleric.              2              2   \n",
       "3    B: 30,000 - 49,999     Bach.      Exec.              3              5   \n",
       "4  K: 250,000 - 299,999   Masters      Sales             9+              5   \n",
       "\n",
       "   AFFINITY_CARD  BULK_PACK_DISKETTES  FLAT_PANEL_MONITOR  \\\n",
       "0              0                    1                   1   \n",
       "1              0                    1                   1   \n",
       "2              0                    1                   0   \n",
       "3              1                    0                   0   \n",
       "4              1                    1                   1   \n",
       "\n",
       "   HOME_THEATER_PACKAGE  BOOKKEEPING_APPLICATION  PRINTER_SUPPLIES  \\\n",
       "0                     1                        1                 1   \n",
       "1                     0                        1                 1   \n",
       "2                     0                        1                 1   \n",
       "3                     1                        1                 1   \n",
       "4                     0                        1                 1   \n",
       "\n",
       "   Y_BOX_GAMES  OS_DOC_SET_KANJI  \n",
       "0            0                 0  \n",
       "1            1                 0  \n",
       "2            1                 0  \n",
       "3            0                 0  \n",
       "4            0                 0  "
      ]
     },
     "execution_count": 4,
     "metadata": {},
     "output_type": "execute_result"
    }
   ],
   "source": [
    "df.head()"
   ]
  },
  {
   "cell_type": "markdown",
   "metadata": {},
   "source": [
    "1.\tData understanding\t\t\t\t\t \t\t \n",
    "\n",
    "•Produce a meta data table to show characteristics of each attribute.\n",
    "The Meta data table should contain attribute name, descriptions, Maximum, Minimum, Mean, Std. Deviation. and histogram for numeric data, and mode and bar chart for nominal data \n"
   ]
  },
  {
   "cell_type": "code",
   "execution_count": 5,
   "metadata": {},
   "outputs": [
    {
     "name": "stdout",
     "output_type": "stream",
     "text": [
      "<class 'pandas.core.frame.DataFrame'>\n",
      "RangeIndex: 1500 entries, 0 to 1499\n",
      "Data columns (total 17 columns):\n",
      " #   Column                   Non-Null Count  Dtype \n",
      "---  ------                   --------------  ----- \n",
      " 0   CUST_GENDER              1500 non-null   object\n",
      " 1   AGE                      1500 non-null   int64 \n",
      " 2   CUST_MARITAL_STATUS      1500 non-null   object\n",
      " 3   COUNTRY_NAME             1500 non-null   object\n",
      " 4   CUST_INCOME_LEVEL        1500 non-null   object\n",
      " 5   EDUCATION                1500 non-null   object\n",
      " 6   OCCUPATION               1500 non-null   object\n",
      " 7   HOUSEHOLD_SIZE           1500 non-null   object\n",
      " 8   YRS_RESIDENCE            1500 non-null   int64 \n",
      " 9   AFFINITY_CARD            1500 non-null   int64 \n",
      " 10  BULK_PACK_DISKETTES      1500 non-null   int64 \n",
      " 11  FLAT_PANEL_MONITOR       1500 non-null   int64 \n",
      " 12  HOME_THEATER_PACKAGE     1500 non-null   int64 \n",
      " 13  BOOKKEEPING_APPLICATION  1500 non-null   int64 \n",
      " 14  PRINTER_SUPPLIES         1500 non-null   int64 \n",
      " 15  Y_BOX_GAMES              1500 non-null   int64 \n",
      " 16  OS_DOC_SET_KANJI         1500 non-null   int64 \n",
      "dtypes: int64(10), object(7)\n",
      "memory usage: 199.3+ KB\n"
     ]
    }
   ],
   "source": [
    "df.info()"
   ]
  },
  {
   "cell_type": "code",
   "execution_count": 6,
   "metadata": {},
   "outputs": [
    {
     "data": {
      "text/html": [
       "<div>\n",
       "<style scoped>\n",
       "    .dataframe tbody tr th:only-of-type {\n",
       "        vertical-align: middle;\n",
       "    }\n",
       "\n",
       "    .dataframe tbody tr th {\n",
       "        vertical-align: top;\n",
       "    }\n",
       "\n",
       "    .dataframe thead th {\n",
       "        text-align: right;\n",
       "    }\n",
       "</style>\n",
       "<table border=\"1\" class=\"dataframe\">\n",
       "  <thead>\n",
       "    <tr style=\"text-align: right;\">\n",
       "      <th></th>\n",
       "      <th>AGE</th>\n",
       "      <th>YRS_RESIDENCE</th>\n",
       "      <th>AFFINITY_CARD</th>\n",
       "      <th>BULK_PACK_DISKETTES</th>\n",
       "      <th>FLAT_PANEL_MONITOR</th>\n",
       "      <th>HOME_THEATER_PACKAGE</th>\n",
       "      <th>BOOKKEEPING_APPLICATION</th>\n",
       "      <th>PRINTER_SUPPLIES</th>\n",
       "      <th>Y_BOX_GAMES</th>\n",
       "      <th>OS_DOC_SET_KANJI</th>\n",
       "    </tr>\n",
       "  </thead>\n",
       "  <tbody>\n",
       "    <tr>\n",
       "      <th>count</th>\n",
       "      <td>1500.000000</td>\n",
       "      <td>1500.000000</td>\n",
       "      <td>1500.000000</td>\n",
       "      <td>1500.0000</td>\n",
       "      <td>1500.000000</td>\n",
       "      <td>1500.000000</td>\n",
       "      <td>1500.000000</td>\n",
       "      <td>1500.0</td>\n",
       "      <td>1500.000000</td>\n",
       "      <td>1500.000000</td>\n",
       "    </tr>\n",
       "    <tr>\n",
       "      <th>mean</th>\n",
       "      <td>38.892000</td>\n",
       "      <td>4.088667</td>\n",
       "      <td>0.253333</td>\n",
       "      <td>0.6280</td>\n",
       "      <td>0.582000</td>\n",
       "      <td>0.575333</td>\n",
       "      <td>0.880667</td>\n",
       "      <td>1.0</td>\n",
       "      <td>0.286667</td>\n",
       "      <td>0.002000</td>\n",
       "    </tr>\n",
       "    <tr>\n",
       "      <th>std</th>\n",
       "      <td>13.636384</td>\n",
       "      <td>1.920919</td>\n",
       "      <td>0.435065</td>\n",
       "      <td>0.4835</td>\n",
       "      <td>0.493395</td>\n",
       "      <td>0.494457</td>\n",
       "      <td>0.324288</td>\n",
       "      <td>0.0</td>\n",
       "      <td>0.452355</td>\n",
       "      <td>0.044692</td>\n",
       "    </tr>\n",
       "    <tr>\n",
       "      <th>min</th>\n",
       "      <td>17.000000</td>\n",
       "      <td>0.000000</td>\n",
       "      <td>0.000000</td>\n",
       "      <td>0.0000</td>\n",
       "      <td>0.000000</td>\n",
       "      <td>0.000000</td>\n",
       "      <td>0.000000</td>\n",
       "      <td>1.0</td>\n",
       "      <td>0.000000</td>\n",
       "      <td>0.000000</td>\n",
       "    </tr>\n",
       "    <tr>\n",
       "      <th>25%</th>\n",
       "      <td>28.000000</td>\n",
       "      <td>3.000000</td>\n",
       "      <td>0.000000</td>\n",
       "      <td>0.0000</td>\n",
       "      <td>0.000000</td>\n",
       "      <td>0.000000</td>\n",
       "      <td>1.000000</td>\n",
       "      <td>1.0</td>\n",
       "      <td>0.000000</td>\n",
       "      <td>0.000000</td>\n",
       "    </tr>\n",
       "    <tr>\n",
       "      <th>50%</th>\n",
       "      <td>37.000000</td>\n",
       "      <td>4.000000</td>\n",
       "      <td>0.000000</td>\n",
       "      <td>1.0000</td>\n",
       "      <td>1.000000</td>\n",
       "      <td>1.000000</td>\n",
       "      <td>1.000000</td>\n",
       "      <td>1.0</td>\n",
       "      <td>0.000000</td>\n",
       "      <td>0.000000</td>\n",
       "    </tr>\n",
       "    <tr>\n",
       "      <th>75%</th>\n",
       "      <td>47.000000</td>\n",
       "      <td>5.000000</td>\n",
       "      <td>1.000000</td>\n",
       "      <td>1.0000</td>\n",
       "      <td>1.000000</td>\n",
       "      <td>1.000000</td>\n",
       "      <td>1.000000</td>\n",
       "      <td>1.0</td>\n",
       "      <td>1.000000</td>\n",
       "      <td>0.000000</td>\n",
       "    </tr>\n",
       "    <tr>\n",
       "      <th>max</th>\n",
       "      <td>90.000000</td>\n",
       "      <td>14.000000</td>\n",
       "      <td>1.000000</td>\n",
       "      <td>1.0000</td>\n",
       "      <td>1.000000</td>\n",
       "      <td>1.000000</td>\n",
       "      <td>1.000000</td>\n",
       "      <td>1.0</td>\n",
       "      <td>1.000000</td>\n",
       "      <td>1.000000</td>\n",
       "    </tr>\n",
       "  </tbody>\n",
       "</table>\n",
       "</div>"
      ],
      "text/plain": [
       "               AGE  YRS_RESIDENCE  AFFINITY_CARD  BULK_PACK_DISKETTES  \\\n",
       "count  1500.000000    1500.000000    1500.000000            1500.0000   \n",
       "mean     38.892000       4.088667       0.253333               0.6280   \n",
       "std      13.636384       1.920919       0.435065               0.4835   \n",
       "min      17.000000       0.000000       0.000000               0.0000   \n",
       "25%      28.000000       3.000000       0.000000               0.0000   \n",
       "50%      37.000000       4.000000       0.000000               1.0000   \n",
       "75%      47.000000       5.000000       1.000000               1.0000   \n",
       "max      90.000000      14.000000       1.000000               1.0000   \n",
       "\n",
       "       FLAT_PANEL_MONITOR  HOME_THEATER_PACKAGE  BOOKKEEPING_APPLICATION  \\\n",
       "count         1500.000000           1500.000000              1500.000000   \n",
       "mean             0.582000              0.575333                 0.880667   \n",
       "std              0.493395              0.494457                 0.324288   \n",
       "min              0.000000              0.000000                 0.000000   \n",
       "25%              0.000000              0.000000                 1.000000   \n",
       "50%              1.000000              1.000000                 1.000000   \n",
       "75%              1.000000              1.000000                 1.000000   \n",
       "max              1.000000              1.000000                 1.000000   \n",
       "\n",
       "       PRINTER_SUPPLIES  Y_BOX_GAMES  OS_DOC_SET_KANJI  \n",
       "count            1500.0  1500.000000       1500.000000  \n",
       "mean                1.0     0.286667          0.002000  \n",
       "std                 0.0     0.452355          0.044692  \n",
       "min                 1.0     0.000000          0.000000  \n",
       "25%                 1.0     0.000000          0.000000  \n",
       "50%                 1.0     0.000000          0.000000  \n",
       "75%                 1.0     1.000000          0.000000  \n",
       "max                 1.0     1.000000          1.000000  "
      ]
     },
     "execution_count": 6,
     "metadata": {},
     "output_type": "execute_result"
    }
   ],
   "source": [
    "df.describe()"
   ]
  },
  {
   "cell_type": "code",
   "execution_count": 7,
   "metadata": {},
   "outputs": [
    {
     "data": {
      "image/png": "[encoded data removed]",
      "text/plain": [
       "<Figure size 640x480 with 2 Axes>"
      ]
     },
     "metadata": {},
     "output_type": "display_data"
    }
   ],
   "source": [
    "plt.subplot(1,2,1)\n",
    "plt.hist(df['AGE'],edgecolor='black')\n",
    "plt.xlabel('Age')\n",
    "\n",
    "plt.subplot(1,2,2)\n",
    "plt.hist(df['YRS_RESIDENCE'],edgecolor='black')\n",
    "plt.xlabel('YRS_RESIDENCE')\n",
    "\n",
    "plt.show()\n"
   ]
  },
  {
   "cell_type": "code",
   "execution_count": 8,
   "metadata": {},
   "outputs": [
    {
     "data": {
      "text/html": [
       "<div>\n",
       "<style scoped>\n",
       "    .dataframe tbody tr th:only-of-type {\n",
       "        vertical-align: middle;\n",
       "    }\n",
       "\n",
       "    .dataframe tbody tr th {\n",
       "        vertical-align: top;\n",
       "    }\n",
       "\n",
       "    .dataframe thead th {\n",
       "        text-align: right;\n",
       "    }\n",
       "</style>\n",
       "<table border=\"1\" class=\"dataframe\">\n",
       "  <thead>\n",
       "    <tr style=\"text-align: right;\">\n",
       "      <th></th>\n",
       "      <th>CUST_GENDER</th>\n",
       "      <th>AGE</th>\n",
       "      <th>CUST_MARITAL_STATUS</th>\n",
       "      <th>COUNTRY_NAME</th>\n",
       "      <th>CUST_INCOME_LEVEL</th>\n",
       "      <th>EDUCATION</th>\n",
       "      <th>OCCUPATION</th>\n",
       "      <th>HOUSEHOLD_SIZE</th>\n",
       "      <th>YRS_RESIDENCE</th>\n",
       "      <th>AFFINITY_CARD</th>\n",
       "      <th>BULK_PACK_DISKETTES</th>\n",
       "      <th>FLAT_PANEL_MONITOR</th>\n",
       "      <th>HOME_THEATER_PACKAGE</th>\n",
       "      <th>BOOKKEEPING_APPLICATION</th>\n",
       "      <th>PRINTER_SUPPLIES</th>\n",
       "      <th>Y_BOX_GAMES</th>\n",
       "      <th>OS_DOC_SET_KANJI</th>\n",
       "    </tr>\n",
       "  </thead>\n",
       "  <tbody>\n",
       "    <tr>\n",
       "      <th>0</th>\n",
       "      <td>M</td>\n",
       "      <td>34</td>\n",
       "      <td>Married</td>\n",
       "      <td>United States of America</td>\n",
       "      <td>J: 190,000 - 249,999</td>\n",
       "      <td>HS-grad</td>\n",
       "      <td>Exec.</td>\n",
       "      <td>3</td>\n",
       "      <td>3</td>\n",
       "      <td>0</td>\n",
       "      <td>1</td>\n",
       "      <td>1</td>\n",
       "      <td>1</td>\n",
       "      <td>1</td>\n",
       "      <td>1</td>\n",
       "      <td>0</td>\n",
       "      <td>0</td>\n",
       "    </tr>\n",
       "  </tbody>\n",
       "</table>\n",
       "</div>"
      ],
      "text/plain": [
       "  CUST_GENDER  AGE CUST_MARITAL_STATUS              COUNTRY_NAME  \\\n",
       "0           M   34             Married  United States of America   \n",
       "\n",
       "      CUST_INCOME_LEVEL EDUCATION OCCUPATION HOUSEHOLD_SIZE  YRS_RESIDENCE  \\\n",
       "0  J: 190,000 - 249,999   HS-grad      Exec.              3              3   \n",
       "\n",
       "   AFFINITY_CARD  BULK_PACK_DISKETTES  FLAT_PANEL_MONITOR  \\\n",
       "0              0                    1                   1   \n",
       "\n",
       "   HOME_THEATER_PACKAGE  BOOKKEEPING_APPLICATION  PRINTER_SUPPLIES  \\\n",
       "0                     1                        1                 1   \n",
       "\n",
       "   Y_BOX_GAMES  OS_DOC_SET_KANJI  \n",
       "0            0                 0  "
      ]
     },
     "execution_count": 8,
     "metadata": {},
     "output_type": "execute_result"
    }
   ],
   "source": [
    "df.mode()"
   ]
  },
  {
   "cell_type": "code",
   "execution_count": 9,
   "metadata": {},
   "outputs": [
    {
     "data": {
      "text/plain": [
       "Text(0.5, 1.0, 'CUST_MARITAL_STATUS')"
      ]
     },
     "execution_count": 9,
     "metadata": {},
     "output_type": "execute_result"
    },
    {
     "data": {
      "image/png": "[encoded data removed]",
      "text/plain": [
       "<Figure size 1000x400 with 2 Axes>"
      ]
     },
     "metadata": {},
     "output_type": "display_data"
    }
   ],
   "source": [
    "plt.figure(figsize=(10,4))\n",
    "plt.subplot(1,2,1);df['CUST_GENDER'].value_counts().plot(kind='bar' , color = ['C0' ,'C1']);plt.title('Gender')\n",
    "plt.subplot(1,2,2);df['CUST_MARITAL_STATUS'].value_counts().plot(kind='bar' , color = ['C2' ,'C3']);plt.title('CUST_MARITAL_STATUS')"
   ]
  },
  {
   "cell_type": "code",
   "execution_count": 10,
   "metadata": {},
   "outputs": [
    {
     "data": {
      "text/plain": [
       "Text(0.5, 1.0, 'CUST_INCOME_LEVEL')"
      ]
     },
     "execution_count": 10,
     "metadata": {},
     "output_type": "execute_result"
    },
    {
     "data": {
      "image/png": "[encoded data removed]",
      "text/plain": [
       "<Figure size 1000x400 with 2 Axes>"
      ]
     },
     "metadata": {},
     "output_type": "display_data"
    }
   ],
   "source": [
    "plt.figure(figsize=(10,4))\n",
    "plt.subplot(1,2,1);df['COUNTRY_NAME'].value_counts().plot(kind='bar' , color = ['C0' ,'C1']);plt.title('COUNTRY_NAME')\n",
    "plt.subplot(1,2,2);df['CUST_INCOME_LEVEL'].value_counts().plot(kind='bar' , color = ['C2' ,'C3']);plt.title('CUST_INCOME_LEVEL')"
   ]
  },
  {
   "cell_type": "code",
   "execution_count": 11,
   "metadata": {},
   "outputs": [
    {
     "data": {
      "text/plain": [
       "Text(0.5, 1.0, 'OCCUPATION')"
      ]
     },
     "execution_count": 11,
     "metadata": {},
     "output_type": "execute_result"
    },
    {
     "data": {
      "image/png": "[encoded data removed]",
      "text/plain": [
       "<Figure size 1000x400 with 2 Axes>"
      ]
     },
     "metadata": {},
     "output_type": "display_data"
    }
   ],
   "source": [
    "plt.figure(figsize=(10,4))\n",
    "plt.subplot(1,2,1);df['EDUCATION'].value_counts().plot(kind='bar' , color = ['C0' ,'C1']);plt.title('EDUCATION')\n",
    "plt.subplot(1,2,2);df['OCCUPATION'].value_counts().plot(kind='bar' , color = ['C2' ,'C3']);plt.title('OCCUPATION')"
   ]
  },
  {
   "cell_type": "markdown",
   "metadata": {},
   "source": [
    "•Describe missing or error data with suggestion of handling methods of each attribute. DO NOT clean them at this stage!\n",
    "Missing data should include all types of missing data such as Null,\n",
    "Blank, unknow etc. Error should include any invalid or mismatching data.\n"
   ]
  },
  {
   "cell_type": "code",
   "execution_count": 12,
   "metadata": {},
   "outputs": [
    {
     "data": {
      "text/plain": [
       "CUST_GENDER                0\n",
       "AGE                        0\n",
       "CUST_MARITAL_STATUS        0\n",
       "COUNTRY_NAME               0\n",
       "CUST_INCOME_LEVEL          0\n",
       "EDUCATION                  0\n",
       "OCCUPATION                 0\n",
       "HOUSEHOLD_SIZE             0\n",
       "YRS_RESIDENCE              0\n",
       "AFFINITY_CARD              0\n",
       "BULK_PACK_DISKETTES        0\n",
       "FLAT_PANEL_MONITOR         0\n",
       "HOME_THEATER_PACKAGE       0\n",
       "BOOKKEEPING_APPLICATION    0\n",
       "PRINTER_SUPPLIES           0\n",
       "Y_BOX_GAMES                0\n",
       "OS_DOC_SET_KANJI           0\n",
       "dtype: int64"
      ]
     },
     "execution_count": 12,
     "metadata": {},
     "output_type": "execute_result"
    }
   ],
   "source": [
    "df.isnull().sum()"
   ]
  },
  {
   "cell_type": "code",
   "execution_count": 13,
   "metadata": {},
   "outputs": [
    {
     "data": {
      "text/plain": [
       "(80, 17)"
      ]
     },
     "execution_count": 13,
     "metadata": {},
     "output_type": "execute_result"
    }
   ],
   "source": [
    "df[df['OCCUPATION']=='?'].shape"
   ]
  },
  {
   "cell_type": "markdown",
   "metadata": {},
   "source": [
    "Initially there isn't any missing values specifically , but the column occupation has some inapropriate value and we can replace this categorical values with mode. If the values are numerical we can fill it with mean or median"
   ]
  },
  {
   "cell_type": "markdown",
   "metadata": {},
   "source": [
    "2.\tData preparation \t\n",
    "\t\t\t\t\t\t \n",
    "•Write Python programs to reduce variables with justifications and comments (Only remove variables with ZERO influences on the target variable and COMMENTS which requires dedicated text mining tools) \n"
   ]
  },
  {
   "cell_type": "code",
   "execution_count": 14,
   "metadata": {},
   "outputs": [
    {
     "data": {
      "text/plain": [
       "AGE                         24.671146\n",
       "YRS_RESIDENCE               34.269083\n",
       "AFFINITY_CARD              100.000000\n",
       "BULK_PACK_DISKETTES         -1.788657\n",
       "FLAT_PANEL_MONITOR          -2.846722\n",
       "HOME_THEATER_PACKAGE        28.335756\n",
       "BOOKKEEPING_APPLICATION     16.240415\n",
       "PRINTER_SUPPLIES                  NaN\n",
       "Y_BOX_GAMES                -28.112111\n",
       "OS_DOC_SET_KANJI            -2.607549\n",
       "Name: AFFINITY_CARD, dtype: float64"
      ]
     },
     "execution_count": 14,
     "metadata": {},
     "output_type": "execute_result"
    }
   ],
   "source": [
    "df.corr(numeric_only=True)['AFFINITY_CARD']*100"
   ]
  },
  {
   "cell_type": "code",
   "execution_count": 15,
   "metadata": {},
   "outputs": [],
   "source": [
    "df.drop(columns=['PRINTER_SUPPLIES'],inplace=True)"
   ]
  },
  {
   "cell_type": "code",
   "execution_count": 16,
   "metadata": {},
   "outputs": [
    {
     "data": {
      "text/html": [
       "<div>\n",
       "<style scoped>\n",
       "    .dataframe tbody tr th:only-of-type {\n",
       "        vertical-align: middle;\n",
       "    }\n",
       "\n",
       "    .dataframe tbody tr th {\n",
       "        vertical-align: top;\n",
       "    }\n",
       "\n",
       "    .dataframe thead th {\n",
       "        text-align: right;\n",
       "    }\n",
       "</style>\n",
       "<table border=\"1\" class=\"dataframe\">\n",
       "  <thead>\n",
       "    <tr style=\"text-align: right;\">\n",
       "      <th></th>\n",
       "      <th>CUST_GENDER</th>\n",
       "      <th>AGE</th>\n",
       "      <th>CUST_MARITAL_STATUS</th>\n",
       "      <th>COUNTRY_NAME</th>\n",
       "      <th>CUST_INCOME_LEVEL</th>\n",
       "      <th>EDUCATION</th>\n",
       "      <th>OCCUPATION</th>\n",
       "      <th>HOUSEHOLD_SIZE</th>\n",
       "      <th>YRS_RESIDENCE</th>\n",
       "      <th>AFFINITY_CARD</th>\n",
       "      <th>BULK_PACK_DISKETTES</th>\n",
       "      <th>FLAT_PANEL_MONITOR</th>\n",
       "      <th>HOME_THEATER_PACKAGE</th>\n",
       "      <th>BOOKKEEPING_APPLICATION</th>\n",
       "      <th>Y_BOX_GAMES</th>\n",
       "      <th>OS_DOC_SET_KANJI</th>\n",
       "    </tr>\n",
       "  </thead>\n",
       "  <tbody>\n",
       "    <tr>\n",
       "      <th>0</th>\n",
       "      <td>F</td>\n",
       "      <td>41</td>\n",
       "      <td>NeverM</td>\n",
       "      <td>United States of America</td>\n",
       "      <td>J: 190,000 - 249,999</td>\n",
       "      <td>Masters</td>\n",
       "      <td>Prof.</td>\n",
       "      <td>2</td>\n",
       "      <td>4</td>\n",
       "      <td>0</td>\n",
       "      <td>1</td>\n",
       "      <td>1</td>\n",
       "      <td>1</td>\n",
       "      <td>1</td>\n",
       "      <td>0</td>\n",
       "      <td>0</td>\n",
       "    </tr>\n",
       "    <tr>\n",
       "      <th>1</th>\n",
       "      <td>M</td>\n",
       "      <td>27</td>\n",
       "      <td>NeverM</td>\n",
       "      <td>United States of America</td>\n",
       "      <td>I: 170,000 - 189,999</td>\n",
       "      <td>Bach.</td>\n",
       "      <td>Sales</td>\n",
       "      <td>2</td>\n",
       "      <td>3</td>\n",
       "      <td>0</td>\n",
       "      <td>1</td>\n",
       "      <td>1</td>\n",
       "      <td>0</td>\n",
       "      <td>1</td>\n",
       "      <td>1</td>\n",
       "      <td>0</td>\n",
       "    </tr>\n",
       "    <tr>\n",
       "      <th>2</th>\n",
       "      <td>F</td>\n",
       "      <td>20</td>\n",
       "      <td>NeverM</td>\n",
       "      <td>United States of America</td>\n",
       "      <td>H: 150,000 - 169,999</td>\n",
       "      <td>HS-grad</td>\n",
       "      <td>Cleric.</td>\n",
       "      <td>2</td>\n",
       "      <td>2</td>\n",
       "      <td>0</td>\n",
       "      <td>1</td>\n",
       "      <td>0</td>\n",
       "      <td>0</td>\n",
       "      <td>1</td>\n",
       "      <td>1</td>\n",
       "      <td>0</td>\n",
       "    </tr>\n",
       "    <tr>\n",
       "      <th>3</th>\n",
       "      <td>M</td>\n",
       "      <td>45</td>\n",
       "      <td>Married</td>\n",
       "      <td>United States of America</td>\n",
       "      <td>B: 30,000 - 49,999</td>\n",
       "      <td>Bach.</td>\n",
       "      <td>Exec.</td>\n",
       "      <td>3</td>\n",
       "      <td>5</td>\n",
       "      <td>1</td>\n",
       "      <td>0</td>\n",
       "      <td>0</td>\n",
       "      <td>1</td>\n",
       "      <td>1</td>\n",
       "      <td>0</td>\n",
       "      <td>0</td>\n",
       "    </tr>\n",
       "    <tr>\n",
       "      <th>4</th>\n",
       "      <td>M</td>\n",
       "      <td>34</td>\n",
       "      <td>NeverM</td>\n",
       "      <td>United States of America</td>\n",
       "      <td>K: 250,000 - 299,999</td>\n",
       "      <td>Masters</td>\n",
       "      <td>Sales</td>\n",
       "      <td>9+</td>\n",
       "      <td>5</td>\n",
       "      <td>1</td>\n",
       "      <td>1</td>\n",
       "      <td>1</td>\n",
       "      <td>0</td>\n",
       "      <td>1</td>\n",
       "      <td>0</td>\n",
       "      <td>0</td>\n",
       "    </tr>\n",
       "  </tbody>\n",
       "</table>\n",
       "</div>"
      ],
      "text/plain": [
       "  CUST_GENDER  AGE CUST_MARITAL_STATUS              COUNTRY_NAME  \\\n",
       "0           F   41              NeverM  United States of America   \n",
       "1           M   27              NeverM  United States of America   \n",
       "2           F   20              NeverM  United States of America   \n",
       "3           M   45             Married  United States of America   \n",
       "4           M   34              NeverM  United States of America   \n",
       "\n",
       "      CUST_INCOME_LEVEL EDUCATION OCCUPATION HOUSEHOLD_SIZE  YRS_RESIDENCE  \\\n",
       "0  J: 190,000 - 249,999   Masters      Prof.              2              4   \n",
       "1  I: 170,000 - 189,999     Bach.      Sales              2              3   \n",
       "2  H: 150,000 - 169,999   HS-grad    Cleric.              2              2   \n",
       "3    B: 30,000 - 49,999     Bach.      Exec.              3              5   \n",
       "4  K: 250,000 - 299,999   Masters      Sales             9+              5   \n",
       "\n",
       "   AFFINITY_CARD  BULK_PACK_DISKETTES  FLAT_PANEL_MONITOR  \\\n",
       "0              0                    1                   1   \n",
       "1              0                    1                   1   \n",
       "2              0                    1                   0   \n",
       "3              1                    0                   0   \n",
       "4              1                    1                   1   \n",
       "\n",
       "   HOME_THEATER_PACKAGE  BOOKKEEPING_APPLICATION  Y_BOX_GAMES  \\\n",
       "0                     1                        1            0   \n",
       "1                     0                        1            1   \n",
       "2                     0                        1            1   \n",
       "3                     1                        1            0   \n",
       "4                     0                        1            0   \n",
       "\n",
       "   OS_DOC_SET_KANJI  \n",
       "0                 0  \n",
       "1                 0  \n",
       "2                 0  \n",
       "3                 0  \n",
       "4                 0  "
      ]
     },
     "execution_count": 16,
     "metadata": {},
     "output_type": "execute_result"
    }
   ],
   "source": [
    "df.head()"
   ]
  },
  {
   "cell_type": "markdown",
   "metadata": {},
   "source": [
    "•Write Python programs to clean data with justifications and comments (e.g remove records with missing values or errors if it’s less than 5%) "
   ]
  },
  {
   "cell_type": "code",
   "execution_count": 17,
   "metadata": {},
   "outputs": [
    {
     "data": {
      "text/plain": [
       "0    Exec.\n",
       "Name: OCCUPATION, dtype: object"
      ]
     },
     "execution_count": 17,
     "metadata": {},
     "output_type": "execute_result"
    }
   ],
   "source": [
    "df['OCCUPATION'].mode()"
   ]
  },
  {
   "cell_type": "code",
   "execution_count": 18,
   "metadata": {},
   "outputs": [],
   "source": [
    "df['OCCUPATION']=df['OCCUPATION'].str.replace(\"?\" ,\"Exec.\")"
   ]
  },
  {
   "cell_type": "code",
   "execution_count": 19,
   "metadata": {},
   "outputs": [],
   "source": [
    "df.duplicated().sum()\n",
    "df.drop_duplicates(inplace=True)"
   ]
  },
  {
   "cell_type": "code",
   "execution_count": 20,
   "metadata": {},
   "outputs": [
    {
     "data": {
      "text/plain": [
       "CUST_GENDER                0\n",
       "AGE                        0\n",
       "CUST_MARITAL_STATUS        0\n",
       "COUNTRY_NAME               0\n",
       "CUST_INCOME_LEVEL          0\n",
       "EDUCATION                  0\n",
       "OCCUPATION                 0\n",
       "HOUSEHOLD_SIZE             0\n",
       "YRS_RESIDENCE              0\n",
       "AFFINITY_CARD              0\n",
       "BULK_PACK_DISKETTES        0\n",
       "FLAT_PANEL_MONITOR         0\n",
       "HOME_THEATER_PACKAGE       0\n",
       "BOOKKEEPING_APPLICATION    0\n",
       "Y_BOX_GAMES                0\n",
       "OS_DOC_SET_KANJI           0\n",
       "dtype: int64"
      ]
     },
     "execution_count": 20,
     "metadata": {},
     "output_type": "execute_result"
    }
   ],
   "source": [
    "df.isnull().sum()"
   ]
  },
  {
   "cell_type": "markdown",
   "metadata": {},
   "source": [
    "•\tWrite Python programs using basic python code and pandas’ library methods to transform variable into the following and discuss the differences between two methods: You should provide Python code, screenshots of results, and discussion of coding differences for each question."
   ]
  },
  {
   "cell_type": "markdown",
   "metadata": {},
   "source": [
    "a)\tCUST_GENDER into binary F - 0, M -1"
   ]
  },
  {
   "cell_type": "code",
   "execution_count": 21,
   "metadata": {},
   "outputs": [],
   "source": [
    "def gender(text):\n",
    "    if text == 'F':\n",
    "        return 0\n",
    "    else:\n",
    "        return 1"
   ]
  },
  {
   "cell_type": "code",
   "execution_count": 22,
   "metadata": {},
   "outputs": [
    {
     "data": {
      "text/plain": [
       "CUST_GENDER\n",
       "M    1005\n",
       "F     485\n",
       "Name: count, dtype: int64"
      ]
     },
     "execution_count": 22,
     "metadata": {},
     "output_type": "execute_result"
    }
   ],
   "source": [
    "df['CUST_GENDER'].value_counts()"
   ]
  },
  {
   "cell_type": "code",
   "execution_count": 23,
   "metadata": {},
   "outputs": [],
   "source": [
    "df['CUST_GENDER'] = df['CUST_GENDER'].apply(gender)"
   ]
  },
  {
   "cell_type": "code",
   "execution_count": 24,
   "metadata": {},
   "outputs": [
    {
     "data": {
      "text/html": [
       "<div>\n",
       "<style scoped>\n",
       "    .dataframe tbody tr th:only-of-type {\n",
       "        vertical-align: middle;\n",
       "    }\n",
       "\n",
       "    .dataframe tbody tr th {\n",
       "        vertical-align: top;\n",
       "    }\n",
       "\n",
       "    .dataframe thead th {\n",
       "        text-align: right;\n",
       "    }\n",
       "</style>\n",
       "<table border=\"1\" class=\"dataframe\">\n",
       "  <thead>\n",
       "    <tr style=\"text-align: right;\">\n",
       "      <th></th>\n",
       "      <th>CUST_GENDER</th>\n",
       "      <th>AGE</th>\n",
       "      <th>CUST_MARITAL_STATUS</th>\n",
       "      <th>COUNTRY_NAME</th>\n",
       "      <th>CUST_INCOME_LEVEL</th>\n",
       "      <th>EDUCATION</th>\n",
       "      <th>OCCUPATION</th>\n",
       "      <th>HOUSEHOLD_SIZE</th>\n",
       "      <th>YRS_RESIDENCE</th>\n",
       "      <th>AFFINITY_CARD</th>\n",
       "      <th>BULK_PACK_DISKETTES</th>\n",
       "      <th>FLAT_PANEL_MONITOR</th>\n",
       "      <th>HOME_THEATER_PACKAGE</th>\n",
       "      <th>BOOKKEEPING_APPLICATION</th>\n",
       "      <th>Y_BOX_GAMES</th>\n",
       "      <th>OS_DOC_SET_KANJI</th>\n",
       "    </tr>\n",
       "  </thead>\n",
       "  <tbody>\n",
       "    <tr>\n",
       "      <th>0</th>\n",
       "      <td>0</td>\n",
       "      <td>41</td>\n",
       "      <td>NeverM</td>\n",
       "      <td>United States of America</td>\n",
       "      <td>J: 190,000 - 249,999</td>\n",
       "      <td>Masters</td>\n",
       "      <td>Prof.</td>\n",
       "      <td>2</td>\n",
       "      <td>4</td>\n",
       "      <td>0</td>\n",
       "      <td>1</td>\n",
       "      <td>1</td>\n",
       "      <td>1</td>\n",
       "      <td>1</td>\n",
       "      <td>0</td>\n",
       "      <td>0</td>\n",
       "    </tr>\n",
       "    <tr>\n",
       "      <th>1</th>\n",
       "      <td>1</td>\n",
       "      <td>27</td>\n",
       "      <td>NeverM</td>\n",
       "      <td>United States of America</td>\n",
       "      <td>I: 170,000 - 189,999</td>\n",
       "      <td>Bach.</td>\n",
       "      <td>Sales</td>\n",
       "      <td>2</td>\n",
       "      <td>3</td>\n",
       "      <td>0</td>\n",
       "      <td>1</td>\n",
       "      <td>1</td>\n",
       "      <td>0</td>\n",
       "      <td>1</td>\n",
       "      <td>1</td>\n",
       "      <td>0</td>\n",
       "    </tr>\n",
       "    <tr>\n",
       "      <th>2</th>\n",
       "      <td>0</td>\n",
       "      <td>20</td>\n",
       "      <td>NeverM</td>\n",
       "      <td>United States of America</td>\n",
       "      <td>H: 150,000 - 169,999</td>\n",
       "      <td>HS-grad</td>\n",
       "      <td>Cleric.</td>\n",
       "      <td>2</td>\n",
       "      <td>2</td>\n",
       "      <td>0</td>\n",
       "      <td>1</td>\n",
       "      <td>0</td>\n",
       "      <td>0</td>\n",
       "      <td>1</td>\n",
       "      <td>1</td>\n",
       "      <td>0</td>\n",
       "    </tr>\n",
       "    <tr>\n",
       "      <th>3</th>\n",
       "      <td>1</td>\n",
       "      <td>45</td>\n",
       "      <td>Married</td>\n",
       "      <td>United States of America</td>\n",
       "      <td>B: 30,000 - 49,999</td>\n",
       "      <td>Bach.</td>\n",
       "      <td>Exec.</td>\n",
       "      <td>3</td>\n",
       "      <td>5</td>\n",
       "      <td>1</td>\n",
       "      <td>0</td>\n",
       "      <td>0</td>\n",
       "      <td>1</td>\n",
       "      <td>1</td>\n",
       "      <td>0</td>\n",
       "      <td>0</td>\n",
       "    </tr>\n",
       "    <tr>\n",
       "      <th>4</th>\n",
       "      <td>1</td>\n",
       "      <td>34</td>\n",
       "      <td>NeverM</td>\n",
       "      <td>United States of America</td>\n",
       "      <td>K: 250,000 - 299,999</td>\n",
       "      <td>Masters</td>\n",
       "      <td>Sales</td>\n",
       "      <td>9+</td>\n",
       "      <td>5</td>\n",
       "      <td>1</td>\n",
       "      <td>1</td>\n",
       "      <td>1</td>\n",
       "      <td>0</td>\n",
       "      <td>1</td>\n",
       "      <td>0</td>\n",
       "      <td>0</td>\n",
       "    </tr>\n",
       "  </tbody>\n",
       "</table>\n",
       "</div>"
      ],
      "text/plain": [
       "   CUST_GENDER  AGE CUST_MARITAL_STATUS              COUNTRY_NAME  \\\n",
       "0            0   41              NeverM  United States of America   \n",
       "1            1   27              NeverM  United States of America   \n",
       "2            0   20              NeverM  United States of America   \n",
       "3            1   45             Married  United States of America   \n",
       "4            1   34              NeverM  United States of America   \n",
       "\n",
       "      CUST_INCOME_LEVEL EDUCATION OCCUPATION HOUSEHOLD_SIZE  YRS_RESIDENCE  \\\n",
       "0  J: 190,000 - 249,999   Masters      Prof.              2              4   \n",
       "1  I: 170,000 - 189,999     Bach.      Sales              2              3   \n",
       "2  H: 150,000 - 169,999   HS-grad    Cleric.              2              2   \n",
       "3    B: 30,000 - 49,999     Bach.      Exec.              3              5   \n",
       "4  K: 250,000 - 299,999   Masters      Sales             9+              5   \n",
       "\n",
       "   AFFINITY_CARD  BULK_PACK_DISKETTES  FLAT_PANEL_MONITOR  \\\n",
       "0              0                    1                   1   \n",
       "1              0                    1                   1   \n",
       "2              0                    1                   0   \n",
       "3              1                    0                   0   \n",
       "4              1                    1                   1   \n",
       "\n",
       "   HOME_THEATER_PACKAGE  BOOKKEEPING_APPLICATION  Y_BOX_GAMES  \\\n",
       "0                     1                        1            0   \n",
       "1                     0                        1            1   \n",
       "2                     0                        1            1   \n",
       "3                     1                        1            0   \n",
       "4                     0                        1            0   \n",
       "\n",
       "   OS_DOC_SET_KANJI  \n",
       "0                 0  \n",
       "1                 0  \n",
       "2                 0  \n",
       "3                 0  \n",
       "4                 0  "
      ]
     },
     "execution_count": 24,
     "metadata": {},
     "output_type": "execute_result"
    }
   ],
   "source": [
    "df.head()"
   ]
  },
  {
   "cell_type": "markdown",
   "metadata": {},
   "source": [
    "b)\tCOUNTRY_NAME into ordinal number based on their occurrence in the data set in ascending order."
   ]
  },
  {
   "cell_type": "code",
   "execution_count": 25,
   "metadata": {},
   "outputs": [
    {
     "data": {
      "text/plain": [
       "COUNTRY_NAME\n",
       "United States of America    1334\n",
       "Argentina                     46\n",
       "Italy                         37\n",
       "Brazil                        14\n",
       "Canada                         9\n",
       "Germany                        8\n",
       "Poland                         7\n",
       "United Kingdom                 6\n",
       "Denmark                        5\n",
       "Saudi Arabia                   5\n",
       "China                          4\n",
       "Singapore                      4\n",
       "New Zealand                    3\n",
       "Japan                          2\n",
       "Australia                      2\n",
       "South Africa                   1\n",
       "France                         1\n",
       "Turkey                         1\n",
       "Spain                          1\n",
       "Name: count, dtype: int64"
      ]
     },
     "execution_count": 25,
     "metadata": {},
     "output_type": "execute_result"
    }
   ],
   "source": [
    "df['COUNTRY_NAME'].value_counts()"
   ]
  },
  {
   "cell_type": "code",
   "execution_count": 26,
   "metadata": {},
   "outputs": [
    {
     "data": {
      "text/plain": [
       "array(['United States of America', 'Brazil', 'Argentina', 'Germany',\n",
       "       'Italy', 'New Zealand', 'Australia', 'Poland', 'Saudi Arabia',\n",
       "       'Denmark', 'Japan', 'China', 'Canada', 'United Kingdom',\n",
       "       'Singapore', 'South Africa', 'France', 'Turkey', 'Spain'],\n",
       "      dtype=object)"
      ]
     },
     "execution_count": 26,
     "metadata": {},
     "output_type": "execute_result"
    }
   ],
   "source": [
    "df['COUNTRY_NAME'].unique()"
   ]
  },
  {
   "cell_type": "code",
   "execution_count": 27,
   "metadata": {},
   "outputs": [],
   "source": [
    "categories = ['United States of America', 'Brazil', 'Argentina', 'Germany',\n",
    "       'Italy', 'New Zealand', 'Australia', 'Poland', 'Saudi Arabia',\n",
    "       'Denmark', 'Japan', 'China', 'Canada', 'United Kingdom',\n",
    "       'Singapore', 'South Africa', 'France', 'Turkey', 'Spain']\n",
    "oe = OrdinalEncoder(categories=[categories])\n",
    "df['COUNTRY_NAME'] = oe.fit_transform(df[['COUNTRY_NAME']])"
   ]
  },
  {
   "cell_type": "code",
   "execution_count": 28,
   "metadata": {},
   "outputs": [
    {
     "data": {
      "text/plain": [
       "array([ 0.,  1.,  2.,  3.,  4.,  5.,  6.,  7.,  8.,  9., 10., 11., 12.,\n",
       "       13., 14., 15., 16., 17., 18.])"
      ]
     },
     "execution_count": 28,
     "metadata": {},
     "output_type": "execute_result"
    }
   ],
   "source": [
    "df['COUNTRY_NAME'].unique()"
   ]
  },
  {
   "cell_type": "markdown",
   "metadata": {},
   "source": [
    "c)\tCUST_INCOME_LEVEL into 3 ordinal levels 1 – low income. 2 -middle income, and 3 – high income."
   ]
  },
  {
   "cell_type": "code",
   "execution_count": 29,
   "metadata": {},
   "outputs": [
    {
     "data": {
      "text/plain": [
       "array(['J: 190,000 - 249,999', 'I: 170,000 - 189,999',\n",
       "       'H: 150,000 - 169,999', 'B: 30,000 - 49,999',\n",
       "       'K: 250,000 - 299,999', 'L: 300,000 and above',\n",
       "       'G: 130,000 - 149,999', 'C: 50,000 - 69,999',\n",
       "       'E: 90,000 - 109,999', 'D: 70,000 - 89,999',\n",
       "       'F: 110,000 - 129,999', 'A: Below 30,000'], dtype=object)"
      ]
     },
     "execution_count": 29,
     "metadata": {},
     "output_type": "execute_result"
    }
   ],
   "source": [
    "df['CUST_INCOME_LEVEL'].unique()"
   ]
  },
  {
   "cell_type": "code",
   "execution_count": 30,
   "metadata": {},
   "outputs": [],
   "source": [
    "def income_level(text):\n",
    "    if text == 'A: Below 30,000' or text == 'B: 30,000 - 49,999' or text == 'C: 50,000 - 69,999' or text == 'D: 70,000 - 89,999':\n",
    "        return 1\n",
    "    elif text == 'E: 90,000 - 109,999' or text == 'F: 110,000 - 129,999' or text == 'G: 130,000 - 149,999' or text == 'H: 150,000 - 169,999':\n",
    "        return 2\n",
    "    else:\n",
    "        return 3"
   ]
  },
  {
   "cell_type": "code",
   "execution_count": 31,
   "metadata": {},
   "outputs": [],
   "source": [
    "df['CUST_INCOME_LEVEL'] = df['CUST_INCOME_LEVEL'].apply(income_level)"
   ]
  },
  {
   "cell_type": "markdown",
   "metadata": {},
   "source": [
    "d)\tEDUCATION into ordinal numbers based on USA education level (do your research if necessary) in ascending order."
   ]
  },
  {
   "cell_type": "code",
   "execution_count": 32,
   "metadata": {},
   "outputs": [
    {
     "data": {
      "text/plain": [
       "array(['Masters', 'Bach.', 'HS-grad', '< Bach.', 'Profsc', '11th',\n",
       "       '5th-6th', 'Assoc-A', '10th', 'Assoc-V', '7th-8th', 'PhD', '9th',\n",
       "       '1st-4th', '12th', 'Presch.'], dtype=object)"
      ]
     },
     "execution_count": 32,
     "metadata": {},
     "output_type": "execute_result"
    }
   ],
   "source": [
    "df['EDUCATION'].unique()"
   ]
  },
  {
   "cell_type": "code",
   "execution_count": 33,
   "metadata": {},
   "outputs": [],
   "source": [
    "categories = ['Presch.','1st-4th','5th-6th','7th-8th' , '9th', '10th' , '11th' , '12th' , 'HS-grad' ,'Assoc-A' , 'Assoc-V'\n",
    "              ,'< Bach.' , 'Bach.' , 'Masters' , 'Profsc' , 'PhD']\n",
    "oe = OrdinalEncoder(categories=[categories])\n",
    "df['EDUCATION'] = oe.fit_transform(df[['EDUCATION']])"
   ]
  },
  {
   "cell_type": "code",
   "execution_count": 34,
   "metadata": {},
   "outputs": [
    {
     "data": {
      "text/plain": [
       "array([13., 12.,  8., 11., 14.,  6.,  2.,  9.,  5., 10.,  3., 15.,  4.,\n",
       "        1.,  7.,  0.])"
      ]
     },
     "execution_count": 34,
     "metadata": {},
     "output_type": "execute_result"
    }
   ],
   "source": [
    "df['EDUCATION'].unique()"
   ]
  },
  {
   "cell_type": "markdown",
   "metadata": {},
   "source": [
    "e)\tHOUSEHOLD_SIZE into ordinal numbers based on number of people."
   ]
  },
  {
   "cell_type": "code",
   "execution_count": 35,
   "metadata": {},
   "outputs": [
    {
     "data": {
      "text/plain": [
       "array(['2', '3', '9+', '6-8', '1', '4-5'], dtype=object)"
      ]
     },
     "execution_count": 35,
     "metadata": {},
     "output_type": "execute_result"
    }
   ],
   "source": [
    "df['HOUSEHOLD_SIZE'].unique()"
   ]
  },
  {
   "cell_type": "markdown",
   "metadata": {},
   "source": [
    "Here I am transforming this values into three ordinal categories\n",
    "1 --> small \n",
    "2 --> medium\n",
    "3 --> large"
   ]
  },
  {
   "cell_type": "code",
   "execution_count": 36,
   "metadata": {},
   "outputs": [],
   "source": [
    "def house_size(text):\n",
    "    if text == '1' or text == '2' or text == '3':\n",
    "        return 1\n",
    "    elif text == '4-5' or text == '6-8':\n",
    "        return 2\n",
    "    else:\n",
    "        return 3"
   ]
  },
  {
   "cell_type": "code",
   "execution_count": 37,
   "metadata": {},
   "outputs": [],
   "source": [
    "df['HOUSEHOLD_SIZE'] = df['HOUSEHOLD_SIZE'].apply(house_size)"
   ]
  },
  {
   "cell_type": "code",
   "execution_count": 38,
   "metadata": {},
   "outputs": [
    {
     "data": {
      "text/plain": [
       "HOUSEHOLD_SIZE\n",
       "1    1208\n",
       "3     163\n",
       "2     119\n",
       "Name: count, dtype: int64"
      ]
     },
     "execution_count": 38,
     "metadata": {},
     "output_type": "execute_result"
    }
   ],
   "source": [
    "df['HOUSEHOLD_SIZE'].value_counts()"
   ]
  },
  {
   "cell_type": "markdown",
   "metadata": {},
   "source": [
    "3.\tData analysis \t\t\t\t\t\t\t\n",
    "\n",
    "Write a Python program to show summary statistics of sum, mean, standard deviation, skewness, and kurtosis of all variables. \n"
   ]
  },
  {
   "cell_type": "code",
   "execution_count": 39,
   "metadata": {},
   "outputs": [
    {
     "data": {
      "text/html": [
       "<div>\n",
       "<style scoped>\n",
       "    .dataframe tbody tr th:only-of-type {\n",
       "        vertical-align: middle;\n",
       "    }\n",
       "\n",
       "    .dataframe tbody tr th {\n",
       "        vertical-align: top;\n",
       "    }\n",
       "\n",
       "    .dataframe thead th {\n",
       "        text-align: right;\n",
       "    }\n",
       "</style>\n",
       "<table border=\"1\" class=\"dataframe\">\n",
       "  <thead>\n",
       "    <tr style=\"text-align: right;\">\n",
       "      <th></th>\n",
       "      <th>CUST_GENDER</th>\n",
       "      <th>AGE</th>\n",
       "      <th>CUST_MARITAL_STATUS</th>\n",
       "      <th>COUNTRY_NAME</th>\n",
       "      <th>CUST_INCOME_LEVEL</th>\n",
       "      <th>EDUCATION</th>\n",
       "      <th>OCCUPATION</th>\n",
       "      <th>HOUSEHOLD_SIZE</th>\n",
       "      <th>YRS_RESIDENCE</th>\n",
       "      <th>AFFINITY_CARD</th>\n",
       "      <th>BULK_PACK_DISKETTES</th>\n",
       "      <th>FLAT_PANEL_MONITOR</th>\n",
       "      <th>HOME_THEATER_PACKAGE</th>\n",
       "      <th>BOOKKEEPING_APPLICATION</th>\n",
       "      <th>Y_BOX_GAMES</th>\n",
       "      <th>OS_DOC_SET_KANJI</th>\n",
       "    </tr>\n",
       "  </thead>\n",
       "  <tbody>\n",
       "    <tr>\n",
       "      <th>0</th>\n",
       "      <td>0</td>\n",
       "      <td>41</td>\n",
       "      <td>NeverM</td>\n",
       "      <td>0.0</td>\n",
       "      <td>3</td>\n",
       "      <td>13.0</td>\n",
       "      <td>Prof.</td>\n",
       "      <td>1</td>\n",
       "      <td>4</td>\n",
       "      <td>0</td>\n",
       "      <td>1</td>\n",
       "      <td>1</td>\n",
       "      <td>1</td>\n",
       "      <td>1</td>\n",
       "      <td>0</td>\n",
       "      <td>0</td>\n",
       "    </tr>\n",
       "    <tr>\n",
       "      <th>1</th>\n",
       "      <td>1</td>\n",
       "      <td>27</td>\n",
       "      <td>NeverM</td>\n",
       "      <td>0.0</td>\n",
       "      <td>3</td>\n",
       "      <td>12.0</td>\n",
       "      <td>Sales</td>\n",
       "      <td>1</td>\n",
       "      <td>3</td>\n",
       "      <td>0</td>\n",
       "      <td>1</td>\n",
       "      <td>1</td>\n",
       "      <td>0</td>\n",
       "      <td>1</td>\n",
       "      <td>1</td>\n",
       "      <td>0</td>\n",
       "    </tr>\n",
       "    <tr>\n",
       "      <th>2</th>\n",
       "      <td>0</td>\n",
       "      <td>20</td>\n",
       "      <td>NeverM</td>\n",
       "      <td>0.0</td>\n",
       "      <td>2</td>\n",
       "      <td>8.0</td>\n",
       "      <td>Cleric.</td>\n",
       "      <td>1</td>\n",
       "      <td>2</td>\n",
       "      <td>0</td>\n",
       "      <td>1</td>\n",
       "      <td>0</td>\n",
       "      <td>0</td>\n",
       "      <td>1</td>\n",
       "      <td>1</td>\n",
       "      <td>0</td>\n",
       "    </tr>\n",
       "    <tr>\n",
       "      <th>3</th>\n",
       "      <td>1</td>\n",
       "      <td>45</td>\n",
       "      <td>Married</td>\n",
       "      <td>0.0</td>\n",
       "      <td>1</td>\n",
       "      <td>12.0</td>\n",
       "      <td>Exec.</td>\n",
       "      <td>1</td>\n",
       "      <td>5</td>\n",
       "      <td>1</td>\n",
       "      <td>0</td>\n",
       "      <td>0</td>\n",
       "      <td>1</td>\n",
       "      <td>1</td>\n",
       "      <td>0</td>\n",
       "      <td>0</td>\n",
       "    </tr>\n",
       "    <tr>\n",
       "      <th>4</th>\n",
       "      <td>1</td>\n",
       "      <td>34</td>\n",
       "      <td>NeverM</td>\n",
       "      <td>0.0</td>\n",
       "      <td>3</td>\n",
       "      <td>13.0</td>\n",
       "      <td>Sales</td>\n",
       "      <td>3</td>\n",
       "      <td>5</td>\n",
       "      <td>1</td>\n",
       "      <td>1</td>\n",
       "      <td>1</td>\n",
       "      <td>0</td>\n",
       "      <td>1</td>\n",
       "      <td>0</td>\n",
       "      <td>0</td>\n",
       "    </tr>\n",
       "  </tbody>\n",
       "</table>\n",
       "</div>"
      ],
      "text/plain": [
       "   CUST_GENDER  AGE CUST_MARITAL_STATUS  COUNTRY_NAME  CUST_INCOME_LEVEL  \\\n",
       "0            0   41              NeverM           0.0                  3   \n",
       "1            1   27              NeverM           0.0                  3   \n",
       "2            0   20              NeverM           0.0                  2   \n",
       "3            1   45             Married           0.0                  1   \n",
       "4            1   34              NeverM           0.0                  3   \n",
       "\n",
       "   EDUCATION OCCUPATION  HOUSEHOLD_SIZE  YRS_RESIDENCE  AFFINITY_CARD  \\\n",
       "0       13.0      Prof.               1              4              0   \n",
       "1       12.0      Sales               1              3              0   \n",
       "2        8.0    Cleric.               1              2              0   \n",
       "3       12.0      Exec.               1              5              1   \n",
       "4       13.0      Sales               3              5              1   \n",
       "\n",
       "   BULK_PACK_DISKETTES  FLAT_PANEL_MONITOR  HOME_THEATER_PACKAGE  \\\n",
       "0                    1                   1                     1   \n",
       "1                    1                   1                     0   \n",
       "2                    1                   0                     0   \n",
       "3                    0                   0                     1   \n",
       "4                    1                   1                     0   \n",
       "\n",
       "   BOOKKEEPING_APPLICATION  Y_BOX_GAMES  OS_DOC_SET_KANJI  \n",
       "0                        1            0                 0  \n",
       "1                        1            1                 0  \n",
       "2                        1            1                 0  \n",
       "3                        1            0                 0  \n",
       "4                        1            0                 0  "
      ]
     },
     "execution_count": 39,
     "metadata": {},
     "output_type": "execute_result"
    }
   ],
   "source": [
    "df.head()"
   ]
  },
  {
   "cell_type": "code",
   "execution_count": 40,
   "metadata": {},
   "outputs": [],
   "source": [
    "df['COUNTRY_NAME'] = df['COUNTRY_NAME'].astype('int32')"
   ]
  },
  {
   "cell_type": "code",
   "execution_count": 41,
   "metadata": {},
   "outputs": [],
   "source": [
    "df['EDUCATION']=df['EDUCATION'].astype('int32')"
   ]
  },
  {
   "cell_type": "code",
   "execution_count": 42,
   "metadata": {},
   "outputs": [
    {
     "name": "stdout",
     "output_type": "stream",
     "text": [
      "<class 'pandas.core.frame.DataFrame'>\n",
      "Index: 1490 entries, 0 to 1499\n",
      "Data columns (total 16 columns):\n",
      " #   Column                   Non-Null Count  Dtype \n",
      "---  ------                   --------------  ----- \n",
      " 0   CUST_GENDER              1490 non-null   int64 \n",
      " 1   AGE                      1490 non-null   int64 \n",
      " 2   CUST_MARITAL_STATUS      1490 non-null   object\n",
      " 3   COUNTRY_NAME             1490 non-null   int32 \n",
      " 4   CUST_INCOME_LEVEL        1490 non-null   int64 \n",
      " 5   EDUCATION                1490 non-null   int32 \n",
      " 6   OCCUPATION               1490 non-null   object\n",
      " 7   HOUSEHOLD_SIZE           1490 non-null   int64 \n",
      " 8   YRS_RESIDENCE            1490 non-null   int64 \n",
      " 9   AFFINITY_CARD            1490 non-null   int64 \n",
      " 10  BULK_PACK_DISKETTES      1490 non-null   int64 \n",
      " 11  FLAT_PANEL_MONITOR       1490 non-null   int64 \n",
      " 12  HOME_THEATER_PACKAGE     1490 non-null   int64 \n",
      " 13  BOOKKEEPING_APPLICATION  1490 non-null   int64 \n",
      " 14  Y_BOX_GAMES              1490 non-null   int64 \n",
      " 15  OS_DOC_SET_KANJI         1490 non-null   int64 \n",
      "dtypes: int32(2), int64(12), object(2)\n",
      "memory usage: 186.2+ KB\n"
     ]
    }
   ],
   "source": [
    "df.info()"
   ]
  },
  {
   "cell_type": "markdown",
   "metadata": {},
   "source": [
    "3.\tData analysis \t\t\t\t\t\t\t\n",
    "\n",
    "Write a Python program to show summary statistics of sum, mean, standard deviation, skewness, and kurtosis of all variables. \n"
   ]
  },
  {
   "cell_type": "code",
   "execution_count": 43,
   "metadata": {},
   "outputs": [
    {
     "data": {
      "text/html": [
       "<div>\n",
       "<style scoped>\n",
       "    .dataframe tbody tr th:only-of-type {\n",
       "        vertical-align: middle;\n",
       "    }\n",
       "\n",
       "    .dataframe tbody tr th {\n",
       "        vertical-align: top;\n",
       "    }\n",
       "\n",
       "    .dataframe thead th {\n",
       "        text-align: right;\n",
       "    }\n",
       "</style>\n",
       "<table border=\"1\" class=\"dataframe\">\n",
       "  <thead>\n",
       "    <tr style=\"text-align: right;\">\n",
       "      <th></th>\n",
       "      <th>count</th>\n",
       "      <th>mean</th>\n",
       "      <th>std</th>\n",
       "      <th>min</th>\n",
       "      <th>25%</th>\n",
       "      <th>50%</th>\n",
       "      <th>75%</th>\n",
       "      <th>max</th>\n",
       "    </tr>\n",
       "  </thead>\n",
       "  <tbody>\n",
       "    <tr>\n",
       "      <th>CUST_GENDER</th>\n",
       "      <td>1490.0</td>\n",
       "      <td>0.674497</td>\n",
       "      <td>0.468720</td>\n",
       "      <td>0.0</td>\n",
       "      <td>0.0</td>\n",
       "      <td>1.0</td>\n",
       "      <td>1.00</td>\n",
       "      <td>1.0</td>\n",
       "    </tr>\n",
       "    <tr>\n",
       "      <th>AGE</th>\n",
       "      <td>1490.0</td>\n",
       "      <td>38.914094</td>\n",
       "      <td>13.629635</td>\n",
       "      <td>17.0</td>\n",
       "      <td>28.0</td>\n",
       "      <td>37.0</td>\n",
       "      <td>47.00</td>\n",
       "      <td>90.0</td>\n",
       "    </tr>\n",
       "    <tr>\n",
       "      <th>COUNTRY_NAME</th>\n",
       "      <td>1490.0</td>\n",
       "      <td>0.544295</td>\n",
       "      <td>2.090558</td>\n",
       "      <td>0.0</td>\n",
       "      <td>0.0</td>\n",
       "      <td>0.0</td>\n",
       "      <td>0.00</td>\n",
       "      <td>18.0</td>\n",
       "    </tr>\n",
       "    <tr>\n",
       "      <th>CUST_INCOME_LEVEL</th>\n",
       "      <td>1490.0</td>\n",
       "      <td>2.410067</td>\n",
       "      <td>0.735938</td>\n",
       "      <td>1.0</td>\n",
       "      <td>2.0</td>\n",
       "      <td>3.0</td>\n",
       "      <td>3.00</td>\n",
       "      <td>3.0</td>\n",
       "    </tr>\n",
       "    <tr>\n",
       "      <th>EDUCATION</th>\n",
       "      <td>1490.0</td>\n",
       "      <td>9.568456</td>\n",
       "      <td>2.646325</td>\n",
       "      <td>0.0</td>\n",
       "      <td>8.0</td>\n",
       "      <td>10.0</td>\n",
       "      <td>11.75</td>\n",
       "      <td>15.0</td>\n",
       "    </tr>\n",
       "    <tr>\n",
       "      <th>HOUSEHOLD_SIZE</th>\n",
       "      <td>1490.0</td>\n",
       "      <td>1.298658</td>\n",
       "      <td>0.654630</td>\n",
       "      <td>1.0</td>\n",
       "      <td>1.0</td>\n",
       "      <td>1.0</td>\n",
       "      <td>1.00</td>\n",
       "      <td>3.0</td>\n",
       "    </tr>\n",
       "    <tr>\n",
       "      <th>YRS_RESIDENCE</th>\n",
       "      <td>1490.0</td>\n",
       "      <td>4.091275</td>\n",
       "      <td>1.921492</td>\n",
       "      <td>0.0</td>\n",
       "      <td>3.0</td>\n",
       "      <td>4.0</td>\n",
       "      <td>5.00</td>\n",
       "      <td>14.0</td>\n",
       "    </tr>\n",
       "    <tr>\n",
       "      <th>AFFINITY_CARD</th>\n",
       "      <td>1490.0</td>\n",
       "      <td>0.254362</td>\n",
       "      <td>0.435648</td>\n",
       "      <td>0.0</td>\n",
       "      <td>0.0</td>\n",
       "      <td>0.0</td>\n",
       "      <td>1.00</td>\n",
       "      <td>1.0</td>\n",
       "    </tr>\n",
       "    <tr>\n",
       "      <th>BULK_PACK_DISKETTES</th>\n",
       "      <td>1490.0</td>\n",
       "      <td>0.626174</td>\n",
       "      <td>0.483981</td>\n",
       "      <td>0.0</td>\n",
       "      <td>0.0</td>\n",
       "      <td>1.0</td>\n",
       "      <td>1.00</td>\n",
       "      <td>1.0</td>\n",
       "    </tr>\n",
       "    <tr>\n",
       "      <th>FLAT_PANEL_MONITOR</th>\n",
       "      <td>1490.0</td>\n",
       "      <td>0.579866</td>\n",
       "      <td>0.493746</td>\n",
       "      <td>0.0</td>\n",
       "      <td>0.0</td>\n",
       "      <td>1.0</td>\n",
       "      <td>1.00</td>\n",
       "      <td>1.0</td>\n",
       "    </tr>\n",
       "    <tr>\n",
       "      <th>HOME_THEATER_PACKAGE</th>\n",
       "      <td>1490.0</td>\n",
       "      <td>0.575168</td>\n",
       "      <td>0.494483</td>\n",
       "      <td>0.0</td>\n",
       "      <td>0.0</td>\n",
       "      <td>1.0</td>\n",
       "      <td>1.00</td>\n",
       "      <td>1.0</td>\n",
       "    </tr>\n",
       "    <tr>\n",
       "      <th>BOOKKEEPING_APPLICATION</th>\n",
       "      <td>1490.0</td>\n",
       "      <td>0.879866</td>\n",
       "      <td>0.325228</td>\n",
       "      <td>0.0</td>\n",
       "      <td>1.0</td>\n",
       "      <td>1.0</td>\n",
       "      <td>1.00</td>\n",
       "      <td>1.0</td>\n",
       "    </tr>\n",
       "    <tr>\n",
       "      <th>Y_BOX_GAMES</th>\n",
       "      <td>1490.0</td>\n",
       "      <td>0.285906</td>\n",
       "      <td>0.451997</td>\n",
       "      <td>0.0</td>\n",
       "      <td>0.0</td>\n",
       "      <td>0.0</td>\n",
       "      <td>1.00</td>\n",
       "      <td>1.0</td>\n",
       "    </tr>\n",
       "    <tr>\n",
       "      <th>OS_DOC_SET_KANJI</th>\n",
       "      <td>1490.0</td>\n",
       "      <td>0.002013</td>\n",
       "      <td>0.044841</td>\n",
       "      <td>0.0</td>\n",
       "      <td>0.0</td>\n",
       "      <td>0.0</td>\n",
       "      <td>0.00</td>\n",
       "      <td>1.0</td>\n",
       "    </tr>\n",
       "  </tbody>\n",
       "</table>\n",
       "</div>"
      ],
      "text/plain": [
       "                          count       mean        std   min   25%   50%  \\\n",
       "CUST_GENDER              1490.0   0.674497   0.468720   0.0   0.0   1.0   \n",
       "AGE                      1490.0  38.914094  13.629635  17.0  28.0  37.0   \n",
       "COUNTRY_NAME             1490.0   0.544295   2.090558   0.0   0.0   0.0   \n",
       "CUST_INCOME_LEVEL        1490.0   2.410067   0.735938   1.0   2.0   3.0   \n",
       "EDUCATION                1490.0   9.568456   2.646325   0.0   8.0  10.0   \n",
       "HOUSEHOLD_SIZE           1490.0   1.298658   0.654630   1.0   1.0   1.0   \n",
       "YRS_RESIDENCE            1490.0   4.091275   1.921492   0.0   3.0   4.0   \n",
       "AFFINITY_CARD            1490.0   0.254362   0.435648   0.0   0.0   0.0   \n",
       "BULK_PACK_DISKETTES      1490.0   0.626174   0.483981   0.0   0.0   1.0   \n",
       "FLAT_PANEL_MONITOR       1490.0   0.579866   0.493746   0.0   0.0   1.0   \n",
       "HOME_THEATER_PACKAGE     1490.0   0.575168   0.494483   0.0   0.0   1.0   \n",
       "BOOKKEEPING_APPLICATION  1490.0   0.879866   0.325228   0.0   1.0   1.0   \n",
       "Y_BOX_GAMES              1490.0   0.285906   0.451997   0.0   0.0   0.0   \n",
       "OS_DOC_SET_KANJI         1490.0   0.002013   0.044841   0.0   0.0   0.0   \n",
       "\n",
       "                           75%   max  \n",
       "CUST_GENDER               1.00   1.0  \n",
       "AGE                      47.00  90.0  \n",
       "COUNTRY_NAME              0.00  18.0  \n",
       "CUST_INCOME_LEVEL         3.00   3.0  \n",
       "EDUCATION                11.75  15.0  \n",
       "HOUSEHOLD_SIZE            1.00   3.0  \n",
       "YRS_RESIDENCE             5.00  14.0  \n",
       "AFFINITY_CARD             1.00   1.0  \n",
       "BULK_PACK_DISKETTES       1.00   1.0  \n",
       "FLAT_PANEL_MONITOR        1.00   1.0  \n",
       "HOME_THEATER_PACKAGE      1.00   1.0  \n",
       "BOOKKEEPING_APPLICATION   1.00   1.0  \n",
       "Y_BOX_GAMES               1.00   1.0  \n",
       "OS_DOC_SET_KANJI          0.00   1.0  "
      ]
     },
     "execution_count": 43,
     "metadata": {},
     "output_type": "execute_result"
    }
   ],
   "source": [
    "df.describe().transpose()"
   ]
  },
  {
   "cell_type": "code",
   "execution_count": 44,
   "metadata": {},
   "outputs": [
    {
     "data": {
      "text/plain": [
       "CUST_GENDER                -0.745568\n",
       "AGE                         0.594900\n",
       "COUNTRY_NAME                4.913999\n",
       "CUST_INCOME_LEVEL          -0.816328\n",
       "EDUCATION                  -0.594881\n",
       "HOUSEHOLD_SIZE              1.945525\n",
       "YRS_RESIDENCE               0.778385\n",
       "AFFINITY_CARD               1.129203\n",
       "BULK_PACK_DISKETTES        -0.522104\n",
       "FLAT_PANEL_MONITOR         -0.323944\n",
       "HOME_THEATER_PACKAGE       -0.304434\n",
       "BOOKKEEPING_APPLICATION    -2.339139\n",
       "Y_BOX_GAMES                 0.948599\n",
       "OS_DOC_SET_KANJI           22.241053\n",
       "dtype: float64"
      ]
     },
     "execution_count": 44,
     "metadata": {},
     "output_type": "execute_result"
    }
   ],
   "source": [
    "df.skew(numeric_only=True)"
   ]
  },
  {
   "cell_type": "code",
   "execution_count": 45,
   "metadata": {},
   "outputs": [
    {
     "data": {
      "text/plain": [
       "CUST_GENDER                 -1.446072\n",
       "AGE                          0.009611\n",
       "COUNTRY_NAME                26.056861\n",
       "CUST_INCOME_LEVEL           -0.719168\n",
       "EDUCATION                    0.349506\n",
       "HOUSEHOLD_SIZE               2.149423\n",
       "YRS_RESIDENCE                1.606934\n",
       "AFFINITY_CARD               -0.725877\n",
       "BULK_PACK_DISKETTES         -1.729731\n",
       "FLAT_PANEL_MONITOR          -1.897609\n",
       "HOME_THEATER_PACKAGE        -1.909885\n",
       "BOOKKEEPING_APPLICATION      3.476238\n",
       "Y_BOX_GAMES                 -1.101641\n",
       "OS_DOC_SET_KANJI           493.326612\n",
       "dtype: float64"
      ]
     },
     "execution_count": 45,
     "metadata": {},
     "output_type": "execute_result"
    }
   ],
   "source": [
    "df.kurtosis(numeric_only=True)"
   ]
  },
  {
   "cell_type": "markdown",
   "metadata": {},
   "source": [
    "4.\tData exploration\t\t\t\t\t\t\n",
    "\n",
    "Write a Python program to show histogram plot of a variable which allow a user to choose in runtime. Program should be continuing running until a user chooses to exit.\n"
   ]
  },
  {
   "cell_type": "code",
   "execution_count": 46,
   "metadata": {},
   "outputs": [
    {
     "name": "stdout",
     "output_type": "stream",
     "text": [
      "Choose a variable to plot: \n"
     ]
    },
    {
     "data": {
      "image/png": "[encoded data removed]",
      "text/plain": [
       "<Figure size 640x480 with 1 Axes>"
      ]
     },
     "metadata": {},
     "output_type": "display_data"
    }
   ],
   "source": [
    "variables = ['CUST_GENDER', 'AGE', 'COUNTRY_NAME',\n",
    "       'CUST_INCOME_LEVEL', 'EDUCATION', 'HOUSEHOLD_SIZE',\n",
    "       'YRS_RESIDENCE', 'AFFINITY_CARD', 'BULK_PACK_DISKETTES',\n",
    "       'FLAT_PANEL_MONITOR', 'HOME_THEATER_PACKAGE', 'BOOKKEEPING_APPLICATION',\n",
    "       'Y_BOX_GAMES', 'OS_DOC_SET_KANJI']\n",
    "\n",
    "while True:\n",
    "    print(\"Choose a variable to plot: \")\n",
    "    \n",
    "    var_choice = int(input(\"Enter a number: \"))\n",
    "    if var_choice == 0:\n",
    "        break\n",
    "    \n",
    "    var = variables[var_choice-1]\n",
    "    data = df[var]\n",
    "\n",
    "    plt.hist(data , bins=30 , color='skyblue' , edgecolor='black')\n",
    "    plt.title(f\"{var} Distribution\")\n",
    "    plt.xlabel(var)\n",
    "    plt.ylabel('Frequency')\n",
    "    plt.show()\n",
    "    cont = input(\"Do you want to continue (yes/no)? \")\n",
    "    if cont.lower() == 'no':\n",
    "        break\n",
    "    "
   ]
  },
  {
   "cell_type": "code",
   "execution_count": null,
   "metadata": {},
   "outputs": [],
   "source": []
  }
 ],
 "metadata": {
  "kernelspec": {
   "display_name": "Python 3",
   "language": "python",
   "name": "python3"
  },
  "language_info": {
   "codemirror_mode": {
    "name": "ipython",
    "version": 3
   },
   "file_extension": ".py",
   "mimetype": "text/x-python",
   "name": "python",
   "nbconvert_exporter": "python",
   "pygments_lexer": "ipython3",
   "version": "3.10.8"
  }
 },
 "nbformat": 4,
 "nbformat_minor": 2
}
