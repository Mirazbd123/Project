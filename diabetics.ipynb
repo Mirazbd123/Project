{
 "cells": [
  {
   "cell_type": "markdown",
   "metadata": {},
   "source": [
    "Here i am using ANN with Hyperparameter Tuning"
   ]
  },
  {
   "cell_type": "code",
   "execution_count": 1,
   "metadata": {},
   "outputs": [],
   "source": [
    "import pandas as pd\n",
    "import numpy as np\n",
    "from sklearn.preprocessing import StandardScaler\n",
    "from sklearn.model_selection import train_test_split\n",
    "import tensorflow\n",
    "from tensorflow import keras \n",
    "from keras import Sequential\n",
    "from keras.layers import Dense"
   ]
  },
  {
   "cell_type": "code",
   "execution_count": 2,
   "metadata": {},
   "outputs": [],
   "source": [
    "df = pd.read_csv(\"E:\\dekstop moved ap\\Data set\\diabetics\\diabetes.csv\")"
   ]
  },
  {
   "cell_type": "code",
   "execution_count": 3,
   "metadata": {},
   "outputs": [
    {
     "data": {
      "text/html": [
       "<div>\n",
       "<style scoped>\n",
       "    .dataframe tbody tr th:only-of-type {\n",
       "        vertical-align: middle;\n",
       "    }\n",
       "\n",
       "    .dataframe tbody tr th {\n",
       "        vertical-align: top;\n",
       "    }\n",
       "\n",
       "    .dataframe thead th {\n",
       "        text-align: right;\n",
       "    }\n",
       "</style>\n",
       "<table border=\"1\" class=\"dataframe\">\n",
       "  <thead>\n",
       "    <tr style=\"text-align: right;\">\n",
       "      <th></th>\n",
       "      <th>Pregnancies</th>\n",
       "      <th>Glucose</th>\n",
       "      <th>BloodPressure</th>\n",
       "      <th>SkinThickness</th>\n",
       "      <th>Insulin</th>\n",
       "      <th>BMI</th>\n",
       "      <th>DiabetesPedigreeFunction</th>\n",
       "      <th>Age</th>\n",
       "      <th>Outcome</th>\n",
       "    </tr>\n",
       "  </thead>\n",
       "  <tbody>\n",
       "    <tr>\n",
       "      <th>0</th>\n",
       "      <td>6</td>\n",
       "      <td>148</td>\n",
       "      <td>72</td>\n",
       "      <td>35</td>\n",
       "      <td>0</td>\n",
       "      <td>33.6</td>\n",
       "      <td>0.627</td>\n",
       "      <td>50</td>\n",
       "      <td>1</td>\n",
       "    </tr>\n",
       "    <tr>\n",
       "      <th>1</th>\n",
       "      <td>1</td>\n",
       "      <td>85</td>\n",
       "      <td>66</td>\n",
       "      <td>29</td>\n",
       "      <td>0</td>\n",
       "      <td>26.6</td>\n",
       "      <td>0.351</td>\n",
       "      <td>31</td>\n",
       "      <td>0</td>\n",
       "    </tr>\n",
       "    <tr>\n",
       "      <th>2</th>\n",
       "      <td>8</td>\n",
       "      <td>183</td>\n",
       "      <td>64</td>\n",
       "      <td>0</td>\n",
       "      <td>0</td>\n",
       "      <td>23.3</td>\n",
       "      <td>0.672</td>\n",
       "      <td>32</td>\n",
       "      <td>1</td>\n",
       "    </tr>\n",
       "    <tr>\n",
       "      <th>3</th>\n",
       "      <td>1</td>\n",
       "      <td>89</td>\n",
       "      <td>66</td>\n",
       "      <td>23</td>\n",
       "      <td>94</td>\n",
       "      <td>28.1</td>\n",
       "      <td>0.167</td>\n",
       "      <td>21</td>\n",
       "      <td>0</td>\n",
       "    </tr>\n",
       "    <tr>\n",
       "      <th>4</th>\n",
       "      <td>0</td>\n",
       "      <td>137</td>\n",
       "      <td>40</td>\n",
       "      <td>35</td>\n",
       "      <td>168</td>\n",
       "      <td>43.1</td>\n",
       "      <td>2.288</td>\n",
       "      <td>33</td>\n",
       "      <td>1</td>\n",
       "    </tr>\n",
       "  </tbody>\n",
       "</table>\n",
       "</div>"
      ],
      "text/plain": [
       "   Pregnancies  Glucose  BloodPressure  SkinThickness  Insulin   BMI  \\\n",
       "0            6      148             72             35        0  33.6   \n",
       "1            1       85             66             29        0  26.6   \n",
       "2            8      183             64              0        0  23.3   \n",
       "3            1       89             66             23       94  28.1   \n",
       "4            0      137             40             35      168  43.1   \n",
       "\n",
       "   DiabetesPedigreeFunction  Age  Outcome  \n",
       "0                     0.627   50        1  \n",
       "1                     0.351   31        0  \n",
       "2                     0.672   32        1  \n",
       "3                     0.167   21        0  \n",
       "4                     2.288   33        1  "
      ]
     },
     "execution_count": 3,
     "metadata": {},
     "output_type": "execute_result"
    }
   ],
   "source": [
    "df.head()"
   ]
  },
  {
   "cell_type": "code",
   "execution_count": 4,
   "metadata": {},
   "outputs": [
    {
     "data": {
      "text/plain": [
       "(768, 9)"
      ]
     },
     "execution_count": 4,
     "metadata": {},
     "output_type": "execute_result"
    }
   ],
   "source": [
    "df.shape"
   ]
  },
  {
   "cell_type": "code",
   "execution_count": 5,
   "metadata": {},
   "outputs": [
    {
     "data": {
      "text/plain": [
       "Index(['Pregnancies', 'Glucose', 'BloodPressure', 'SkinThickness', 'Insulin',\n",
       "       'BMI', 'DiabetesPedigreeFunction', 'Age', 'Outcome'],\n",
       "      dtype='object')"
      ]
     },
     "execution_count": 5,
     "metadata": {},
     "output_type": "execute_result"
    }
   ],
   "source": [
    "df.columns"
   ]
  },
  {
   "cell_type": "code",
   "execution_count": 6,
   "metadata": {},
   "outputs": [
    {
     "data": {
      "text/plain": [
       "Pregnancies                 0\n",
       "Glucose                     0\n",
       "BloodPressure               0\n",
       "SkinThickness               0\n",
       "Insulin                     0\n",
       "BMI                         0\n",
       "DiabetesPedigreeFunction    0\n",
       "Age                         0\n",
       "Outcome                     0\n",
       "dtype: int64"
      ]
     },
     "execution_count": 6,
     "metadata": {},
     "output_type": "execute_result"
    }
   ],
   "source": [
    "df.isnull().sum()"
   ]
  },
  {
   "cell_type": "code",
   "execution_count": 7,
   "metadata": {},
   "outputs": [
    {
     "data": {
      "text/plain": [
       "Pregnancies                 0.221898\n",
       "Glucose                     0.466581\n",
       "BloodPressure               0.065068\n",
       "SkinThickness               0.074752\n",
       "Insulin                     0.130548\n",
       "BMI                         0.292695\n",
       "DiabetesPedigreeFunction    0.173844\n",
       "Age                         0.238356\n",
       "Outcome                     1.000000\n",
       "Name: Outcome, dtype: float64"
      ]
     },
     "execution_count": 7,
     "metadata": {},
     "output_type": "execute_result"
    }
   ],
   "source": [
    "df.corr()['Outcome']"
   ]
  },
  {
   "cell_type": "code",
   "execution_count": 8,
   "metadata": {},
   "outputs": [],
   "source": [
    "x = df.drop(columns = 'Outcome').values\n",
    "y = df['Outcome'].values"
   ]
  },
  {
   "cell_type": "code",
   "execution_count": 9,
   "metadata": {},
   "outputs": [
    {
     "name": "stdout",
     "output_type": "stream",
     "text": [
      "[[  6.    148.     72.    ...  33.6     0.627  50.   ]\n",
      " [  1.     85.     66.    ...  26.6     0.351  31.   ]\n",
      " [  8.    183.     64.    ...  23.3     0.672  32.   ]\n",
      " ...\n",
      " [  5.    121.     72.    ...  26.2     0.245  30.   ]\n",
      " [  1.    126.     60.    ...  30.1     0.349  47.   ]\n",
      " [  1.     93.     70.    ...  30.4     0.315  23.   ]]\n",
      "[1 0 1 0 1 0 1 0 1 1 0 1 0 1 1 1 1 1 0 1 0 0 1 1 1 1 1 0 0 0 0 1 0 0 0 0 0\n",
      " 1 1 1 0 0 0 1 0 1 0 0 1 0 0 0 0 1 0 0 1 0 0 0 0 1 0 0 1 0 1 0 0 0 1 0 1 0\n",
      " 0 0 0 0 1 0 0 0 0 0 1 0 0 0 1 0 0 0 0 1 0 0 0 0 0 1 1 0 0 0 0 0 0 0 0 1 1\n",
      " 1 0 0 1 1 1 0 0 0 1 0 0 0 1 1 0 0 1 1 1 1 1 0 0 0 0 0 0 0 0 0 0 1 0 0 0 0\n",
      " 0 0 0 0 1 0 1 1 0 0 0 1 0 0 0 0 1 1 0 0 0 0 1 1 0 0 0 1 0 1 0 1 0 0 0 0 0\n",
      " 1 1 1 1 1 0 0 1 1 0 1 0 1 1 1 0 0 0 0 0 0 1 1 0 1 0 0 0 1 1 1 1 0 1 1 1 1\n",
      " 0 0 0 0 0 1 0 0 1 1 0 0 0 1 1 1 1 0 0 0 1 1 0 1 0 0 0 0 0 0 0 0 1 1 0 0 0\n",
      " 1 0 1 0 0 1 0 1 0 0 1 1 0 0 0 0 0 1 0 0 0 1 0 0 1 1 0 0 1 0 0 0 1 1 1 0 0\n",
      " 1 0 1 0 1 1 0 1 0 0 1 0 1 1 0 0 1 0 1 0 0 1 0 1 0 1 1 1 0 0 1 0 1 0 0 0 1\n",
      " 0 0 0 0 1 1 1 0 0 0 0 0 0 0 0 0 1 0 0 0 0 0 1 1 1 0 1 1 0 0 1 0 0 1 0 0 1\n",
      " 1 0 0 0 0 1 0 0 1 0 0 0 0 0 0 0 1 1 1 0 0 1 0 0 1 0 0 1 0 1 1 0 1 0 1 0 1\n",
      " 0 1 1 0 0 0 0 1 1 0 1 0 1 0 0 0 0 1 1 0 1 0 1 0 0 0 0 0 1 0 0 0 0 1 0 0 1\n",
      " 1 1 0 0 1 0 0 1 0 0 0 1 0 0 1 0 0 0 0 0 0 0 0 0 1 0 0 0 0 0 0 0 1 0 0 0 1\n",
      " 0 0 0 1 1 0 0 0 0 0 0 0 1 0 0 0 0 1 0 0 0 1 0 0 0 1 0 0 0 1 0 0 0 0 1 1 0\n",
      " 0 0 0 0 0 1 0 0 0 0 0 0 0 0 0 0 0 1 0 0 0 1 1 1 1 0 0 1 1 0 0 0 0 0 0 0 0\n",
      " 0 0 0 0 0 1 1 0 0 0 0 0 0 0 1 0 0 0 0 0 0 0 1 0 1 1 0 0 0 1 0 1 0 1 0 1 0\n",
      " 1 0 0 1 0 0 1 0 0 0 0 1 1 0 1 0 0 0 0 1 1 0 1 0 0 0 1 1 0 0 0 0 0 0 0 0 0\n",
      " 0 1 0 0 0 0 1 0 0 1 0 0 0 1 0 0 0 1 1 1 0 0 0 0 0 0 1 0 0 0 1 0 1 1 1 1 0\n",
      " 1 1 0 0 0 0 0 0 0 1 1 0 1 0 0 1 0 1 0 0 0 0 0 1 0 1 0 1 0 1 1 0 0 0 0 1 1\n",
      " 0 0 0 1 0 1 1 0 0 1 0 0 1 1 0 0 1 0 0 1 0 0 0 0 0 0 0 1 1 1 0 0 0 0 0 0 1\n",
      " 1 0 0 1 0 0 1 0 1 1 1 0 0 1 1 1 0 1 0 1 0 1 0 0 0 0 1 0]\n"
     ]
    }
   ],
   "source": [
    "print(x)\n",
    "print(y)\n"
   ]
  },
  {
   "cell_type": "code",
   "execution_count": 10,
   "metadata": {},
   "outputs": [],
   "source": [
    "scale = StandardScaler()\n",
    "x_scale = scale.fit_transform(x)"
   ]
  },
  {
   "cell_type": "code",
   "execution_count": 11,
   "metadata": {},
   "outputs": [
    {
     "data": {
      "text/plain": [
       "array([[ 0.63994726,  0.84832379,  0.14964075, ...,  0.20401277,\n",
       "         0.46849198,  1.4259954 ],\n",
       "       [-0.84488505, -1.12339636, -0.16054575, ..., -0.68442195,\n",
       "        -0.36506078, -0.19067191],\n",
       "       [ 1.23388019,  1.94372388, -0.26394125, ..., -1.10325546,\n",
       "         0.60439732, -0.10558415],\n",
       "       ...,\n",
       "       [ 0.3429808 ,  0.00330087,  0.14964075, ..., -0.73518964,\n",
       "        -0.68519336, -0.27575966],\n",
       "       [-0.84488505,  0.1597866 , -0.47073225, ..., -0.24020459,\n",
       "        -0.37110101,  1.17073215],\n",
       "       [-0.84488505, -0.8730192 ,  0.04624525, ..., -0.20212881,\n",
       "        -0.47378505, -0.87137393]])"
      ]
     },
     "execution_count": 11,
     "metadata": {},
     "output_type": "execute_result"
    }
   ],
   "source": [
    "x_scale"
   ]
  },
  {
   "cell_type": "code",
   "execution_count": 12,
   "metadata": {},
   "outputs": [],
   "source": [
    "x_train , x_test , y_train , y_test = train_test_split(x_scale,y , test_size= 0.3 , random_state=3)"
   ]
  },
  {
   "cell_type": "code",
   "execution_count": 13,
   "metadata": {},
   "outputs": [
    {
     "data": {
      "text/plain": [
       "8"
      ]
     },
     "execution_count": 13,
     "metadata": {},
     "output_type": "execute_result"
    }
   ],
   "source": [
    "x_train.shape[1]"
   ]
  },
  {
   "cell_type": "code",
   "execution_count": 14,
   "metadata": {},
   "outputs": [],
   "source": [
    "model = Sequential()\n",
    "model.add(Dense(64 , activation='relu' , input_dim = x_train.shape[1]))\n",
    "model.add(Dense(32 , activation = 'relu' , input_dim = 64))\n",
    "model.add(Dense(1 , activation='sigmoid'))\n",
    "\n",
    "model.compile(optimizer='Adam' , loss = 'binary_crossentropy' , metrics=['accuracy'])"
   ]
  },
  {
   "cell_type": "code",
   "execution_count": 15,
   "metadata": {},
   "outputs": [
    {
     "name": "stdout",
     "output_type": "stream",
     "text": [
      "Epoch 1/10\n",
      "17/17 [==============================] - 1s 9ms/step - loss: 0.6507 - accuracy: 0.7058 - val_loss: 0.6240 - val_accuracy: 0.6883\n",
      "Epoch 2/10\n",
      "17/17 [==============================] - 0s 2ms/step - loss: 0.5744 - accuracy: 0.7784 - val_loss: 0.5796 - val_accuracy: 0.7273\n",
      "Epoch 3/10\n",
      "17/17 [==============================] - 0s 2ms/step - loss: 0.5173 - accuracy: 0.7821 - val_loss: 0.5476 - val_accuracy: 0.7316\n",
      "Epoch 4/10\n",
      "17/17 [==============================] - 0s 2ms/step - loss: 0.4780 - accuracy: 0.7896 - val_loss: 0.5296 - val_accuracy: 0.7359\n",
      "Epoch 5/10\n",
      "17/17 [==============================] - 0s 2ms/step - loss: 0.4536 - accuracy: 0.7933 - val_loss: 0.5171 - val_accuracy: 0.7316\n",
      "Epoch 6/10\n",
      "17/17 [==============================] - 0s 2ms/step - loss: 0.4412 - accuracy: 0.7933 - val_loss: 0.5125 - val_accuracy: 0.7446\n",
      "Epoch 7/10\n",
      "17/17 [==============================] - 0s 2ms/step - loss: 0.4319 - accuracy: 0.7989 - val_loss: 0.5146 - val_accuracy: 0.7446\n",
      "Epoch 8/10\n",
      "17/17 [==============================] - 0s 2ms/step - loss: 0.4258 - accuracy: 0.8063 - val_loss: 0.5149 - val_accuracy: 0.7446\n",
      "Epoch 9/10\n",
      "17/17 [==============================] - 0s 2ms/step - loss: 0.4217 - accuracy: 0.8063 - val_loss: 0.5158 - val_accuracy: 0.7489\n",
      "Epoch 10/10\n",
      "17/17 [==============================] - 0s 2ms/step - loss: 0.4176 - accuracy: 0.8045 - val_loss: 0.5181 - val_accuracy: 0.7446\n"
     ]
    },
    {
     "data": {
      "text/plain": [
       "<keras.src.callbacks.History at 0x1fd1f7d2530>"
      ]
     },
     "execution_count": 15,
     "metadata": {},
     "output_type": "execute_result"
    }
   ],
   "source": [
    "model.fit(x_train , y_train , batch_size=32 , epochs=10, validation_data=(x_test , y_test))"
   ]
  },
  {
   "cell_type": "markdown",
   "metadata": {},
   "source": [
    "Using keras tuner for getting the appropriate optimer"
   ]
  },
  {
   "cell_type": "code",
   "execution_count": 16,
   "metadata": {},
   "outputs": [
    {
     "name": "stderr",
     "output_type": "stream",
     "text": [
      "C:\\Users\\USER\\AppData\\Local\\Temp\\ipykernel_9220\\1654478174.py:1: DeprecationWarning: `import kerastuner` is deprecated, please use `import keras_tuner`.\n",
      "  import kerastuner as kt\n"
     ]
    }
   ],
   "source": [
    "import kerastuner as kt"
   ]
  },
  {
   "cell_type": "code",
   "execution_count": 17,
   "metadata": {},
   "outputs": [],
   "source": [
    "def build_model(hp):\n",
    "    model = Sequential()\n",
    "    model.add(Dense(64 , activation='relu' , input_dim = x_train.shape[1]))\n",
    "    model.add(Dense(32 , activation = 'relu' , input_dim = 64))\n",
    "    model.add(Dense(1 , activation='sigmoid'))\n",
    "\n",
    "    optimizer = hp.Choice('optimizer',values = ['adam' , 'sgd' , 'rmsprop' , 'adadelta'])\n",
    "    model.compile(optimizer=optimizer , loss = 'binary_crossentropy' , metrics=['accuracy'])\n",
    "    \n",
    "    return model"
   ]
  },
  {
   "cell_type": "code",
   "execution_count": 18,
   "metadata": {},
   "outputs": [
    {
     "name": "stdout",
     "output_type": "stream",
     "text": [
      "Reloading Tuner from .\\untitled_project\\tuner0.json\n"
     ]
    }
   ],
   "source": [
    "tuner = kt.RandomSearch(build_model , objective= 'val_accuracy' , max_trials=5)\n",
    "tuner.search(x_train,y_train , epochs = 5 , validation_data = (x_test,y_test))"
   ]
  },
  {
   "cell_type": "code",
   "execution_count": 19,
   "metadata": {},
   "outputs": [
    {
     "data": {
      "text/plain": [
       "{'optimizer': 'rmsprop'}"
      ]
     },
     "execution_count": 19,
     "metadata": {},
     "output_type": "execute_result"
    }
   ],
   "source": [
    "tuner.get_best_hyperparameters()[0].values"
   ]
  },
  {
   "cell_type": "code",
   "execution_count": 20,
   "metadata": {},
   "outputs": [],
   "source": [
    "model = tuner.get_best_models(num_models=1)[0]"
   ]
  },
  {
   "cell_type": "code",
   "execution_count": 21,
   "metadata": {},
   "outputs": [
    {
     "name": "stdout",
     "output_type": "stream",
     "text": [
      "Model: \"sequential\"\n",
      "_________________________________________________________________\n",
      " Layer (type)                Output Shape              Param #   \n",
      "=================================================================\n",
      " dense (Dense)               (None, 64)                576       \n",
      "                                                                 \n",
      " dense_1 (Dense)             (None, 32)                2080      \n",
      "                                                                 \n",
      " dense_2 (Dense)             (None, 1)                 33        \n",
      "                                                                 \n",
      "=================================================================\n",
      "Total params: 2689 (10.50 KB)\n",
      "Trainable params: 2689 (10.50 KB)\n",
      "Non-trainable params: 0 (0.00 Byte)\n",
      "_________________________________________________________________\n"
     ]
    }
   ],
   "source": [
    "model.summary()"
   ]
  },
  {
   "cell_type": "code",
   "execution_count": 22,
   "metadata": {},
   "outputs": [
    {
     "name": "stdout",
     "output_type": "stream",
     "text": [
      "Epoch 7/100\n",
      "17/17 [==============================] - 0s 8ms/step - loss: 0.4807 - accuracy: 0.7803 - val_loss: 0.5330 - val_accuracy: 0.7403\n",
      "Epoch 8/100\n",
      "17/17 [==============================] - 0s 3ms/step - loss: 0.4630 - accuracy: 0.7914 - val_loss: 0.5181 - val_accuracy: 0.7489\n",
      "Epoch 9/100\n",
      "17/17 [==============================] - 0s 2ms/step - loss: 0.4506 - accuracy: 0.7989 - val_loss: 0.5122 - val_accuracy: 0.7489\n",
      "Epoch 10/100\n",
      "17/17 [==============================] - 0s 2ms/step - loss: 0.4417 - accuracy: 0.8026 - val_loss: 0.5087 - val_accuracy: 0.7532\n",
      "Epoch 11/100\n",
      "17/17 [==============================] - 0s 2ms/step - loss: 0.4346 - accuracy: 0.8007 - val_loss: 0.5051 - val_accuracy: 0.7489\n",
      "Epoch 12/100\n",
      "17/17 [==============================] - 0s 2ms/step - loss: 0.4298 - accuracy: 0.8156 - val_loss: 0.5087 - val_accuracy: 0.7576\n",
      "Epoch 13/100\n",
      "17/17 [==============================] - 0s 2ms/step - loss: 0.4246 - accuracy: 0.8101 - val_loss: 0.5081 - val_accuracy: 0.7489\n",
      "Epoch 14/100\n",
      "17/17 [==============================] - 0s 2ms/step - loss: 0.4214 - accuracy: 0.8138 - val_loss: 0.5052 - val_accuracy: 0.7446\n",
      "Epoch 15/100\n",
      "17/17 [==============================] - 0s 2ms/step - loss: 0.4170 - accuracy: 0.8138 - val_loss: 0.5119 - val_accuracy: 0.7403\n",
      "Epoch 16/100\n",
      "17/17 [==============================] - 0s 2ms/step - loss: 0.4134 - accuracy: 0.8119 - val_loss: 0.5075 - val_accuracy: 0.7359\n",
      "Epoch 17/100\n",
      "17/17 [==============================] - 0s 2ms/step - loss: 0.4100 - accuracy: 0.8156 - val_loss: 0.5182 - val_accuracy: 0.7359\n",
      "Epoch 18/100\n",
      "17/17 [==============================] - 0s 2ms/step - loss: 0.4081 - accuracy: 0.8138 - val_loss: 0.5196 - val_accuracy: 0.7316\n",
      "Epoch 19/100\n",
      "17/17 [==============================] - 0s 2ms/step - loss: 0.4056 - accuracy: 0.8082 - val_loss: 0.5155 - val_accuracy: 0.7273\n",
      "Epoch 20/100\n",
      "17/17 [==============================] - 0s 2ms/step - loss: 0.4027 - accuracy: 0.8119 - val_loss: 0.5170 - val_accuracy: 0.7359\n",
      "Epoch 21/100\n",
      "17/17 [==============================] - 0s 2ms/step - loss: 0.4002 - accuracy: 0.8156 - val_loss: 0.5203 - val_accuracy: 0.7229\n",
      "Epoch 22/100\n",
      "17/17 [==============================] - 0s 2ms/step - loss: 0.3981 - accuracy: 0.8194 - val_loss: 0.5202 - val_accuracy: 0.7229\n",
      "Epoch 23/100\n",
      "17/17 [==============================] - 0s 2ms/step - loss: 0.3967 - accuracy: 0.8212 - val_loss: 0.5180 - val_accuracy: 0.7359\n",
      "Epoch 24/100\n",
      "17/17 [==============================] - 0s 2ms/step - loss: 0.3925 - accuracy: 0.8212 - val_loss: 0.5213 - val_accuracy: 0.7316\n",
      "Epoch 25/100\n",
      "17/17 [==============================] - 0s 2ms/step - loss: 0.3916 - accuracy: 0.8194 - val_loss: 0.5208 - val_accuracy: 0.7316\n",
      "Epoch 26/100\n",
      "17/17 [==============================] - 0s 2ms/step - loss: 0.3886 - accuracy: 0.8156 - val_loss: 0.5215 - val_accuracy: 0.7359\n",
      "Epoch 27/100\n",
      "17/17 [==============================] - 0s 2ms/step - loss: 0.3865 - accuracy: 0.8212 - val_loss: 0.5223 - val_accuracy: 0.7316\n",
      "Epoch 28/100\n",
      "17/17 [==============================] - 0s 2ms/step - loss: 0.3841 - accuracy: 0.8212 - val_loss: 0.5297 - val_accuracy: 0.7446\n",
      "Epoch 29/100\n",
      "17/17 [==============================] - 0s 2ms/step - loss: 0.3829 - accuracy: 0.8212 - val_loss: 0.5251 - val_accuracy: 0.7316\n",
      "Epoch 30/100\n",
      "17/17 [==============================] - 0s 2ms/step - loss: 0.3798 - accuracy: 0.8268 - val_loss: 0.5282 - val_accuracy: 0.7403\n",
      "Epoch 31/100\n",
      "17/17 [==============================] - 0s 2ms/step - loss: 0.3786 - accuracy: 0.8268 - val_loss: 0.5258 - val_accuracy: 0.7316\n",
      "Epoch 32/100\n",
      "17/17 [==============================] - 0s 2ms/step - loss: 0.3769 - accuracy: 0.8268 - val_loss: 0.5303 - val_accuracy: 0.7316\n",
      "Epoch 33/100\n",
      "17/17 [==============================] - 0s 3ms/step - loss: 0.3742 - accuracy: 0.8324 - val_loss: 0.5266 - val_accuracy: 0.7316\n",
      "Epoch 34/100\n",
      "17/17 [==============================] - 0s 2ms/step - loss: 0.3723 - accuracy: 0.8250 - val_loss: 0.5259 - val_accuracy: 0.7316\n",
      "Epoch 35/100\n",
      "17/17 [==============================] - 0s 2ms/step - loss: 0.3701 - accuracy: 0.8287 - val_loss: 0.5377 - val_accuracy: 0.7403\n",
      "Epoch 36/100\n",
      "17/17 [==============================] - 0s 2ms/step - loss: 0.3696 - accuracy: 0.8324 - val_loss: 0.5377 - val_accuracy: 0.7403\n",
      "Epoch 37/100\n",
      "17/17 [==============================] - 0s 2ms/step - loss: 0.3665 - accuracy: 0.8287 - val_loss: 0.5405 - val_accuracy: 0.7403\n",
      "Epoch 38/100\n",
      "17/17 [==============================] - 0s 2ms/step - loss: 0.3655 - accuracy: 0.8361 - val_loss: 0.5380 - val_accuracy: 0.7359\n",
      "Epoch 39/100\n",
      "17/17 [==============================] - 0s 2ms/step - loss: 0.3629 - accuracy: 0.8361 - val_loss: 0.5381 - val_accuracy: 0.7359\n",
      "Epoch 40/100\n",
      "17/17 [==============================] - 0s 2ms/step - loss: 0.3629 - accuracy: 0.8343 - val_loss: 0.5366 - val_accuracy: 0.7359\n",
      "Epoch 41/100\n",
      "17/17 [==============================] - 0s 2ms/step - loss: 0.3605 - accuracy: 0.8361 - val_loss: 0.5393 - val_accuracy: 0.7403\n",
      "Epoch 42/100\n",
      "17/17 [==============================] - 0s 2ms/step - loss: 0.3593 - accuracy: 0.8380 - val_loss: 0.5394 - val_accuracy: 0.7403\n",
      "Epoch 43/100\n",
      "17/17 [==============================] - 0s 2ms/step - loss: 0.3578 - accuracy: 0.8417 - val_loss: 0.5458 - val_accuracy: 0.7403\n",
      "Epoch 44/100\n",
      "17/17 [==============================] - 0s 2ms/step - loss: 0.3544 - accuracy: 0.8436 - val_loss: 0.5390 - val_accuracy: 0.7403\n",
      "Epoch 45/100\n",
      "17/17 [==============================] - 0s 2ms/step - loss: 0.3531 - accuracy: 0.8380 - val_loss: 0.5421 - val_accuracy: 0.7403\n",
      "Epoch 46/100\n",
      "17/17 [==============================] - 0s 2ms/step - loss: 0.3521 - accuracy: 0.8436 - val_loss: 0.5415 - val_accuracy: 0.7359\n",
      "Epoch 47/100\n",
      "17/17 [==============================] - 0s 2ms/step - loss: 0.3508 - accuracy: 0.8436 - val_loss: 0.5426 - val_accuracy: 0.7359\n",
      "Epoch 48/100\n",
      "17/17 [==============================] - 0s 2ms/step - loss: 0.3494 - accuracy: 0.8380 - val_loss: 0.5462 - val_accuracy: 0.7489\n",
      "Epoch 49/100\n",
      "17/17 [==============================] - 0s 2ms/step - loss: 0.3468 - accuracy: 0.8473 - val_loss: 0.5468 - val_accuracy: 0.7403\n",
      "Epoch 50/100\n",
      "17/17 [==============================] - 0s 2ms/step - loss: 0.3465 - accuracy: 0.8380 - val_loss: 0.5507 - val_accuracy: 0.7489\n",
      "Epoch 51/100\n",
      "17/17 [==============================] - 0s 2ms/step - loss: 0.3437 - accuracy: 0.8436 - val_loss: 0.5531 - val_accuracy: 0.7489\n",
      "Epoch 52/100\n",
      "17/17 [==============================] - 0s 2ms/step - loss: 0.3422 - accuracy: 0.8417 - val_loss: 0.5573 - val_accuracy: 0.7489\n",
      "Epoch 53/100\n",
      "17/17 [==============================] - 0s 2ms/step - loss: 0.3415 - accuracy: 0.8492 - val_loss: 0.5549 - val_accuracy: 0.7446\n",
      "Epoch 54/100\n",
      "17/17 [==============================] - 0s 2ms/step - loss: 0.3400 - accuracy: 0.8417 - val_loss: 0.5560 - val_accuracy: 0.7446\n",
      "Epoch 55/100\n",
      "17/17 [==============================] - 0s 2ms/step - loss: 0.3377 - accuracy: 0.8492 - val_loss: 0.5543 - val_accuracy: 0.7403\n",
      "Epoch 56/100\n",
      "17/17 [==============================] - 0s 2ms/step - loss: 0.3371 - accuracy: 0.8473 - val_loss: 0.5557 - val_accuracy: 0.7403\n",
      "Epoch 57/100\n",
      "17/17 [==============================] - 0s 2ms/step - loss: 0.3344 - accuracy: 0.8492 - val_loss: 0.5585 - val_accuracy: 0.7359\n",
      "Epoch 58/100\n",
      "17/17 [==============================] - 0s 2ms/step - loss: 0.3345 - accuracy: 0.8510 - val_loss: 0.5658 - val_accuracy: 0.7359\n",
      "Epoch 59/100\n",
      "17/17 [==============================] - 0s 2ms/step - loss: 0.3338 - accuracy: 0.8436 - val_loss: 0.5603 - val_accuracy: 0.7359\n",
      "Epoch 60/100\n",
      "17/17 [==============================] - 0s 3ms/step - loss: 0.3296 - accuracy: 0.8547 - val_loss: 0.5633 - val_accuracy: 0.7446\n",
      "Epoch 61/100\n",
      "17/17 [==============================] - 0s 2ms/step - loss: 0.3292 - accuracy: 0.8566 - val_loss: 0.5671 - val_accuracy: 0.7359\n",
      "Epoch 62/100\n",
      "17/17 [==============================] - 0s 2ms/step - loss: 0.3284 - accuracy: 0.8585 - val_loss: 0.5633 - val_accuracy: 0.7403\n",
      "Epoch 63/100\n",
      "17/17 [==============================] - 0s 2ms/step - loss: 0.3252 - accuracy: 0.8585 - val_loss: 0.5620 - val_accuracy: 0.7273\n",
      "Epoch 64/100\n",
      "17/17 [==============================] - 0s 2ms/step - loss: 0.3248 - accuracy: 0.8659 - val_loss: 0.5710 - val_accuracy: 0.7446\n",
      "Epoch 65/100\n",
      "17/17 [==============================] - 0s 2ms/step - loss: 0.3226 - accuracy: 0.8566 - val_loss: 0.5715 - val_accuracy: 0.7489\n",
      "Epoch 66/100\n",
      "17/17 [==============================] - 0s 2ms/step - loss: 0.3219 - accuracy: 0.8603 - val_loss: 0.5665 - val_accuracy: 0.7489\n",
      "Epoch 67/100\n",
      "17/17 [==============================] - 0s 2ms/step - loss: 0.3207 - accuracy: 0.8566 - val_loss: 0.5694 - val_accuracy: 0.7446\n",
      "Epoch 68/100\n",
      "17/17 [==============================] - 0s 2ms/step - loss: 0.3180 - accuracy: 0.8659 - val_loss: 0.5721 - val_accuracy: 0.7446\n",
      "Epoch 69/100\n",
      "17/17 [==============================] - 0s 2ms/step - loss: 0.3190 - accuracy: 0.8678 - val_loss: 0.5738 - val_accuracy: 0.7532\n",
      "Epoch 70/100\n",
      "17/17 [==============================] - 0s 2ms/step - loss: 0.3162 - accuracy: 0.8510 - val_loss: 0.5758 - val_accuracy: 0.7446\n",
      "Epoch 71/100\n",
      "17/17 [==============================] - 0s 2ms/step - loss: 0.3140 - accuracy: 0.8641 - val_loss: 0.5761 - val_accuracy: 0.7446\n",
      "Epoch 72/100\n",
      "17/17 [==============================] - 0s 2ms/step - loss: 0.3122 - accuracy: 0.8752 - val_loss: 0.5785 - val_accuracy: 0.7532\n",
      "Epoch 73/100\n",
      "17/17 [==============================] - 0s 2ms/step - loss: 0.3111 - accuracy: 0.8566 - val_loss: 0.5794 - val_accuracy: 0.7489\n",
      "Epoch 74/100\n",
      "17/17 [==============================] - 0s 2ms/step - loss: 0.3102 - accuracy: 0.8659 - val_loss: 0.5796 - val_accuracy: 0.7316\n",
      "Epoch 75/100\n",
      "17/17 [==============================] - 0s 2ms/step - loss: 0.3087 - accuracy: 0.8752 - val_loss: 0.5806 - val_accuracy: 0.7446\n",
      "Epoch 76/100\n",
      "17/17 [==============================] - 0s 2ms/step - loss: 0.3085 - accuracy: 0.8641 - val_loss: 0.5774 - val_accuracy: 0.7446\n",
      "Epoch 77/100\n",
      "17/17 [==============================] - 0s 2ms/step - loss: 0.3065 - accuracy: 0.8696 - val_loss: 0.5808 - val_accuracy: 0.7316\n",
      "Epoch 78/100\n",
      "17/17 [==============================] - 0s 2ms/step - loss: 0.3040 - accuracy: 0.8752 - val_loss: 0.5861 - val_accuracy: 0.7446\n",
      "Epoch 79/100\n",
      "17/17 [==============================] - 0s 2ms/step - loss: 0.3034 - accuracy: 0.8696 - val_loss: 0.5808 - val_accuracy: 0.7229\n",
      "Epoch 80/100\n",
      "17/17 [==============================] - 0s 2ms/step - loss: 0.3021 - accuracy: 0.8771 - val_loss: 0.5891 - val_accuracy: 0.7446\n",
      "Epoch 81/100\n",
      "17/17 [==============================] - 0s 2ms/step - loss: 0.3002 - accuracy: 0.8771 - val_loss: 0.5931 - val_accuracy: 0.7446\n",
      "Epoch 82/100\n",
      "17/17 [==============================] - 0s 2ms/step - loss: 0.2998 - accuracy: 0.8752 - val_loss: 0.5886 - val_accuracy: 0.7446\n",
      "Epoch 83/100\n",
      "17/17 [==============================] - 0s 3ms/step - loss: 0.2974 - accuracy: 0.8845 - val_loss: 0.5925 - val_accuracy: 0.7403\n",
      "Epoch 84/100\n",
      "17/17 [==============================] - 0s 2ms/step - loss: 0.2957 - accuracy: 0.8790 - val_loss: 0.5905 - val_accuracy: 0.7403\n",
      "Epoch 85/100\n",
      "17/17 [==============================] - 0s 2ms/step - loss: 0.2949 - accuracy: 0.8790 - val_loss: 0.5928 - val_accuracy: 0.7403\n",
      "Epoch 86/100\n",
      "17/17 [==============================] - 0s 2ms/step - loss: 0.2925 - accuracy: 0.8827 - val_loss: 0.5976 - val_accuracy: 0.7532\n",
      "Epoch 87/100\n",
      "17/17 [==============================] - 0s 2ms/step - loss: 0.2897 - accuracy: 0.8808 - val_loss: 0.5891 - val_accuracy: 0.7359\n",
      "Epoch 88/100\n",
      "17/17 [==============================] - 0s 2ms/step - loss: 0.2897 - accuracy: 0.8827 - val_loss: 0.5950 - val_accuracy: 0.7532\n",
      "Epoch 89/100\n",
      "17/17 [==============================] - 0s 2ms/step - loss: 0.2879 - accuracy: 0.8845 - val_loss: 0.5950 - val_accuracy: 0.7489\n",
      "Epoch 90/100\n",
      "17/17 [==============================] - 0s 2ms/step - loss: 0.2880 - accuracy: 0.8901 - val_loss: 0.5962 - val_accuracy: 0.7446\n",
      "Epoch 91/100\n",
      "17/17 [==============================] - 0s 2ms/step - loss: 0.2858 - accuracy: 0.8827 - val_loss: 0.6026 - val_accuracy: 0.7489\n",
      "Epoch 92/100\n",
      "17/17 [==============================] - 0s 2ms/step - loss: 0.2847 - accuracy: 0.8883 - val_loss: 0.5924 - val_accuracy: 0.7489\n",
      "Epoch 93/100\n",
      "17/17 [==============================] - 0s 2ms/step - loss: 0.2839 - accuracy: 0.8883 - val_loss: 0.5969 - val_accuracy: 0.7489\n",
      "Epoch 94/100\n",
      "17/17 [==============================] - 0s 2ms/step - loss: 0.2807 - accuracy: 0.8957 - val_loss: 0.6055 - val_accuracy: 0.7489\n",
      "Epoch 95/100\n",
      "17/17 [==============================] - 0s 2ms/step - loss: 0.2805 - accuracy: 0.8845 - val_loss: 0.5961 - val_accuracy: 0.7403\n",
      "Epoch 96/100\n",
      "17/17 [==============================] - 0s 2ms/step - loss: 0.2792 - accuracy: 0.8901 - val_loss: 0.6044 - val_accuracy: 0.7576\n",
      "Epoch 97/100\n",
      "17/17 [==============================] - 0s 2ms/step - loss: 0.2755 - accuracy: 0.8864 - val_loss: 0.6116 - val_accuracy: 0.7489\n",
      "Epoch 98/100\n",
      "17/17 [==============================] - 0s 2ms/step - loss: 0.2784 - accuracy: 0.8901 - val_loss: 0.6171 - val_accuracy: 0.7446\n",
      "Epoch 99/100\n",
      "17/17 [==============================] - 0s 2ms/step - loss: 0.2738 - accuracy: 0.8845 - val_loss: 0.6193 - val_accuracy: 0.7489\n",
      "Epoch 100/100\n",
      "17/17 [==============================] - 0s 2ms/step - loss: 0.2740 - accuracy: 0.8920 - val_loss: 0.6066 - val_accuracy: 0.7576\n"
     ]
    },
    {
     "data": {
      "text/plain": [
       "<keras.src.callbacks.History at 0x1fd1e5eb190>"
      ]
     },
     "execution_count": 22,
     "metadata": {},
     "output_type": "execute_result"
    }
   ],
   "source": [
    "model.fit(x_train, y_train , batch_size=32 , epochs=100 , initial_epoch=6 , validation_data=(x_test,y_test)) # 5 ta epochs already run korce tai 6 theke start hyce"
   ]
  },
  {
   "cell_type": "markdown",
   "metadata": {},
   "source": [
    "Now the accuracy has improved by using rmsprop\n"
   ]
  },
  {
   "cell_type": "markdown",
   "metadata": {},
   "source": [
    "Finding appropriate nuron"
   ]
  },
  {
   "cell_type": "code",
   "execution_count": 25,
   "metadata": {},
   "outputs": [],
   "source": [
    "def build_model(hp):\n",
    "    model = Sequential()\n",
    "    units = hp.Int('units' , min_value = 8 , max_value = 128)\n",
    "\n",
    "    model.add(Dense(units = units , activation='relu' , input_dim = 8))\n",
    "    model.add(Dense(units=units , activation = 'relu'))\n",
    "    model.add(Dense(1 , activation='sigmoid'))\n",
    "\n",
    "    model.compile(optimizer='rmsprop' , loss = 'binary_crossentropy' , metrics = ['accuracy'])\n",
    "\n",
    "    return model\n",
    "\n"
   ]
  },
  {
   "cell_type": "code",
   "execution_count": 26,
   "metadata": {},
   "outputs": [],
   "source": [
    "tuner = kt.RandomSearch(build_model,objective='val_accuracy' , max_trials=5 , directory = 'mydir' , project_name = 'appropriate_nuron')"
   ]
  },
  {
   "cell_type": "code",
   "execution_count": 28,
   "metadata": {},
   "outputs": [
    {
     "name": "stdout",
     "output_type": "stream",
     "text": [
      "Trial 5 Complete [00h 00m 01s]\n",
      "val_accuracy: 0.7532467246055603\n",
      "\n",
      "Best val_accuracy So Far: 0.7532467246055603\n",
      "Total elapsed time: 00h 00m 12s\n"
     ]
    }
   ],
   "source": [
    "tuner.search(x_train,y_train , epochs = 5 , validation_data = (x_test,y_test))"
   ]
  },
  {
   "cell_type": "code",
   "execution_count": 32,
   "metadata": {},
   "outputs": [
    {
     "data": {
      "text/plain": [
       "{'units': 109}"
      ]
     },
     "execution_count": 32,
     "metadata": {},
     "output_type": "execute_result"
    }
   ],
   "source": [
    "tuner.get_best_hyperparameters()[0].values"
   ]
  },
  {
   "cell_type": "code",
   "execution_count": 33,
   "metadata": {},
   "outputs": [],
   "source": [
    "model = tuner.get_best_models(num_models=1)[0]"
   ]
  },
  {
   "cell_type": "code",
   "execution_count": 34,
   "metadata": {},
   "outputs": [
    {
     "name": "stdout",
     "output_type": "stream",
     "text": [
      "Epoch 7/100\n",
      "17/17 [==============================] - 0s 8ms/step - loss: 0.4262 - accuracy: 0.8026 - val_loss: 0.5168 - val_accuracy: 0.7359\n",
      "Epoch 8/100\n",
      "17/17 [==============================] - 0s 2ms/step - loss: 0.4214 - accuracy: 0.8175 - val_loss: 0.5223 - val_accuracy: 0.7359\n",
      "Epoch 9/100\n",
      "17/17 [==============================] - 0s 2ms/step - loss: 0.4171 - accuracy: 0.8138 - val_loss: 0.5223 - val_accuracy: 0.7316\n",
      "Epoch 10/100\n",
      "17/17 [==============================] - 0s 2ms/step - loss: 0.4100 - accuracy: 0.8231 - val_loss: 0.5325 - val_accuracy: 0.7273\n",
      "Epoch 11/100\n",
      "17/17 [==============================] - 0s 2ms/step - loss: 0.4086 - accuracy: 0.8101 - val_loss: 0.5365 - val_accuracy: 0.7403\n",
      "Epoch 12/100\n",
      "17/17 [==============================] - 0s 2ms/step - loss: 0.4037 - accuracy: 0.8119 - val_loss: 0.5157 - val_accuracy: 0.7446\n",
      "Epoch 13/100\n",
      "17/17 [==============================] - 0s 3ms/step - loss: 0.3995 - accuracy: 0.8101 - val_loss: 0.5269 - val_accuracy: 0.7316\n",
      "Epoch 14/100\n",
      "17/17 [==============================] - 0s 2ms/step - loss: 0.3963 - accuracy: 0.8156 - val_loss: 0.5201 - val_accuracy: 0.7446\n",
      "Epoch 15/100\n",
      "17/17 [==============================] - 0s 2ms/step - loss: 0.3926 - accuracy: 0.8175 - val_loss: 0.5291 - val_accuracy: 0.7273\n",
      "Epoch 16/100\n",
      "17/17 [==============================] - 0s 2ms/step - loss: 0.3896 - accuracy: 0.8175 - val_loss: 0.5242 - val_accuracy: 0.7446\n",
      "Epoch 17/100\n",
      "17/17 [==============================] - 0s 2ms/step - loss: 0.3834 - accuracy: 0.8194 - val_loss: 0.5240 - val_accuracy: 0.7403\n",
      "Epoch 18/100\n",
      "17/17 [==============================] - 0s 3ms/step - loss: 0.3833 - accuracy: 0.8231 - val_loss: 0.5371 - val_accuracy: 0.7316\n",
      "Epoch 19/100\n",
      "17/17 [==============================] - 0s 2ms/step - loss: 0.3797 - accuracy: 0.8287 - val_loss: 0.5487 - val_accuracy: 0.7186\n",
      "Epoch 20/100\n",
      "17/17 [==============================] - 0s 3ms/step - loss: 0.3758 - accuracy: 0.8250 - val_loss: 0.5355 - val_accuracy: 0.7359\n",
      "Epoch 21/100\n",
      "17/17 [==============================] - 0s 3ms/step - loss: 0.3735 - accuracy: 0.8231 - val_loss: 0.5403 - val_accuracy: 0.7403\n",
      "Epoch 22/100\n",
      "17/17 [==============================] - 0s 2ms/step - loss: 0.3723 - accuracy: 0.8212 - val_loss: 0.5407 - val_accuracy: 0.7229\n",
      "Epoch 23/100\n",
      "17/17 [==============================] - 0s 2ms/step - loss: 0.3686 - accuracy: 0.8268 - val_loss: 0.5380 - val_accuracy: 0.7403\n",
      "Epoch 24/100\n",
      "17/17 [==============================] - 0s 2ms/step - loss: 0.3655 - accuracy: 0.8305 - val_loss: 0.5391 - val_accuracy: 0.7229\n",
      "Epoch 25/100\n",
      "17/17 [==============================] - 0s 2ms/step - loss: 0.3620 - accuracy: 0.8361 - val_loss: 0.5465 - val_accuracy: 0.7186\n",
      "Epoch 26/100\n",
      "17/17 [==============================] - 0s 2ms/step - loss: 0.3571 - accuracy: 0.8343 - val_loss: 0.5470 - val_accuracy: 0.7532\n",
      "Epoch 27/100\n",
      "17/17 [==============================] - 0s 2ms/step - loss: 0.3544 - accuracy: 0.8399 - val_loss: 0.5715 - val_accuracy: 0.7186\n",
      "Epoch 28/100\n",
      "17/17 [==============================] - 0s 2ms/step - loss: 0.3538 - accuracy: 0.8380 - val_loss: 0.5495 - val_accuracy: 0.7403\n",
      "Epoch 29/100\n",
      "17/17 [==============================] - 0s 2ms/step - loss: 0.3513 - accuracy: 0.8343 - val_loss: 0.5464 - val_accuracy: 0.7403\n",
      "Epoch 30/100\n",
      "17/17 [==============================] - 0s 2ms/step - loss: 0.3473 - accuracy: 0.8343 - val_loss: 0.5502 - val_accuracy: 0.7576\n",
      "Epoch 31/100\n",
      "17/17 [==============================] - 0s 2ms/step - loss: 0.3456 - accuracy: 0.8380 - val_loss: 0.5702 - val_accuracy: 0.7143\n",
      "Epoch 32/100\n",
      "17/17 [==============================] - 0s 2ms/step - loss: 0.3449 - accuracy: 0.8361 - val_loss: 0.5559 - val_accuracy: 0.7359\n",
      "Epoch 33/100\n",
      "17/17 [==============================] - 0s 2ms/step - loss: 0.3349 - accuracy: 0.8492 - val_loss: 0.5679 - val_accuracy: 0.7316\n",
      "Epoch 34/100\n",
      "17/17 [==============================] - 0s 2ms/step - loss: 0.3366 - accuracy: 0.8361 - val_loss: 0.5673 - val_accuracy: 0.7273\n",
      "Epoch 35/100\n",
      "17/17 [==============================] - 0s 2ms/step - loss: 0.3341 - accuracy: 0.8529 - val_loss: 0.5780 - val_accuracy: 0.7273\n",
      "Epoch 36/100\n",
      "17/17 [==============================] - 0s 2ms/step - loss: 0.3311 - accuracy: 0.8417 - val_loss: 0.5787 - val_accuracy: 0.7229\n",
      "Epoch 37/100\n",
      "17/17 [==============================] - 0s 2ms/step - loss: 0.3271 - accuracy: 0.8547 - val_loss: 0.5683 - val_accuracy: 0.7359\n",
      "Epoch 38/100\n",
      "17/17 [==============================] - 0s 2ms/step - loss: 0.3241 - accuracy: 0.8641 - val_loss: 0.5719 - val_accuracy: 0.7316\n",
      "Epoch 39/100\n",
      "17/17 [==============================] - 0s 2ms/step - loss: 0.3212 - accuracy: 0.8715 - val_loss: 0.5787 - val_accuracy: 0.7273\n",
      "Epoch 40/100\n",
      "17/17 [==============================] - 0s 2ms/step - loss: 0.3195 - accuracy: 0.8529 - val_loss: 0.5782 - val_accuracy: 0.7403\n",
      "Epoch 41/100\n",
      "17/17 [==============================] - 0s 2ms/step - loss: 0.3165 - accuracy: 0.8603 - val_loss: 0.5784 - val_accuracy: 0.7273\n",
      "Epoch 42/100\n",
      "17/17 [==============================] - 0s 2ms/step - loss: 0.3145 - accuracy: 0.8678 - val_loss: 0.5779 - val_accuracy: 0.7316\n",
      "Epoch 43/100\n",
      "17/17 [==============================] - 0s 2ms/step - loss: 0.3113 - accuracy: 0.8622 - val_loss: 0.5979 - val_accuracy: 0.7316\n",
      "Epoch 44/100\n",
      "17/17 [==============================] - 0s 2ms/step - loss: 0.3092 - accuracy: 0.8659 - val_loss: 0.5820 - val_accuracy: 0.7316\n",
      "Epoch 45/100\n",
      "17/17 [==============================] - 0s 2ms/step - loss: 0.3076 - accuracy: 0.8734 - val_loss: 0.5908 - val_accuracy: 0.7403\n",
      "Epoch 46/100\n",
      "17/17 [==============================] - 0s 2ms/step - loss: 0.3049 - accuracy: 0.8734 - val_loss: 0.5915 - val_accuracy: 0.7229\n",
      "Epoch 47/100\n",
      "17/17 [==============================] - 0s 2ms/step - loss: 0.3036 - accuracy: 0.8696 - val_loss: 0.5988 - val_accuracy: 0.7186\n",
      "Epoch 48/100\n",
      "17/17 [==============================] - 0s 2ms/step - loss: 0.3013 - accuracy: 0.8771 - val_loss: 0.5985 - val_accuracy: 0.7229\n",
      "Epoch 49/100\n",
      "17/17 [==============================] - 0s 2ms/step - loss: 0.2938 - accuracy: 0.8752 - val_loss: 0.5908 - val_accuracy: 0.7359\n",
      "Epoch 50/100\n",
      "17/17 [==============================] - 0s 3ms/step - loss: 0.2932 - accuracy: 0.8715 - val_loss: 0.5983 - val_accuracy: 0.7446\n",
      "Epoch 51/100\n",
      "17/17 [==============================] - 0s 2ms/step - loss: 0.2951 - accuracy: 0.8678 - val_loss: 0.6062 - val_accuracy: 0.7273\n",
      "Epoch 52/100\n",
      "17/17 [==============================] - 0s 2ms/step - loss: 0.2863 - accuracy: 0.8790 - val_loss: 0.6137 - val_accuracy: 0.7273\n",
      "Epoch 53/100\n",
      "17/17 [==============================] - 0s 2ms/step - loss: 0.2893 - accuracy: 0.8808 - val_loss: 0.6144 - val_accuracy: 0.7229\n",
      "Epoch 54/100\n",
      "17/17 [==============================] - 0s 2ms/step - loss: 0.2809 - accuracy: 0.8827 - val_loss: 0.6113 - val_accuracy: 0.7229\n",
      "Epoch 55/100\n",
      "17/17 [==============================] - 0s 2ms/step - loss: 0.2824 - accuracy: 0.8864 - val_loss: 0.6206 - val_accuracy: 0.7143\n",
      "Epoch 56/100\n",
      "17/17 [==============================] - 0s 2ms/step - loss: 0.2772 - accuracy: 0.8864 - val_loss: 0.6162 - val_accuracy: 0.7273\n",
      "Epoch 57/100\n",
      "17/17 [==============================] - 0s 2ms/step - loss: 0.2753 - accuracy: 0.8939 - val_loss: 0.6212 - val_accuracy: 0.7186\n",
      "Epoch 58/100\n",
      "17/17 [==============================] - 0s 2ms/step - loss: 0.2712 - accuracy: 0.8883 - val_loss: 0.6214 - val_accuracy: 0.7229\n",
      "Epoch 59/100\n",
      "17/17 [==============================] - 0s 2ms/step - loss: 0.2689 - accuracy: 0.8883 - val_loss: 0.6183 - val_accuracy: 0.7403\n",
      "Epoch 60/100\n",
      "17/17 [==============================] - 0s 2ms/step - loss: 0.2715 - accuracy: 0.8920 - val_loss: 0.6430 - val_accuracy: 0.7186\n",
      "Epoch 61/100\n",
      "17/17 [==============================] - 0s 2ms/step - loss: 0.2631 - accuracy: 0.8883 - val_loss: 0.6311 - val_accuracy: 0.7229\n",
      "Epoch 62/100\n",
      "17/17 [==============================] - 0s 2ms/step - loss: 0.2622 - accuracy: 0.8976 - val_loss: 0.6546 - val_accuracy: 0.7143\n",
      "Epoch 63/100\n",
      "17/17 [==============================] - 0s 2ms/step - loss: 0.2608 - accuracy: 0.8939 - val_loss: 0.6218 - val_accuracy: 0.7403\n",
      "Epoch 64/100\n",
      "17/17 [==============================] - 0s 2ms/step - loss: 0.2583 - accuracy: 0.8939 - val_loss: 0.6386 - val_accuracy: 0.7186\n",
      "Epoch 65/100\n",
      "17/17 [==============================] - 0s 2ms/step - loss: 0.2538 - accuracy: 0.8994 - val_loss: 0.6461 - val_accuracy: 0.7273\n",
      "Epoch 66/100\n",
      "17/17 [==============================] - 0s 2ms/step - loss: 0.2565 - accuracy: 0.9013 - val_loss: 0.6500 - val_accuracy: 0.7186\n",
      "Epoch 67/100\n",
      "17/17 [==============================] - 0s 2ms/step - loss: 0.2479 - accuracy: 0.9050 - val_loss: 0.6615 - val_accuracy: 0.7273\n",
      "Epoch 68/100\n",
      "17/17 [==============================] - 0s 2ms/step - loss: 0.2465 - accuracy: 0.9106 - val_loss: 0.6641 - val_accuracy: 0.7273\n",
      "Epoch 69/100\n",
      "17/17 [==============================] - 0s 2ms/step - loss: 0.2469 - accuracy: 0.9088 - val_loss: 0.6439 - val_accuracy: 0.7359\n",
      "Epoch 70/100\n",
      "17/17 [==============================] - 0s 2ms/step - loss: 0.2394 - accuracy: 0.9069 - val_loss: 0.6434 - val_accuracy: 0.7446\n",
      "Epoch 71/100\n",
      "17/17 [==============================] - 0s 2ms/step - loss: 0.2385 - accuracy: 0.9050 - val_loss: 0.6516 - val_accuracy: 0.7403\n",
      "Epoch 72/100\n",
      "17/17 [==============================] - 0s 2ms/step - loss: 0.2402 - accuracy: 0.9013 - val_loss: 0.6362 - val_accuracy: 0.7359\n",
      "Epoch 73/100\n",
      "17/17 [==============================] - 0s 2ms/step - loss: 0.2351 - accuracy: 0.9069 - val_loss: 0.6624 - val_accuracy: 0.7359\n",
      "Epoch 74/100\n",
      "17/17 [==============================] - 0s 2ms/step - loss: 0.2304 - accuracy: 0.9088 - val_loss: 0.6589 - val_accuracy: 0.7359\n",
      "Epoch 75/100\n",
      "17/17 [==============================] - 0s 2ms/step - loss: 0.2271 - accuracy: 0.9125 - val_loss: 0.6729 - val_accuracy: 0.7229\n",
      "Epoch 76/100\n",
      "17/17 [==============================] - 0s 2ms/step - loss: 0.2251 - accuracy: 0.9218 - val_loss: 0.6546 - val_accuracy: 0.7359\n",
      "Epoch 77/100\n",
      "17/17 [==============================] - 0s 3ms/step - loss: 0.2247 - accuracy: 0.9143 - val_loss: 0.6648 - val_accuracy: 0.7359\n",
      "Epoch 78/100\n",
      "17/17 [==============================] - 0s 2ms/step - loss: 0.2234 - accuracy: 0.9199 - val_loss: 0.7012 - val_accuracy: 0.7403\n",
      "Epoch 79/100\n",
      "17/17 [==============================] - 0s 2ms/step - loss: 0.2158 - accuracy: 0.9236 - val_loss: 0.7202 - val_accuracy: 0.7359\n",
      "Epoch 80/100\n",
      "17/17 [==============================] - 0s 2ms/step - loss: 0.2185 - accuracy: 0.9162 - val_loss: 0.6808 - val_accuracy: 0.7359\n",
      "Epoch 81/100\n",
      "17/17 [==============================] - 0s 2ms/step - loss: 0.2109 - accuracy: 0.9274 - val_loss: 0.7090 - val_accuracy: 0.7403\n",
      "Epoch 82/100\n",
      "17/17 [==============================] - 0s 2ms/step - loss: 0.2098 - accuracy: 0.9274 - val_loss: 0.7019 - val_accuracy: 0.7316\n",
      "Epoch 83/100\n",
      "17/17 [==============================] - 0s 2ms/step - loss: 0.2119 - accuracy: 0.9218 - val_loss: 0.6783 - val_accuracy: 0.7446\n",
      "Epoch 84/100\n",
      "17/17 [==============================] - 0s 2ms/step - loss: 0.2039 - accuracy: 0.9255 - val_loss: 0.6916 - val_accuracy: 0.7273\n",
      "Epoch 85/100\n",
      "17/17 [==============================] - 0s 2ms/step - loss: 0.1990 - accuracy: 0.9367 - val_loss: 0.7111 - val_accuracy: 0.7316\n",
      "Epoch 86/100\n",
      "17/17 [==============================] - 0s 2ms/step - loss: 0.2027 - accuracy: 0.9236 - val_loss: 0.7271 - val_accuracy: 0.7316\n",
      "Epoch 87/100\n",
      "17/17 [==============================] - 0s 2ms/step - loss: 0.1958 - accuracy: 0.9292 - val_loss: 0.6869 - val_accuracy: 0.7446\n",
      "Epoch 88/100\n",
      "17/17 [==============================] - 0s 2ms/step - loss: 0.1947 - accuracy: 0.9348 - val_loss: 0.6989 - val_accuracy: 0.7273\n",
      "Epoch 89/100\n",
      "17/17 [==============================] - 0s 2ms/step - loss: 0.1901 - accuracy: 0.9367 - val_loss: 0.7302 - val_accuracy: 0.7403\n",
      "Epoch 90/100\n",
      "17/17 [==============================] - 0s 2ms/step - loss: 0.1937 - accuracy: 0.9218 - val_loss: 0.7163 - val_accuracy: 0.7316\n",
      "Epoch 91/100\n",
      "17/17 [==============================] - 0s 2ms/step - loss: 0.1893 - accuracy: 0.9348 - val_loss: 0.7028 - val_accuracy: 0.7359\n",
      "Epoch 92/100\n",
      "17/17 [==============================] - 0s 2ms/step - loss: 0.1913 - accuracy: 0.9292 - val_loss: 0.7217 - val_accuracy: 0.7316\n",
      "Epoch 93/100\n",
      "17/17 [==============================] - 0s 2ms/step - loss: 0.1836 - accuracy: 0.9404 - val_loss: 0.7534 - val_accuracy: 0.7273\n",
      "Epoch 94/100\n",
      "17/17 [==============================] - 0s 2ms/step - loss: 0.1813 - accuracy: 0.9330 - val_loss: 0.7256 - val_accuracy: 0.7359\n",
      "Epoch 95/100\n",
      "17/17 [==============================] - 0s 2ms/step - loss: 0.1781 - accuracy: 0.9479 - val_loss: 0.7581 - val_accuracy: 0.7186\n",
      "Epoch 96/100\n",
      "17/17 [==============================] - 0s 2ms/step - loss: 0.1760 - accuracy: 0.9330 - val_loss: 0.7703 - val_accuracy: 0.7056\n",
      "Epoch 97/100\n",
      "17/17 [==============================] - 0s 2ms/step - loss: 0.1756 - accuracy: 0.9311 - val_loss: 0.7314 - val_accuracy: 0.7316\n",
      "Epoch 98/100\n",
      "17/17 [==============================] - 0s 2ms/step - loss: 0.1699 - accuracy: 0.9441 - val_loss: 0.7260 - val_accuracy: 0.7316\n",
      "Epoch 99/100\n",
      "17/17 [==============================] - 0s 2ms/step - loss: 0.1748 - accuracy: 0.9423 - val_loss: 0.7700 - val_accuracy: 0.7273\n",
      "Epoch 100/100\n",
      "17/17 [==============================] - 0s 2ms/step - loss: 0.1681 - accuracy: 0.9441 - val_loss: 0.7494 - val_accuracy: 0.7316\n"
     ]
    },
    {
     "data": {
      "text/plain": [
       "<keras.src.callbacks.History at 0x1fd22fc7d90>"
      ]
     },
     "execution_count": 34,
     "metadata": {},
     "output_type": "execute_result"
    }
   ],
   "source": [
    "model.fit(x_train, y_train , batch_size=32 , epochs=100 , initial_epoch=6 , validation_data=(x_test,y_test)) # 5 ta epochs already run korce tai 6 theke start hyce"
   ]
  },
  {
   "cell_type": "markdown",
   "metadata": {},
   "source": [
    "Accuracy has improved by using appropriate number of nuron but validation accurecy did not improved so much "
   ]
  },
  {
   "cell_type": "code",
   "execution_count": null,
   "metadata": {},
   "outputs": [],
   "source": []
  }
 ],
 "metadata": {
  "kernelspec": {
   "display_name": "Python 3",
   "language": "python",
   "name": "python3"
  },
  "language_info": {
   "codemirror_mode": {
    "name": "ipython",
    "version": 3
   },
   "file_extension": ".py",
   "mimetype": "text/x-python",
   "name": "python",
   "nbconvert_exporter": "python",
   "pygments_lexer": "ipython3",
   "version": "3.10.8"
  }
 },
 "nbformat": 4,
 "nbformat_minor": 2
}
