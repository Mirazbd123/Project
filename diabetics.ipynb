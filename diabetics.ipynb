{
 "cells": [
  {
   "cell_type": "markdown",
   "metadata": {},
   "source": [
    "Here i am using ANN with Hyperparameter Tuning"
   ]
  },
  {
   "cell_type": "code",
   "execution_count": 39,
   "metadata": {},
   "outputs": [],
   "source": [
    "import pandas as pd\n",
    "import numpy as np\n",
    "from sklearn.preprocessing import StandardScaler\n",
    "from sklearn.model_selection import train_test_split\n",
    "import tensorflow\n",
    "from tensorflow import keras \n",
    "from keras import Sequential\n",
    "from keras.layers import Dense , Dropout"
   ]
  },
  {
   "cell_type": "code",
   "execution_count": 3,
   "metadata": {},
   "outputs": [],
   "source": [
    "df = pd.read_csv(\"E:\\dekstop moved ap\\Data set\\diabetics\\diabetes.csv\")"
   ]
  },
  {
   "cell_type": "code",
   "execution_count": 4,
   "metadata": {},
   "outputs": [
    {
     "data": {
      "text/html": [
       "<div>\n",
       "<style scoped>\n",
       "    .dataframe tbody tr th:only-of-type {\n",
       "        vertical-align: middle;\n",
       "    }\n",
       "\n",
       "    .dataframe tbody tr th {\n",
       "        vertical-align: top;\n",
       "    }\n",
       "\n",
       "    .dataframe thead th {\n",
       "        text-align: right;\n",
       "    }\n",
       "</style>\n",
       "<table border=\"1\" class=\"dataframe\">\n",
       "  <thead>\n",
       "    <tr style=\"text-align: right;\">\n",
       "      <th></th>\n",
       "      <th>Pregnancies</th>\n",
       "      <th>Glucose</th>\n",
       "      <th>BloodPressure</th>\n",
       "      <th>SkinThickness</th>\n",
       "      <th>Insulin</th>\n",
       "      <th>BMI</th>\n",
       "      <th>DiabetesPedigreeFunction</th>\n",
       "      <th>Age</th>\n",
       "      <th>Outcome</th>\n",
       "    </tr>\n",
       "  </thead>\n",
       "  <tbody>\n",
       "    <tr>\n",
       "      <th>0</th>\n",
       "      <td>6</td>\n",
       "      <td>148</td>\n",
       "      <td>72</td>\n",
       "      <td>35</td>\n",
       "      <td>0</td>\n",
       "      <td>33.6</td>\n",
       "      <td>0.627</td>\n",
       "      <td>50</td>\n",
       "      <td>1</td>\n",
       "    </tr>\n",
       "    <tr>\n",
       "      <th>1</th>\n",
       "      <td>1</td>\n",
       "      <td>85</td>\n",
       "      <td>66</td>\n",
       "      <td>29</td>\n",
       "      <td>0</td>\n",
       "      <td>26.6</td>\n",
       "      <td>0.351</td>\n",
       "      <td>31</td>\n",
       "      <td>0</td>\n",
       "    </tr>\n",
       "    <tr>\n",
       "      <th>2</th>\n",
       "      <td>8</td>\n",
       "      <td>183</td>\n",
       "      <td>64</td>\n",
       "      <td>0</td>\n",
       "      <td>0</td>\n",
       "      <td>23.3</td>\n",
       "      <td>0.672</td>\n",
       "      <td>32</td>\n",
       "      <td>1</td>\n",
       "    </tr>\n",
       "    <tr>\n",
       "      <th>3</th>\n",
       "      <td>1</td>\n",
       "      <td>89</td>\n",
       "      <td>66</td>\n",
       "      <td>23</td>\n",
       "      <td>94</td>\n",
       "      <td>28.1</td>\n",
       "      <td>0.167</td>\n",
       "      <td>21</td>\n",
       "      <td>0</td>\n",
       "    </tr>\n",
       "    <tr>\n",
       "      <th>4</th>\n",
       "      <td>0</td>\n",
       "      <td>137</td>\n",
       "      <td>40</td>\n",
       "      <td>35</td>\n",
       "      <td>168</td>\n",
       "      <td>43.1</td>\n",
       "      <td>2.288</td>\n",
       "      <td>33</td>\n",
       "      <td>1</td>\n",
       "    </tr>\n",
       "  </tbody>\n",
       "</table>\n",
       "</div>"
      ],
      "text/plain": [
       "   Pregnancies  Glucose  BloodPressure  SkinThickness  Insulin   BMI  \\\n",
       "0            6      148             72             35        0  33.6   \n",
       "1            1       85             66             29        0  26.6   \n",
       "2            8      183             64              0        0  23.3   \n",
       "3            1       89             66             23       94  28.1   \n",
       "4            0      137             40             35      168  43.1   \n",
       "\n",
       "   DiabetesPedigreeFunction  Age  Outcome  \n",
       "0                     0.627   50        1  \n",
       "1                     0.351   31        0  \n",
       "2                     0.672   32        1  \n",
       "3                     0.167   21        0  \n",
       "4                     2.288   33        1  "
      ]
     },
     "execution_count": 4,
     "metadata": {},
     "output_type": "execute_result"
    }
   ],
   "source": [
    "df.head()"
   ]
  },
  {
   "cell_type": "code",
   "execution_count": 5,
   "metadata": {},
   "outputs": [
    {
     "data": {
      "text/plain": [
       "(768, 9)"
      ]
     },
     "execution_count": 5,
     "metadata": {},
     "output_type": "execute_result"
    }
   ],
   "source": [
    "df.shape"
   ]
  },
  {
   "cell_type": "code",
   "execution_count": 6,
   "metadata": {},
   "outputs": [
    {
     "data": {
      "text/plain": [
       "Index(['Pregnancies', 'Glucose', 'BloodPressure', 'SkinThickness', 'Insulin',\n",
       "       'BMI', 'DiabetesPedigreeFunction', 'Age', 'Outcome'],\n",
       "      dtype='object')"
      ]
     },
     "execution_count": 6,
     "metadata": {},
     "output_type": "execute_result"
    }
   ],
   "source": [
    "df.columns"
   ]
  },
  {
   "cell_type": "code",
   "execution_count": 7,
   "metadata": {},
   "outputs": [
    {
     "data": {
      "text/plain": [
       "Pregnancies                 0\n",
       "Glucose                     0\n",
       "BloodPressure               0\n",
       "SkinThickness               0\n",
       "Insulin                     0\n",
       "BMI                         0\n",
       "DiabetesPedigreeFunction    0\n",
       "Age                         0\n",
       "Outcome                     0\n",
       "dtype: int64"
      ]
     },
     "execution_count": 7,
     "metadata": {},
     "output_type": "execute_result"
    }
   ],
   "source": [
    "df.isnull().sum()"
   ]
  },
  {
   "cell_type": "code",
   "execution_count": 8,
   "metadata": {},
   "outputs": [
    {
     "data": {
      "text/plain": [
       "Pregnancies                 0.221898\n",
       "Glucose                     0.466581\n",
       "BloodPressure               0.065068\n",
       "SkinThickness               0.074752\n",
       "Insulin                     0.130548\n",
       "BMI                         0.292695\n",
       "DiabetesPedigreeFunction    0.173844\n",
       "Age                         0.238356\n",
       "Outcome                     1.000000\n",
       "Name: Outcome, dtype: float64"
      ]
     },
     "execution_count": 8,
     "metadata": {},
     "output_type": "execute_result"
    }
   ],
   "source": [
    "df.corr()['Outcome']"
   ]
  },
  {
   "cell_type": "code",
   "execution_count": 9,
   "metadata": {},
   "outputs": [],
   "source": [
    "x = df.drop(columns = 'Outcome').values\n",
    "y = df['Outcome'].values"
   ]
  },
  {
   "cell_type": "code",
   "execution_count": 10,
   "metadata": {},
   "outputs": [
    {
     "name": "stdout",
     "output_type": "stream",
     "text": [
      "[[  6.    148.     72.    ...  33.6     0.627  50.   ]\n",
      " [  1.     85.     66.    ...  26.6     0.351  31.   ]\n",
      " [  8.    183.     64.    ...  23.3     0.672  32.   ]\n",
      " ...\n",
      " [  5.    121.     72.    ...  26.2     0.245  30.   ]\n",
      " [  1.    126.     60.    ...  30.1     0.349  47.   ]\n",
      " [  1.     93.     70.    ...  30.4     0.315  23.   ]]\n",
      "[1 0 1 0 1 0 1 0 1 1 0 1 0 1 1 1 1 1 0 1 0 0 1 1 1 1 1 0 0 0 0 1 0 0 0 0 0\n",
      " 1 1 1 0 0 0 1 0 1 0 0 1 0 0 0 0 1 0 0 1 0 0 0 0 1 0 0 1 0 1 0 0 0 1 0 1 0\n",
      " 0 0 0 0 1 0 0 0 0 0 1 0 0 0 1 0 0 0 0 1 0 0 0 0 0 1 1 0 0 0 0 0 0 0 0 1 1\n",
      " 1 0 0 1 1 1 0 0 0 1 0 0 0 1 1 0 0 1 1 1 1 1 0 0 0 0 0 0 0 0 0 0 1 0 0 0 0\n",
      " 0 0 0 0 1 0 1 1 0 0 0 1 0 0 0 0 1 1 0 0 0 0 1 1 0 0 0 1 0 1 0 1 0 0 0 0 0\n",
      " 1 1 1 1 1 0 0 1 1 0 1 0 1 1 1 0 0 0 0 0 0 1 1 0 1 0 0 0 1 1 1 1 0 1 1 1 1\n",
      " 0 0 0 0 0 1 0 0 1 1 0 0 0 1 1 1 1 0 0 0 1 1 0 1 0 0 0 0 0 0 0 0 1 1 0 0 0\n",
      " 1 0 1 0 0 1 0 1 0 0 1 1 0 0 0 0 0 1 0 0 0 1 0 0 1 1 0 0 1 0 0 0 1 1 1 0 0\n",
      " 1 0 1 0 1 1 0 1 0 0 1 0 1 1 0 0 1 0 1 0 0 1 0 1 0 1 1 1 0 0 1 0 1 0 0 0 1\n",
      " 0 0 0 0 1 1 1 0 0 0 0 0 0 0 0 0 1 0 0 0 0 0 1 1 1 0 1 1 0 0 1 0 0 1 0 0 1\n",
      " 1 0 0 0 0 1 0 0 1 0 0 0 0 0 0 0 1 1 1 0 0 1 0 0 1 0 0 1 0 1 1 0 1 0 1 0 1\n",
      " 0 1 1 0 0 0 0 1 1 0 1 0 1 0 0 0 0 1 1 0 1 0 1 0 0 0 0 0 1 0 0 0 0 1 0 0 1\n",
      " 1 1 0 0 1 0 0 1 0 0 0 1 0 0 1 0 0 0 0 0 0 0 0 0 1 0 0 0 0 0 0 0 1 0 0 0 1\n",
      " 0 0 0 1 1 0 0 0 0 0 0 0 1 0 0 0 0 1 0 0 0 1 0 0 0 1 0 0 0 1 0 0 0 0 1 1 0\n",
      " 0 0 0 0 0 1 0 0 0 0 0 0 0 0 0 0 0 1 0 0 0 1 1 1 1 0 0 1 1 0 0 0 0 0 0 0 0\n",
      " 0 0 0 0 0 1 1 0 0 0 0 0 0 0 1 0 0 0 0 0 0 0 1 0 1 1 0 0 0 1 0 1 0 1 0 1 0\n",
      " 1 0 0 1 0 0 1 0 0 0 0 1 1 0 1 0 0 0 0 1 1 0 1 0 0 0 1 1 0 0 0 0 0 0 0 0 0\n",
      " 0 1 0 0 0 0 1 0 0 1 0 0 0 1 0 0 0 1 1 1 0 0 0 0 0 0 1 0 0 0 1 0 1 1 1 1 0\n",
      " 1 1 0 0 0 0 0 0 0 1 1 0 1 0 0 1 0 1 0 0 0 0 0 1 0 1 0 1 0 1 1 0 0 0 0 1 1\n",
      " 0 0 0 1 0 1 1 0 0 1 0 0 1 1 0 0 1 0 0 1 0 0 0 0 0 0 0 1 1 1 0 0 0 0 0 0 1\n",
      " 1 0 0 1 0 0 1 0 1 1 1 0 0 1 1 1 0 1 0 1 0 1 0 0 0 0 1 0]\n"
     ]
    }
   ],
   "source": [
    "print(x)\n",
    "print(y)\n"
   ]
  },
  {
   "cell_type": "code",
   "execution_count": 11,
   "metadata": {},
   "outputs": [],
   "source": [
    "scale = StandardScaler()\n",
    "x_scale = scale.fit_transform(x)"
   ]
  },
  {
   "cell_type": "code",
   "execution_count": 12,
   "metadata": {},
   "outputs": [
    {
     "data": {
      "text/plain": [
       "array([[ 0.63994726,  0.84832379,  0.14964075, ...,  0.20401277,\n",
       "         0.46849198,  1.4259954 ],\n",
       "       [-0.84488505, -1.12339636, -0.16054575, ..., -0.68442195,\n",
       "        -0.36506078, -0.19067191],\n",
       "       [ 1.23388019,  1.94372388, -0.26394125, ..., -1.10325546,\n",
       "         0.60439732, -0.10558415],\n",
       "       ...,\n",
       "       [ 0.3429808 ,  0.00330087,  0.14964075, ..., -0.73518964,\n",
       "        -0.68519336, -0.27575966],\n",
       "       [-0.84488505,  0.1597866 , -0.47073225, ..., -0.24020459,\n",
       "        -0.37110101,  1.17073215],\n",
       "       [-0.84488505, -0.8730192 ,  0.04624525, ..., -0.20212881,\n",
       "        -0.47378505, -0.87137393]])"
      ]
     },
     "execution_count": 12,
     "metadata": {},
     "output_type": "execute_result"
    }
   ],
   "source": [
    "x_scale"
   ]
  },
  {
   "cell_type": "code",
   "execution_count": 13,
   "metadata": {},
   "outputs": [],
   "source": [
    "x_train , x_test , y_train , y_test = train_test_split(x_scale,y , test_size= 0.3 , random_state=3)"
   ]
  },
  {
   "cell_type": "code",
   "execution_count": 14,
   "metadata": {},
   "outputs": [
    {
     "data": {
      "text/plain": [
       "8"
      ]
     },
     "execution_count": 14,
     "metadata": {},
     "output_type": "execute_result"
    }
   ],
   "source": [
    "x_train.shape[1]"
   ]
  },
  {
   "cell_type": "code",
   "execution_count": 15,
   "metadata": {},
   "outputs": [],
   "source": [
    "model = Sequential()\n",
    "model.add(Dense(64 , activation='relu' , input_dim = x_train.shape[1]))\n",
    "model.add(Dense(32 , activation = 'relu' , input_dim = 64))\n",
    "model.add(Dense(1 , activation='sigmoid'))\n",
    "\n",
    "model.compile(optimizer='Adam' , loss = 'binary_crossentropy' , metrics=['accuracy'])"
   ]
  },
  {
   "cell_type": "code",
   "execution_count": 16,
   "metadata": {},
   "outputs": [
    {
     "name": "stdout",
     "output_type": "stream",
     "text": [
      "Epoch 1/10\n",
      "17/17 [==============================] - 1s 9ms/step - loss: 0.6129 - accuracy: 0.7002 - val_loss: 0.5965 - val_accuracy: 0.6537\n",
      "Epoch 2/10\n",
      "17/17 [==============================] - 0s 2ms/step - loss: 0.5190 - accuracy: 0.7616 - val_loss: 0.5582 - val_accuracy: 0.7013\n",
      "Epoch 3/10\n",
      "17/17 [==============================] - 0s 2ms/step - loss: 0.4766 - accuracy: 0.7747 - val_loss: 0.5314 - val_accuracy: 0.7273\n",
      "Epoch 4/10\n",
      "17/17 [==============================] - 0s 2ms/step - loss: 0.4535 - accuracy: 0.7952 - val_loss: 0.5251 - val_accuracy: 0.7446\n",
      "Epoch 5/10\n",
      "17/17 [==============================] - 0s 3ms/step - loss: 0.4425 - accuracy: 0.7933 - val_loss: 0.5182 - val_accuracy: 0.7532\n",
      "Epoch 6/10\n",
      "17/17 [==============================] - 0s 2ms/step - loss: 0.4354 - accuracy: 0.7970 - val_loss: 0.5110 - val_accuracy: 0.7576\n",
      "Epoch 7/10\n",
      "17/17 [==============================] - 0s 2ms/step - loss: 0.4290 - accuracy: 0.7989 - val_loss: 0.5195 - val_accuracy: 0.7619\n",
      "Epoch 8/10\n",
      "17/17 [==============================] - 0s 2ms/step - loss: 0.4250 - accuracy: 0.8045 - val_loss: 0.5217 - val_accuracy: 0.7489\n",
      "Epoch 9/10\n",
      "17/17 [==============================] - 0s 2ms/step - loss: 0.4205 - accuracy: 0.8063 - val_loss: 0.5098 - val_accuracy: 0.7446\n",
      "Epoch 10/10\n",
      "17/17 [==============================] - 0s 2ms/step - loss: 0.4160 - accuracy: 0.8026 - val_loss: 0.5156 - val_accuracy: 0.7446\n"
     ]
    },
    {
     "data": {
      "text/plain": [
       "<keras.src.callbacks.History at 0x18ee44b77c0>"
      ]
     },
     "execution_count": 16,
     "metadata": {},
     "output_type": "execute_result"
    }
   ],
   "source": [
    "model.fit(x_train , y_train , batch_size=32 , epochs=10, validation_data=(x_test , y_test))"
   ]
  },
  {
   "cell_type": "markdown",
   "metadata": {},
   "source": [
    "Using keras tuner for getting the appropriate optimer"
   ]
  },
  {
   "cell_type": "code",
   "execution_count": 17,
   "metadata": {},
   "outputs": [
    {
     "name": "stderr",
     "output_type": "stream",
     "text": [
      "C:\\Users\\USER\\AppData\\Local\\Temp\\ipykernel_9252\\1654478174.py:1: DeprecationWarning: `import kerastuner` is deprecated, please use `import keras_tuner`.\n",
      "  import kerastuner as kt\n"
     ]
    }
   ],
   "source": [
    "import kerastuner as kt"
   ]
  },
  {
   "cell_type": "code",
   "execution_count": 18,
   "metadata": {},
   "outputs": [],
   "source": [
    "def build_model(hp):\n",
    "    model = Sequential()\n",
    "    model.add(Dense(64 , activation='relu' , input_dim = x_train.shape[1]))\n",
    "    model.add(Dense(32 , activation = 'relu' , input_dim = 64))\n",
    "    model.add(Dense(1 , activation='sigmoid'))\n",
    "\n",
    "    optimizer = hp.Choice('optimizer',values = ['adam' , 'sgd' , 'rmsprop' , 'adadelta'])\n",
    "    model.compile(optimizer=optimizer , loss = 'binary_crossentropy' , metrics=['accuracy'])\n",
    "    \n",
    "    return model"
   ]
  },
  {
   "cell_type": "code",
   "execution_count": 19,
   "metadata": {},
   "outputs": [
    {
     "name": "stdout",
     "output_type": "stream",
     "text": [
      "Trial 4 Complete [00h 00m 02s]\n",
      "val_accuracy: 0.7316017150878906\n",
      "\n",
      "Best val_accuracy So Far: 0.7402597665786743\n",
      "Total elapsed time: 00h 00m 06s\n"
     ]
    }
   ],
   "source": [
    "tuner = kt.RandomSearch(build_model , objective= 'val_accuracy' , max_trials=5)\n",
    "tuner.search(x_train,y_train , epochs = 5 , validation_data = (x_test,y_test))"
   ]
  },
  {
   "cell_type": "code",
   "execution_count": 20,
   "metadata": {},
   "outputs": [
    {
     "data": {
      "text/plain": [
       "{'optimizer': 'rmsprop'}"
      ]
     },
     "execution_count": 20,
     "metadata": {},
     "output_type": "execute_result"
    }
   ],
   "source": [
    "tuner.get_best_hyperparameters()[0].values"
   ]
  },
  {
   "cell_type": "code",
   "execution_count": 21,
   "metadata": {},
   "outputs": [],
   "source": [
    "model = tuner.get_best_models(num_models=1)[0]"
   ]
  },
  {
   "cell_type": "code",
   "execution_count": 22,
   "metadata": {},
   "outputs": [
    {
     "name": "stdout",
     "output_type": "stream",
     "text": [
      "Model: \"sequential\"\n",
      "_________________________________________________________________\n",
      " Layer (type)                Output Shape              Param #   \n",
      "=================================================================\n",
      " dense (Dense)               (None, 64)                576       \n",
      "                                                                 \n",
      " dense_1 (Dense)             (None, 32)                2080      \n",
      "                                                                 \n",
      " dense_2 (Dense)             (None, 1)                 33        \n",
      "                                                                 \n",
      "=================================================================\n",
      "Total params: 2689 (10.50 KB)\n",
      "Trainable params: 2689 (10.50 KB)\n",
      "Non-trainable params: 0 (0.00 Byte)\n",
      "_________________________________________________________________\n"
     ]
    }
   ],
   "source": [
    "model.summary()"
   ]
  },
  {
   "cell_type": "code",
   "execution_count": 23,
   "metadata": {},
   "outputs": [
    {
     "name": "stdout",
     "output_type": "stream",
     "text": [
      "Epoch 7/100\n",
      "17/17 [==============================] - 0s 8ms/step - loss: 0.4487 - accuracy: 0.7970 - val_loss: 0.5092 - val_accuracy: 0.7403\n",
      "Epoch 8/100\n",
      "17/17 [==============================] - 0s 2ms/step - loss: 0.4387 - accuracy: 0.7933 - val_loss: 0.5046 - val_accuracy: 0.7576\n",
      "Epoch 9/100\n",
      "17/17 [==============================] - 0s 3ms/step - loss: 0.4323 - accuracy: 0.7989 - val_loss: 0.5122 - val_accuracy: 0.7446\n",
      "Epoch 10/100\n",
      "17/17 [==============================] - 0s 2ms/step - loss: 0.4274 - accuracy: 0.7989 - val_loss: 0.5026 - val_accuracy: 0.7662\n",
      "Epoch 11/100\n",
      "17/17 [==============================] - 0s 2ms/step - loss: 0.4234 - accuracy: 0.7989 - val_loss: 0.5108 - val_accuracy: 0.7446\n",
      "Epoch 12/100\n",
      "17/17 [==============================] - 0s 2ms/step - loss: 0.4196 - accuracy: 0.8007 - val_loss: 0.5081 - val_accuracy: 0.7576\n",
      "Epoch 13/100\n",
      "17/17 [==============================] - 0s 2ms/step - loss: 0.4162 - accuracy: 0.8026 - val_loss: 0.5093 - val_accuracy: 0.7532\n",
      "Epoch 14/100\n",
      "17/17 [==============================] - 0s 2ms/step - loss: 0.4128 - accuracy: 0.8119 - val_loss: 0.5088 - val_accuracy: 0.7532\n",
      "Epoch 15/100\n",
      "17/17 [==============================] - 0s 2ms/step - loss: 0.4092 - accuracy: 0.8045 - val_loss: 0.5148 - val_accuracy: 0.7489\n",
      "Epoch 16/100\n",
      "17/17 [==============================] - 0s 2ms/step - loss: 0.4078 - accuracy: 0.8156 - val_loss: 0.5114 - val_accuracy: 0.7489\n",
      "Epoch 17/100\n",
      "17/17 [==============================] - 0s 2ms/step - loss: 0.4046 - accuracy: 0.8250 - val_loss: 0.5148 - val_accuracy: 0.7446\n",
      "Epoch 18/100\n",
      "17/17 [==============================] - 0s 2ms/step - loss: 0.4014 - accuracy: 0.8175 - val_loss: 0.5176 - val_accuracy: 0.7359\n",
      "Epoch 19/100\n",
      "17/17 [==============================] - 0s 2ms/step - loss: 0.4000 - accuracy: 0.8212 - val_loss: 0.5147 - val_accuracy: 0.7576\n",
      "Epoch 20/100\n",
      "17/17 [==============================] - 0s 2ms/step - loss: 0.3972 - accuracy: 0.8231 - val_loss: 0.5203 - val_accuracy: 0.7489\n",
      "Epoch 21/100\n",
      "17/17 [==============================] - 0s 2ms/step - loss: 0.3962 - accuracy: 0.8250 - val_loss: 0.5146 - val_accuracy: 0.7489\n",
      "Epoch 22/100\n",
      "17/17 [==============================] - 0s 2ms/step - loss: 0.3926 - accuracy: 0.8156 - val_loss: 0.5194 - val_accuracy: 0.7532\n",
      "Epoch 23/100\n",
      "17/17 [==============================] - 0s 3ms/step - loss: 0.3938 - accuracy: 0.8175 - val_loss: 0.5236 - val_accuracy: 0.7532\n",
      "Epoch 24/100\n",
      "17/17 [==============================] - 0s 2ms/step - loss: 0.3889 - accuracy: 0.8268 - val_loss: 0.5205 - val_accuracy: 0.7446\n",
      "Epoch 25/100\n",
      "17/17 [==============================] - 0s 2ms/step - loss: 0.3875 - accuracy: 0.8324 - val_loss: 0.5269 - val_accuracy: 0.7532\n",
      "Epoch 26/100\n",
      "17/17 [==============================] - 0s 2ms/step - loss: 0.3865 - accuracy: 0.8268 - val_loss: 0.5278 - val_accuracy: 0.7532\n",
      "Epoch 27/100\n",
      "17/17 [==============================] - 0s 2ms/step - loss: 0.3842 - accuracy: 0.8305 - val_loss: 0.5233 - val_accuracy: 0.7403\n",
      "Epoch 28/100\n",
      "17/17 [==============================] - 0s 2ms/step - loss: 0.3818 - accuracy: 0.8212 - val_loss: 0.5326 - val_accuracy: 0.7489\n",
      "Epoch 29/100\n",
      "17/17 [==============================] - 0s 2ms/step - loss: 0.3820 - accuracy: 0.8268 - val_loss: 0.5291 - val_accuracy: 0.7489\n",
      "Epoch 30/100\n",
      "17/17 [==============================] - 0s 2ms/step - loss: 0.3794 - accuracy: 0.8250 - val_loss: 0.5313 - val_accuracy: 0.7446\n",
      "Epoch 31/100\n",
      "17/17 [==============================] - 0s 2ms/step - loss: 0.3766 - accuracy: 0.8305 - val_loss: 0.5344 - val_accuracy: 0.7446\n",
      "Epoch 32/100\n",
      "17/17 [==============================] - 0s 2ms/step - loss: 0.3749 - accuracy: 0.8324 - val_loss: 0.5358 - val_accuracy: 0.7489\n",
      "Epoch 33/100\n",
      "17/17 [==============================] - 0s 2ms/step - loss: 0.3738 - accuracy: 0.8305 - val_loss: 0.5320 - val_accuracy: 0.7446\n",
      "Epoch 34/100\n",
      "17/17 [==============================] - 0s 2ms/step - loss: 0.3734 - accuracy: 0.8305 - val_loss: 0.5332 - val_accuracy: 0.7403\n",
      "Epoch 35/100\n",
      "17/17 [==============================] - 0s 3ms/step - loss: 0.3702 - accuracy: 0.8324 - val_loss: 0.5364 - val_accuracy: 0.7446\n",
      "Epoch 36/100\n",
      "17/17 [==============================] - 0s 2ms/step - loss: 0.3677 - accuracy: 0.8287 - val_loss: 0.5474 - val_accuracy: 0.7359\n",
      "Epoch 37/100\n",
      "17/17 [==============================] - 0s 2ms/step - loss: 0.3673 - accuracy: 0.8343 - val_loss: 0.5379 - val_accuracy: 0.7359\n",
      "Epoch 38/100\n",
      "17/17 [==============================] - 0s 2ms/step - loss: 0.3647 - accuracy: 0.8343 - val_loss: 0.5447 - val_accuracy: 0.7403\n",
      "Epoch 39/100\n",
      "17/17 [==============================] - 0s 2ms/step - loss: 0.3625 - accuracy: 0.8343 - val_loss: 0.5418 - val_accuracy: 0.7359\n",
      "Epoch 40/100\n",
      "17/17 [==============================] - 0s 2ms/step - loss: 0.3623 - accuracy: 0.8324 - val_loss: 0.5447 - val_accuracy: 0.7403\n",
      "Epoch 41/100\n",
      "17/17 [==============================] - 0s 2ms/step - loss: 0.3595 - accuracy: 0.8287 - val_loss: 0.5397 - val_accuracy: 0.7403\n",
      "Epoch 42/100\n",
      "17/17 [==============================] - 0s 2ms/step - loss: 0.3577 - accuracy: 0.8361 - val_loss: 0.5429 - val_accuracy: 0.7403\n",
      "Epoch 43/100\n",
      "17/17 [==============================] - 0s 2ms/step - loss: 0.3565 - accuracy: 0.8305 - val_loss: 0.5452 - val_accuracy: 0.7316\n",
      "Epoch 44/100\n",
      "17/17 [==============================] - 0s 2ms/step - loss: 0.3537 - accuracy: 0.8361 - val_loss: 0.5487 - val_accuracy: 0.7359\n",
      "Epoch 45/100\n",
      "17/17 [==============================] - 0s 2ms/step - loss: 0.3526 - accuracy: 0.8399 - val_loss: 0.5498 - val_accuracy: 0.7403\n",
      "Epoch 46/100\n",
      "17/17 [==============================] - 0s 2ms/step - loss: 0.3514 - accuracy: 0.8343 - val_loss: 0.5529 - val_accuracy: 0.7316\n",
      "Epoch 47/100\n",
      "17/17 [==============================] - 0s 2ms/step - loss: 0.3495 - accuracy: 0.8399 - val_loss: 0.5493 - val_accuracy: 0.7446\n",
      "Epoch 48/100\n",
      "17/17 [==============================] - 0s 2ms/step - loss: 0.3459 - accuracy: 0.8436 - val_loss: 0.5614 - val_accuracy: 0.7316\n",
      "Epoch 49/100\n",
      "17/17 [==============================] - 0s 2ms/step - loss: 0.3464 - accuracy: 0.8454 - val_loss: 0.5550 - val_accuracy: 0.7403\n",
      "Epoch 50/100\n",
      "17/17 [==============================] - 0s 2ms/step - loss: 0.3436 - accuracy: 0.8454 - val_loss: 0.5547 - val_accuracy: 0.7403\n",
      "Epoch 51/100\n",
      "17/17 [==============================] - 0s 2ms/step - loss: 0.3429 - accuracy: 0.8473 - val_loss: 0.5532 - val_accuracy: 0.7359\n",
      "Epoch 52/100\n",
      "17/17 [==============================] - 0s 2ms/step - loss: 0.3407 - accuracy: 0.8585 - val_loss: 0.5603 - val_accuracy: 0.7446\n",
      "Epoch 53/100\n",
      "17/17 [==============================] - 0s 2ms/step - loss: 0.3383 - accuracy: 0.8510 - val_loss: 0.5737 - val_accuracy: 0.7186\n",
      "Epoch 54/100\n",
      "17/17 [==============================] - 0s 2ms/step - loss: 0.3367 - accuracy: 0.8454 - val_loss: 0.5631 - val_accuracy: 0.7403\n",
      "Epoch 55/100\n",
      "17/17 [==============================] - 0s 2ms/step - loss: 0.3362 - accuracy: 0.8454 - val_loss: 0.5586 - val_accuracy: 0.7359\n",
      "Epoch 56/100\n",
      "17/17 [==============================] - 0s 2ms/step - loss: 0.3331 - accuracy: 0.8510 - val_loss: 0.5750 - val_accuracy: 0.7316\n",
      "Epoch 57/100\n",
      "17/17 [==============================] - 0s 2ms/step - loss: 0.3340 - accuracy: 0.8603 - val_loss: 0.5712 - val_accuracy: 0.7359\n",
      "Epoch 58/100\n",
      "17/17 [==============================] - 0s 2ms/step - loss: 0.3313 - accuracy: 0.8529 - val_loss: 0.5711 - val_accuracy: 0.7316\n",
      "Epoch 59/100\n",
      "17/17 [==============================] - 0s 3ms/step - loss: 0.3283 - accuracy: 0.8547 - val_loss: 0.5717 - val_accuracy: 0.7273\n",
      "Epoch 60/100\n",
      "17/17 [==============================] - 0s 2ms/step - loss: 0.3279 - accuracy: 0.8603 - val_loss: 0.5786 - val_accuracy: 0.7229\n",
      "Epoch 61/100\n",
      "17/17 [==============================] - 0s 2ms/step - loss: 0.3255 - accuracy: 0.8622 - val_loss: 0.5818 - val_accuracy: 0.7273\n",
      "Epoch 62/100\n",
      "17/17 [==============================] - 0s 2ms/step - loss: 0.3270 - accuracy: 0.8547 - val_loss: 0.5719 - val_accuracy: 0.7359\n",
      "Epoch 63/100\n",
      "17/17 [==============================] - 0s 2ms/step - loss: 0.3227 - accuracy: 0.8510 - val_loss: 0.5714 - val_accuracy: 0.7359\n",
      "Epoch 64/100\n",
      "17/17 [==============================] - 0s 2ms/step - loss: 0.3221 - accuracy: 0.8585 - val_loss: 0.5730 - val_accuracy: 0.7229\n",
      "Epoch 65/100\n",
      "17/17 [==============================] - 0s 2ms/step - loss: 0.3206 - accuracy: 0.8547 - val_loss: 0.5785 - val_accuracy: 0.7316\n",
      "Epoch 66/100\n",
      "17/17 [==============================] - 0s 2ms/step - loss: 0.3197 - accuracy: 0.8566 - val_loss: 0.5775 - val_accuracy: 0.7273\n",
      "Epoch 67/100\n",
      "17/17 [==============================] - 0s 2ms/step - loss: 0.3186 - accuracy: 0.8622 - val_loss: 0.5775 - val_accuracy: 0.7359\n",
      "Epoch 68/100\n",
      "17/17 [==============================] - 0s 2ms/step - loss: 0.3146 - accuracy: 0.8641 - val_loss: 0.5809 - val_accuracy: 0.7273\n",
      "Epoch 69/100\n",
      "17/17 [==============================] - 0s 2ms/step - loss: 0.3142 - accuracy: 0.8566 - val_loss: 0.5822 - val_accuracy: 0.7316\n",
      "Epoch 70/100\n",
      "17/17 [==============================] - 0s 2ms/step - loss: 0.3145 - accuracy: 0.8678 - val_loss: 0.5847 - val_accuracy: 0.7316\n",
      "Epoch 71/100\n",
      "17/17 [==============================] - 0s 2ms/step - loss: 0.3102 - accuracy: 0.8678 - val_loss: 0.5902 - val_accuracy: 0.7143\n",
      "Epoch 72/100\n",
      "17/17 [==============================] - 0s 2ms/step - loss: 0.3113 - accuracy: 0.8603 - val_loss: 0.5844 - val_accuracy: 0.7316\n",
      "Epoch 73/100\n",
      "17/17 [==============================] - 0s 2ms/step - loss: 0.3088 - accuracy: 0.8603 - val_loss: 0.5881 - val_accuracy: 0.7273\n",
      "Epoch 74/100\n",
      "17/17 [==============================] - 0s 2ms/step - loss: 0.3068 - accuracy: 0.8734 - val_loss: 0.5920 - val_accuracy: 0.7316\n",
      "Epoch 75/100\n",
      "17/17 [==============================] - 0s 2ms/step - loss: 0.3055 - accuracy: 0.8734 - val_loss: 0.5888 - val_accuracy: 0.7316\n",
      "Epoch 76/100\n",
      "17/17 [==============================] - 0s 2ms/step - loss: 0.3027 - accuracy: 0.8752 - val_loss: 0.5974 - val_accuracy: 0.7186\n",
      "Epoch 77/100\n",
      "17/17 [==============================] - 0s 2ms/step - loss: 0.3027 - accuracy: 0.8808 - val_loss: 0.5987 - val_accuracy: 0.7186\n",
      "Epoch 78/100\n",
      "17/17 [==============================] - 0s 2ms/step - loss: 0.3010 - accuracy: 0.8696 - val_loss: 0.5925 - val_accuracy: 0.7229\n",
      "Epoch 79/100\n",
      "17/17 [==============================] - 0s 2ms/step - loss: 0.2986 - accuracy: 0.8734 - val_loss: 0.6023 - val_accuracy: 0.7143\n",
      "Epoch 80/100\n",
      "17/17 [==============================] - 0s 2ms/step - loss: 0.2986 - accuracy: 0.8771 - val_loss: 0.6010 - val_accuracy: 0.7143\n",
      "Epoch 81/100\n",
      "17/17 [==============================] - 0s 2ms/step - loss: 0.2966 - accuracy: 0.8790 - val_loss: 0.5978 - val_accuracy: 0.7273\n",
      "Epoch 82/100\n",
      "17/17 [==============================] - 0s 2ms/step - loss: 0.2938 - accuracy: 0.8864 - val_loss: 0.6105 - val_accuracy: 0.7143\n",
      "Epoch 83/100\n",
      "17/17 [==============================] - 0s 3ms/step - loss: 0.2945 - accuracy: 0.8827 - val_loss: 0.6055 - val_accuracy: 0.7186\n",
      "Epoch 84/100\n",
      "17/17 [==============================] - 0s 2ms/step - loss: 0.2929 - accuracy: 0.8845 - val_loss: 0.6025 - val_accuracy: 0.7316\n",
      "Epoch 85/100\n",
      "17/17 [==============================] - 0s 3ms/step - loss: 0.2898 - accuracy: 0.8845 - val_loss: 0.6030 - val_accuracy: 0.7273\n",
      "Epoch 86/100\n",
      "17/17 [==============================] - 0s 2ms/step - loss: 0.2880 - accuracy: 0.8808 - val_loss: 0.6071 - val_accuracy: 0.7229\n",
      "Epoch 87/100\n",
      "17/17 [==============================] - 0s 2ms/step - loss: 0.2868 - accuracy: 0.8845 - val_loss: 0.6083 - val_accuracy: 0.7186\n",
      "Epoch 88/100\n",
      "17/17 [==============================] - 0s 2ms/step - loss: 0.2855 - accuracy: 0.8920 - val_loss: 0.6099 - val_accuracy: 0.7100\n",
      "Epoch 89/100\n",
      "17/17 [==============================] - 0s 2ms/step - loss: 0.2834 - accuracy: 0.8790 - val_loss: 0.6095 - val_accuracy: 0.7229\n",
      "Epoch 90/100\n",
      "17/17 [==============================] - 0s 2ms/step - loss: 0.2834 - accuracy: 0.8845 - val_loss: 0.6097 - val_accuracy: 0.7316\n",
      "Epoch 91/100\n",
      "17/17 [==============================] - 0s 2ms/step - loss: 0.2812 - accuracy: 0.8976 - val_loss: 0.6275 - val_accuracy: 0.7013\n",
      "Epoch 92/100\n",
      "17/17 [==============================] - 0s 2ms/step - loss: 0.2796 - accuracy: 0.8920 - val_loss: 0.6232 - val_accuracy: 0.7143\n",
      "Epoch 93/100\n",
      "17/17 [==============================] - 0s 2ms/step - loss: 0.2774 - accuracy: 0.8957 - val_loss: 0.6393 - val_accuracy: 0.7056\n",
      "Epoch 94/100\n",
      "17/17 [==============================] - 0s 2ms/step - loss: 0.2788 - accuracy: 0.8864 - val_loss: 0.6259 - val_accuracy: 0.7143\n",
      "Epoch 95/100\n",
      "17/17 [==============================] - 0s 2ms/step - loss: 0.2765 - accuracy: 0.8920 - val_loss: 0.6256 - val_accuracy: 0.7100\n",
      "Epoch 96/100\n",
      "17/17 [==============================] - 0s 2ms/step - loss: 0.2733 - accuracy: 0.8920 - val_loss: 0.6271 - val_accuracy: 0.7056\n",
      "Epoch 97/100\n",
      "17/17 [==============================] - 0s 2ms/step - loss: 0.2738 - accuracy: 0.9013 - val_loss: 0.6390 - val_accuracy: 0.6970\n",
      "Epoch 98/100\n",
      "17/17 [==============================] - 0s 2ms/step - loss: 0.2728 - accuracy: 0.8883 - val_loss: 0.6303 - val_accuracy: 0.7100\n",
      "Epoch 99/100\n",
      "17/17 [==============================] - 0s 2ms/step - loss: 0.2689 - accuracy: 0.9032 - val_loss: 0.6283 - val_accuracy: 0.7186\n",
      "Epoch 100/100\n",
      "17/17 [==============================] - 0s 2ms/step - loss: 0.2680 - accuracy: 0.9013 - val_loss: 0.6306 - val_accuracy: 0.7186\n"
     ]
    },
    {
     "data": {
      "text/plain": [
       "<keras.src.callbacks.History at 0x18ee5ae5780>"
      ]
     },
     "execution_count": 23,
     "metadata": {},
     "output_type": "execute_result"
    }
   ],
   "source": [
    "model.fit(x_train, y_train , batch_size=32 , epochs=100 , initial_epoch=6 , validation_data=(x_test,y_test)) # 5 ta epochs already run korce tai 6 theke start hyce"
   ]
  },
  {
   "cell_type": "markdown",
   "metadata": {},
   "source": [
    "Now the accuracy has improved by using rmsprop\n"
   ]
  },
  {
   "cell_type": "markdown",
   "metadata": {},
   "source": [
    "Finding appropriate nuron"
   ]
  },
  {
   "cell_type": "code",
   "execution_count": 24,
   "metadata": {},
   "outputs": [],
   "source": [
    "def build_model(hp):\n",
    "    model = Sequential()\n",
    "    units = hp.Int('units' , min_value = 8 , max_value = 128)\n",
    "\n",
    "    model.add(Dense(units = units , activation='relu' , input_dim = 8))\n",
    "    model.add(Dense(units=units , activation = 'relu'))\n",
    "    model.add(Dense(1 , activation='sigmoid'))\n",
    "\n",
    "    model.compile(optimizer='rmsprop' , loss = 'binary_crossentropy' , metrics = ['accuracy'])\n",
    "\n",
    "    return model\n",
    "\n"
   ]
  },
  {
   "cell_type": "code",
   "execution_count": 25,
   "metadata": {},
   "outputs": [
    {
     "name": "stdout",
     "output_type": "stream",
     "text": [
      "Reloading Tuner from mydir\\appropriate_nuron\\tuner0.json\n"
     ]
    }
   ],
   "source": [
    "tuner = kt.RandomSearch(build_model,objective='val_accuracy' , max_trials=5 , directory = 'mydir' , project_name = 'appropriate_nuron')"
   ]
  },
  {
   "cell_type": "code",
   "execution_count": 26,
   "metadata": {},
   "outputs": [],
   "source": [
    "tuner.search(x_train,y_train , epochs = 5 , validation_data = (x_test,y_test))"
   ]
  },
  {
   "cell_type": "code",
   "execution_count": 27,
   "metadata": {},
   "outputs": [
    {
     "data": {
      "text/plain": [
       "{'units': 109}"
      ]
     },
     "execution_count": 27,
     "metadata": {},
     "output_type": "execute_result"
    }
   ],
   "source": [
    "tuner.get_best_hyperparameters()[0].values"
   ]
  },
  {
   "cell_type": "code",
   "execution_count": 28,
   "metadata": {},
   "outputs": [],
   "source": [
    "model = tuner.get_best_models(num_models=1)[0]"
   ]
  },
  {
   "cell_type": "code",
   "execution_count": 29,
   "metadata": {},
   "outputs": [
    {
     "name": "stdout",
     "output_type": "stream",
     "text": [
      "Epoch 7/100\n",
      "17/17 [==============================] - 0s 8ms/step - loss: 0.4274 - accuracy: 0.8045 - val_loss: 0.5203 - val_accuracy: 0.7316\n",
      "Epoch 8/100\n",
      "17/17 [==============================] - 0s 2ms/step - loss: 0.4207 - accuracy: 0.8063 - val_loss: 0.5117 - val_accuracy: 0.7446\n",
      "Epoch 9/100\n",
      "17/17 [==============================] - 0s 2ms/step - loss: 0.4170 - accuracy: 0.8026 - val_loss: 0.5233 - val_accuracy: 0.7359\n",
      "Epoch 10/100\n",
      "17/17 [==============================] - 0s 2ms/step - loss: 0.4124 - accuracy: 0.8082 - val_loss: 0.5159 - val_accuracy: 0.7403\n",
      "Epoch 11/100\n",
      "17/17 [==============================] - 0s 2ms/step - loss: 0.4090 - accuracy: 0.8138 - val_loss: 0.5197 - val_accuracy: 0.7359\n",
      "Epoch 12/100\n",
      "17/17 [==============================] - 0s 2ms/step - loss: 0.4004 - accuracy: 0.8138 - val_loss: 0.5116 - val_accuracy: 0.7446\n",
      "Epoch 13/100\n",
      "17/17 [==============================] - 0s 2ms/step - loss: 0.3988 - accuracy: 0.8101 - val_loss: 0.5224 - val_accuracy: 0.7359\n",
      "Epoch 14/100\n",
      "17/17 [==============================] - 0s 2ms/step - loss: 0.3961 - accuracy: 0.8138 - val_loss: 0.5253 - val_accuracy: 0.7403\n",
      "Epoch 15/100\n",
      "17/17 [==============================] - 0s 2ms/step - loss: 0.3916 - accuracy: 0.8175 - val_loss: 0.5336 - val_accuracy: 0.7316\n",
      "Epoch 16/100\n",
      "17/17 [==============================] - 0s 2ms/step - loss: 0.3892 - accuracy: 0.8138 - val_loss: 0.5288 - val_accuracy: 0.7403\n",
      "Epoch 17/100\n",
      "17/17 [==============================] - 0s 2ms/step - loss: 0.3856 - accuracy: 0.8231 - val_loss: 0.5292 - val_accuracy: 0.7359\n",
      "Epoch 18/100\n",
      "17/17 [==============================] - 0s 2ms/step - loss: 0.3831 - accuracy: 0.8175 - val_loss: 0.5435 - val_accuracy: 0.7273\n",
      "Epoch 19/100\n",
      "17/17 [==============================] - 0s 2ms/step - loss: 0.3769 - accuracy: 0.8231 - val_loss: 0.5276 - val_accuracy: 0.7403\n",
      "Epoch 20/100\n",
      "17/17 [==============================] - 0s 2ms/step - loss: 0.3739 - accuracy: 0.8287 - val_loss: 0.5312 - val_accuracy: 0.7532\n",
      "Epoch 21/100\n",
      "17/17 [==============================] - 0s 2ms/step - loss: 0.3767 - accuracy: 0.8231 - val_loss: 0.5318 - val_accuracy: 0.7273\n",
      "Epoch 22/100\n",
      "17/17 [==============================] - 0s 2ms/step - loss: 0.3675 - accuracy: 0.8212 - val_loss: 0.5418 - val_accuracy: 0.7316\n",
      "Epoch 23/100\n",
      "17/17 [==============================] - 0s 2ms/step - loss: 0.3649 - accuracy: 0.8324 - val_loss: 0.5465 - val_accuracy: 0.7273\n",
      "Epoch 24/100\n",
      "17/17 [==============================] - 0s 2ms/step - loss: 0.3623 - accuracy: 0.8268 - val_loss: 0.5365 - val_accuracy: 0.7403\n",
      "Epoch 25/100\n",
      "17/17 [==============================] - 0s 3ms/step - loss: 0.3614 - accuracy: 0.8250 - val_loss: 0.5427 - val_accuracy: 0.7229\n",
      "Epoch 26/100\n",
      "17/17 [==============================] - 0s 2ms/step - loss: 0.3564 - accuracy: 0.8250 - val_loss: 0.5409 - val_accuracy: 0.7273\n",
      "Epoch 27/100\n",
      "17/17 [==============================] - 0s 2ms/step - loss: 0.3541 - accuracy: 0.8380 - val_loss: 0.5490 - val_accuracy: 0.7316\n",
      "Epoch 28/100\n",
      "17/17 [==============================] - 0s 2ms/step - loss: 0.3518 - accuracy: 0.8436 - val_loss: 0.5527 - val_accuracy: 0.7273\n",
      "Epoch 29/100\n",
      "17/17 [==============================] - 0s 2ms/step - loss: 0.3498 - accuracy: 0.8361 - val_loss: 0.5563 - val_accuracy: 0.7186\n",
      "Epoch 30/100\n",
      "17/17 [==============================] - 0s 2ms/step - loss: 0.3442 - accuracy: 0.8417 - val_loss: 0.5537 - val_accuracy: 0.7403\n",
      "Epoch 31/100\n",
      "17/17 [==============================] - 0s 2ms/step - loss: 0.3453 - accuracy: 0.8305 - val_loss: 0.5628 - val_accuracy: 0.7229\n",
      "Epoch 32/100\n",
      "17/17 [==============================] - 0s 2ms/step - loss: 0.3399 - accuracy: 0.8436 - val_loss: 0.5548 - val_accuracy: 0.7186\n",
      "Epoch 33/100\n",
      "17/17 [==============================] - 0s 2ms/step - loss: 0.3401 - accuracy: 0.8547 - val_loss: 0.5614 - val_accuracy: 0.7273\n",
      "Epoch 34/100\n",
      "17/17 [==============================] - 0s 2ms/step - loss: 0.3350 - accuracy: 0.8436 - val_loss: 0.5552 - val_accuracy: 0.7403\n",
      "Epoch 35/100\n",
      "17/17 [==============================] - 0s 2ms/step - loss: 0.3313 - accuracy: 0.8417 - val_loss: 0.5648 - val_accuracy: 0.7359\n",
      "Epoch 36/100\n",
      "17/17 [==============================] - 0s 2ms/step - loss: 0.3336 - accuracy: 0.8492 - val_loss: 0.5620 - val_accuracy: 0.7316\n",
      "Epoch 37/100\n",
      "17/17 [==============================] - 0s 2ms/step - loss: 0.3262 - accuracy: 0.8473 - val_loss: 0.5738 - val_accuracy: 0.7359\n",
      "Epoch 38/100\n",
      "17/17 [==============================] - 0s 2ms/step - loss: 0.3221 - accuracy: 0.8492 - val_loss: 0.5804 - val_accuracy: 0.7186\n",
      "Epoch 39/100\n",
      "17/17 [==============================] - 0s 2ms/step - loss: 0.3195 - accuracy: 0.8529 - val_loss: 0.5972 - val_accuracy: 0.7143\n",
      "Epoch 40/100\n",
      "17/17 [==============================] - 0s 2ms/step - loss: 0.3189 - accuracy: 0.8622 - val_loss: 0.5770 - val_accuracy: 0.7143\n",
      "Epoch 41/100\n",
      "17/17 [==============================] - 0s 2ms/step - loss: 0.3196 - accuracy: 0.8622 - val_loss: 0.5789 - val_accuracy: 0.7316\n",
      "Epoch 42/100\n",
      "17/17 [==============================] - 0s 2ms/step - loss: 0.3129 - accuracy: 0.8659 - val_loss: 0.5717 - val_accuracy: 0.7273\n",
      "Epoch 43/100\n",
      "17/17 [==============================] - 0s 2ms/step - loss: 0.3152 - accuracy: 0.8622 - val_loss: 0.5791 - val_accuracy: 0.7403\n",
      "Epoch 44/100\n",
      "17/17 [==============================] - 0s 2ms/step - loss: 0.3098 - accuracy: 0.8771 - val_loss: 0.5835 - val_accuracy: 0.7273\n",
      "Epoch 45/100\n",
      "17/17 [==============================] - 0s 2ms/step - loss: 0.3070 - accuracy: 0.8752 - val_loss: 0.5887 - val_accuracy: 0.7359\n",
      "Epoch 46/100\n",
      "17/17 [==============================] - 0s 2ms/step - loss: 0.3045 - accuracy: 0.8659 - val_loss: 0.6116 - val_accuracy: 0.7056\n",
      "Epoch 47/100\n",
      "17/17 [==============================] - 0s 2ms/step - loss: 0.3021 - accuracy: 0.8696 - val_loss: 0.6014 - val_accuracy: 0.7316\n",
      "Epoch 48/100\n",
      "17/17 [==============================] - 0s 2ms/step - loss: 0.2993 - accuracy: 0.8752 - val_loss: 0.5904 - val_accuracy: 0.7316\n",
      "Epoch 49/100\n",
      "17/17 [==============================] - 0s 2ms/step - loss: 0.2966 - accuracy: 0.8696 - val_loss: 0.5850 - val_accuracy: 0.7403\n",
      "Epoch 50/100\n",
      "17/17 [==============================] - 0s 3ms/step - loss: 0.2939 - accuracy: 0.8808 - val_loss: 0.5876 - val_accuracy: 0.7273\n",
      "Epoch 51/100\n",
      "17/17 [==============================] - 0s 3ms/step - loss: 0.2950 - accuracy: 0.8678 - val_loss: 0.5904 - val_accuracy: 0.7316\n",
      "Epoch 52/100\n",
      "17/17 [==============================] - 0s 2ms/step - loss: 0.2885 - accuracy: 0.8827 - val_loss: 0.6050 - val_accuracy: 0.7359\n",
      "Epoch 53/100\n",
      "17/17 [==============================] - 0s 3ms/step - loss: 0.2866 - accuracy: 0.8771 - val_loss: 0.6049 - val_accuracy: 0.7273\n",
      "Epoch 54/100\n",
      "17/17 [==============================] - 0s 2ms/step - loss: 0.2856 - accuracy: 0.8734 - val_loss: 0.6131 - val_accuracy: 0.7186\n",
      "Epoch 55/100\n",
      "17/17 [==============================] - 0s 2ms/step - loss: 0.2830 - accuracy: 0.8790 - val_loss: 0.6118 - val_accuracy: 0.7186\n",
      "Epoch 56/100\n",
      "17/17 [==============================] - 0s 2ms/step - loss: 0.2752 - accuracy: 0.8901 - val_loss: 0.6019 - val_accuracy: 0.7446\n",
      "Epoch 57/100\n",
      "17/17 [==============================] - 0s 2ms/step - loss: 0.2786 - accuracy: 0.8901 - val_loss: 0.6242 - val_accuracy: 0.7229\n",
      "Epoch 58/100\n",
      "17/17 [==============================] - 0s 2ms/step - loss: 0.2710 - accuracy: 0.8976 - val_loss: 0.6151 - val_accuracy: 0.7446\n",
      "Epoch 59/100\n",
      "17/17 [==============================] - 0s 2ms/step - loss: 0.2724 - accuracy: 0.8864 - val_loss: 0.6167 - val_accuracy: 0.7359\n",
      "Epoch 60/100\n",
      "17/17 [==============================] - 0s 2ms/step - loss: 0.2681 - accuracy: 0.8920 - val_loss: 0.6388 - val_accuracy: 0.7186\n",
      "Epoch 61/100\n",
      "17/17 [==============================] - 0s 2ms/step - loss: 0.2655 - accuracy: 0.8939 - val_loss: 0.6447 - val_accuracy: 0.7100\n",
      "Epoch 62/100\n",
      "17/17 [==============================] - 0s 2ms/step - loss: 0.2617 - accuracy: 0.8976 - val_loss: 0.6202 - val_accuracy: 0.7403\n",
      "Epoch 63/100\n",
      "17/17 [==============================] - 0s 2ms/step - loss: 0.2607 - accuracy: 0.8957 - val_loss: 0.6188 - val_accuracy: 0.7403\n",
      "Epoch 64/100\n",
      "17/17 [==============================] - 0s 2ms/step - loss: 0.2579 - accuracy: 0.8939 - val_loss: 0.6594 - val_accuracy: 0.6970\n",
      "Epoch 65/100\n",
      "17/17 [==============================] - 0s 2ms/step - loss: 0.2540 - accuracy: 0.9050 - val_loss: 0.6528 - val_accuracy: 0.7143\n",
      "Epoch 66/100\n",
      "17/17 [==============================] - 0s 2ms/step - loss: 0.2552 - accuracy: 0.8939 - val_loss: 0.6377 - val_accuracy: 0.7273\n",
      "Epoch 67/100\n",
      "17/17 [==============================] - 0s 2ms/step - loss: 0.2495 - accuracy: 0.9032 - val_loss: 0.6504 - val_accuracy: 0.7403\n",
      "Epoch 68/100\n",
      "17/17 [==============================] - 0s 2ms/step - loss: 0.2479 - accuracy: 0.9069 - val_loss: 0.6637 - val_accuracy: 0.7186\n",
      "Epoch 69/100\n",
      "17/17 [==============================] - 0s 2ms/step - loss: 0.2440 - accuracy: 0.9199 - val_loss: 0.6443 - val_accuracy: 0.7359\n",
      "Epoch 70/100\n",
      "17/17 [==============================] - 0s 3ms/step - loss: 0.2429 - accuracy: 0.8976 - val_loss: 0.6647 - val_accuracy: 0.7273\n",
      "Epoch 71/100\n",
      "17/17 [==============================] - 0s 2ms/step - loss: 0.2381 - accuracy: 0.9032 - val_loss: 0.6651 - val_accuracy: 0.7316\n",
      "Epoch 72/100\n",
      "17/17 [==============================] - 0s 2ms/step - loss: 0.2319 - accuracy: 0.9143 - val_loss: 0.6624 - val_accuracy: 0.7446\n",
      "Epoch 73/100\n",
      "17/17 [==============================] - 0s 2ms/step - loss: 0.2361 - accuracy: 0.9088 - val_loss: 0.6610 - val_accuracy: 0.7273\n",
      "Epoch 74/100\n",
      "17/17 [==============================] - 0s 3ms/step - loss: 0.2313 - accuracy: 0.9106 - val_loss: 0.6635 - val_accuracy: 0.7403\n",
      "Epoch 75/100\n",
      "17/17 [==============================] - 0s 2ms/step - loss: 0.2274 - accuracy: 0.9181 - val_loss: 0.6807 - val_accuracy: 0.7229\n",
      "Epoch 76/100\n",
      "17/17 [==============================] - 0s 2ms/step - loss: 0.2304 - accuracy: 0.9199 - val_loss: 0.6503 - val_accuracy: 0.7359\n",
      "Epoch 77/100\n",
      "17/17 [==============================] - 0s 2ms/step - loss: 0.2240 - accuracy: 0.9236 - val_loss: 0.6691 - val_accuracy: 0.7403\n",
      "Epoch 78/100\n",
      "17/17 [==============================] - 0s 3ms/step - loss: 0.2213 - accuracy: 0.9199 - val_loss: 0.6630 - val_accuracy: 0.7446\n",
      "Epoch 79/100\n",
      "17/17 [==============================] - 0s 2ms/step - loss: 0.2199 - accuracy: 0.9199 - val_loss: 0.7139 - val_accuracy: 0.7273\n",
      "Epoch 80/100\n",
      "17/17 [==============================] - 0s 2ms/step - loss: 0.2160 - accuracy: 0.9218 - val_loss: 0.6801 - val_accuracy: 0.7359\n",
      "Epoch 81/100\n",
      "17/17 [==============================] - 0s 2ms/step - loss: 0.2159 - accuracy: 0.9181 - val_loss: 0.6923 - val_accuracy: 0.7359\n",
      "Epoch 82/100\n",
      "17/17 [==============================] - 0s 2ms/step - loss: 0.2106 - accuracy: 0.9255 - val_loss: 0.6951 - val_accuracy: 0.7359\n",
      "Epoch 83/100\n",
      "17/17 [==============================] - 0s 2ms/step - loss: 0.2072 - accuracy: 0.9236 - val_loss: 0.6725 - val_accuracy: 0.7359\n",
      "Epoch 84/100\n",
      "17/17 [==============================] - 0s 2ms/step - loss: 0.2081 - accuracy: 0.9311 - val_loss: 0.7116 - val_accuracy: 0.7229\n",
      "Epoch 85/100\n",
      "17/17 [==============================] - 0s 2ms/step - loss: 0.2071 - accuracy: 0.9162 - val_loss: 0.7003 - val_accuracy: 0.7359\n",
      "Epoch 86/100\n",
      "17/17 [==============================] - 0s 2ms/step - loss: 0.1992 - accuracy: 0.9292 - val_loss: 0.7152 - val_accuracy: 0.7359\n",
      "Epoch 87/100\n",
      "17/17 [==============================] - 0s 2ms/step - loss: 0.2018 - accuracy: 0.9125 - val_loss: 0.6985 - val_accuracy: 0.7359\n",
      "Epoch 88/100\n",
      "17/17 [==============================] - 0s 2ms/step - loss: 0.1955 - accuracy: 0.9367 - val_loss: 0.7355 - val_accuracy: 0.7273\n",
      "Epoch 89/100\n",
      "17/17 [==============================] - 0s 2ms/step - loss: 0.1984 - accuracy: 0.9236 - val_loss: 0.6956 - val_accuracy: 0.7403\n",
      "Epoch 90/100\n",
      "17/17 [==============================] - 0s 2ms/step - loss: 0.1936 - accuracy: 0.9348 - val_loss: 0.7402 - val_accuracy: 0.7273\n",
      "Epoch 91/100\n",
      "17/17 [==============================] - 0s 2ms/step - loss: 0.1915 - accuracy: 0.9367 - val_loss: 0.7418 - val_accuracy: 0.7446\n",
      "Epoch 92/100\n",
      "17/17 [==============================] - 0s 2ms/step - loss: 0.1840 - accuracy: 0.9330 - val_loss: 0.7232 - val_accuracy: 0.7229\n",
      "Epoch 93/100\n",
      "17/17 [==============================] - 0s 2ms/step - loss: 0.1893 - accuracy: 0.9255 - val_loss: 0.7330 - val_accuracy: 0.7229\n",
      "Epoch 94/100\n",
      "17/17 [==============================] - 0s 3ms/step - loss: 0.1827 - accuracy: 0.9255 - val_loss: 0.7296 - val_accuracy: 0.7316\n",
      "Epoch 95/100\n",
      "17/17 [==============================] - 0s 3ms/step - loss: 0.1797 - accuracy: 0.9404 - val_loss: 0.7582 - val_accuracy: 0.7143\n",
      "Epoch 96/100\n",
      "17/17 [==============================] - 0s 3ms/step - loss: 0.1797 - accuracy: 0.9330 - val_loss: 0.7334 - val_accuracy: 0.7316\n",
      "Epoch 97/100\n",
      "17/17 [==============================] - 0s 2ms/step - loss: 0.1793 - accuracy: 0.9423 - val_loss: 0.7523 - val_accuracy: 0.7229\n",
      "Epoch 98/100\n",
      "17/17 [==============================] - 0s 2ms/step - loss: 0.1687 - accuracy: 0.9441 - val_loss: 0.7782 - val_accuracy: 0.7316\n",
      "Epoch 99/100\n",
      "17/17 [==============================] - 0s 2ms/step - loss: 0.1722 - accuracy: 0.9404 - val_loss: 0.7134 - val_accuracy: 0.7229\n",
      "Epoch 100/100\n",
      "17/17 [==============================] - 0s 2ms/step - loss: 0.1670 - accuracy: 0.9479 - val_loss: 0.7879 - val_accuracy: 0.7186\n"
     ]
    },
    {
     "data": {
      "text/plain": [
       "<keras.src.callbacks.History at 0x18ee86c0520>"
      ]
     },
     "execution_count": 29,
     "metadata": {},
     "output_type": "execute_result"
    }
   ],
   "source": [
    "model.fit(x_train, y_train , batch_size=32 , epochs=100 , initial_epoch=6 , validation_data=(x_test,y_test)) # 5 ta epochs already run korce tai 6 theke start hyce"
   ]
  },
  {
   "cell_type": "markdown",
   "metadata": {},
   "source": [
    "Accuracy has improved by using appropriate number of nuron but validation accurecy did not improved so much "
   ]
  },
  {
   "cell_type": "markdown",
   "metadata": {},
   "source": [
    "Selecting appropriate number of layers:"
   ]
  },
  {
   "cell_type": "code",
   "execution_count": 32,
   "metadata": {},
   "outputs": [],
   "source": [
    "def build_model(hp):\n",
    "    model = Sequential()\n",
    "\n",
    "    model.add(Dense(109 , activation='relu' , input_dim = 8))\n",
    "    for i in range (hp.Int('num_layers', min_value = 1 , max_value = 10)):\n",
    "        model.add(Dense(109 , activation='relu'))\n",
    "    \n",
    "    model.add(Dense(1 , activation='sigmoid'))\n",
    "\n",
    "    model.compile(optimizer='rmsprop' , loss = 'binary_crossentropy' , metrics=['accuracy'])\n",
    "    \n",
    "    return model"
   ]
  },
  {
   "cell_type": "code",
   "execution_count": 33,
   "metadata": {},
   "outputs": [],
   "source": [
    "tuner = kt.RandomSearch(build_model,objective='val_accuracy' , max_trials=5 , directory = 'mydir' , project_name = 'appropriate_number_of_layers')"
   ]
  },
  {
   "cell_type": "code",
   "execution_count": 34,
   "metadata": {},
   "outputs": [
    {
     "name": "stdout",
     "output_type": "stream",
     "text": [
      "Trial 5 Complete [00h 00m 01s]\n",
      "val_accuracy: 0.7359307408332825\n",
      "\n",
      "Best val_accuracy So Far: 0.7662337422370911\n",
      "Total elapsed time: 00h 00m 08s\n"
     ]
    }
   ],
   "source": [
    "tuner.search(x_train,y_train , epochs = 5 , validation_data = (x_test,y_test))"
   ]
  },
  {
   "cell_type": "code",
   "execution_count": 35,
   "metadata": {},
   "outputs": [
    {
     "data": {
      "text/plain": [
       "{'num_layers': 5}"
      ]
     },
     "execution_count": 35,
     "metadata": {},
     "output_type": "execute_result"
    }
   ],
   "source": [
    "tuner.get_best_hyperparameters()[0].values"
   ]
  },
  {
   "cell_type": "code",
   "execution_count": 36,
   "metadata": {},
   "outputs": [],
   "source": [
    "model = tuner.get_best_models(num_models=1)[0]"
   ]
  },
  {
   "cell_type": "code",
   "execution_count": 37,
   "metadata": {},
   "outputs": [
    {
     "name": "stdout",
     "output_type": "stream",
     "text": [
      "Model: \"sequential\"\n",
      "_________________________________________________________________\n",
      " Layer (type)                Output Shape              Param #   \n",
      "=================================================================\n",
      " dense (Dense)               (None, 109)               981       \n",
      "                                                                 \n",
      " dense_1 (Dense)             (None, 109)               11990     \n",
      "                                                                 \n",
      " dense_2 (Dense)             (None, 109)               11990     \n",
      "                                                                 \n",
      " dense_3 (Dense)             (None, 109)               11990     \n",
      "                                                                 \n",
      " dense_4 (Dense)             (None, 109)               11990     \n",
      "                                                                 \n",
      " dense_5 (Dense)             (None, 109)               11990     \n",
      "                                                                 \n",
      " dense_6 (Dense)             (None, 1)                 110       \n",
      "                                                                 \n",
      "=================================================================\n",
      "Total params: 61041 (238.44 KB)\n",
      "Trainable params: 61041 (238.44 KB)\n",
      "Non-trainable params: 0 (0.00 Byte)\n",
      "_________________________________________________________________\n"
     ]
    }
   ],
   "source": [
    "model.summary()"
   ]
  },
  {
   "cell_type": "code",
   "execution_count": 38,
   "metadata": {},
   "outputs": [
    {
     "name": "stdout",
     "output_type": "stream",
     "text": [
      "Epoch 7/100\n",
      "17/17 [==============================] - 1s 9ms/step - loss: 0.4628 - accuracy: 0.7952 - val_loss: 0.5204 - val_accuracy: 0.7532\n",
      "Epoch 8/100\n",
      "17/17 [==============================] - 0s 3ms/step - loss: 0.4344 - accuracy: 0.8026 - val_loss: 0.5045 - val_accuracy: 0.7446\n",
      "Epoch 9/100\n",
      "17/17 [==============================] - 0s 3ms/step - loss: 0.4130 - accuracy: 0.7970 - val_loss: 0.5005 - val_accuracy: 0.7532\n",
      "Epoch 10/100\n",
      "17/17 [==============================] - 0s 3ms/step - loss: 0.3955 - accuracy: 0.8045 - val_loss: 0.5095 - val_accuracy: 0.7359\n",
      "Epoch 11/100\n",
      "17/17 [==============================] - 0s 3ms/step - loss: 0.3917 - accuracy: 0.8138 - val_loss: 0.5338 - val_accuracy: 0.7403\n",
      "Epoch 12/100\n",
      "17/17 [==============================] - 0s 3ms/step - loss: 0.3664 - accuracy: 0.8268 - val_loss: 0.6066 - val_accuracy: 0.6840\n",
      "Epoch 13/100\n",
      "17/17 [==============================] - 0s 3ms/step - loss: 0.3572 - accuracy: 0.8250 - val_loss: 0.6056 - val_accuracy: 0.7100\n",
      "Epoch 14/100\n",
      "17/17 [==============================] - 0s 3ms/step - loss: 0.3396 - accuracy: 0.8417 - val_loss: 0.5573 - val_accuracy: 0.7403\n",
      "Epoch 15/100\n",
      "17/17 [==============================] - 0s 3ms/step - loss: 0.3419 - accuracy: 0.8399 - val_loss: 0.5531 - val_accuracy: 0.7489\n",
      "Epoch 16/100\n",
      "17/17 [==============================] - 0s 3ms/step - loss: 0.3125 - accuracy: 0.8659 - val_loss: 0.6406 - val_accuracy: 0.7100\n",
      "Epoch 17/100\n",
      "17/17 [==============================] - 0s 3ms/step - loss: 0.3015 - accuracy: 0.8678 - val_loss: 0.6318 - val_accuracy: 0.7316\n",
      "Epoch 18/100\n",
      "17/17 [==============================] - 0s 3ms/step - loss: 0.3046 - accuracy: 0.8529 - val_loss: 0.6368 - val_accuracy: 0.7186\n",
      "Epoch 19/100\n",
      "17/17 [==============================] - 0s 3ms/step - loss: 0.2787 - accuracy: 0.8864 - val_loss: 0.7886 - val_accuracy: 0.7013\n",
      "Epoch 20/100\n",
      "17/17 [==============================] - 0s 3ms/step - loss: 0.2681 - accuracy: 0.8901 - val_loss: 0.6633 - val_accuracy: 0.7446\n",
      "Epoch 21/100\n",
      "17/17 [==============================] - 0s 3ms/step - loss: 0.2697 - accuracy: 0.8845 - val_loss: 0.6769 - val_accuracy: 0.7576\n",
      "Epoch 22/100\n",
      "17/17 [==============================] - 0s 3ms/step - loss: 0.2383 - accuracy: 0.9069 - val_loss: 0.8057 - val_accuracy: 0.7056\n",
      "Epoch 23/100\n",
      "17/17 [==============================] - 0s 3ms/step - loss: 0.2311 - accuracy: 0.9125 - val_loss: 0.7498 - val_accuracy: 0.7229\n",
      "Epoch 24/100\n",
      "17/17 [==============================] - 0s 3ms/step - loss: 0.2239 - accuracy: 0.9106 - val_loss: 0.7630 - val_accuracy: 0.7359\n",
      "Epoch 25/100\n",
      "17/17 [==============================] - 0s 3ms/step - loss: 0.2066 - accuracy: 0.9088 - val_loss: 0.7809 - val_accuracy: 0.7532\n",
      "Epoch 26/100\n",
      "17/17 [==============================] - 0s 3ms/step - loss: 0.1995 - accuracy: 0.9162 - val_loss: 0.8076 - val_accuracy: 0.7229\n",
      "Epoch 27/100\n",
      "17/17 [==============================] - 0s 3ms/step - loss: 0.2001 - accuracy: 0.9143 - val_loss: 0.8342 - val_accuracy: 0.7446\n",
      "Epoch 28/100\n",
      "17/17 [==============================] - 0s 3ms/step - loss: 0.1440 - accuracy: 0.9479 - val_loss: 0.9699 - val_accuracy: 0.7576\n",
      "Epoch 29/100\n",
      "17/17 [==============================] - 0s 3ms/step - loss: 0.1516 - accuracy: 0.9292 - val_loss: 0.9886 - val_accuracy: 0.7056\n",
      "Epoch 30/100\n",
      "17/17 [==============================] - 0s 3ms/step - loss: 0.1501 - accuracy: 0.9367 - val_loss: 1.0170 - val_accuracy: 0.7316\n",
      "Epoch 31/100\n",
      "17/17 [==============================] - 0s 3ms/step - loss: 0.1347 - accuracy: 0.9441 - val_loss: 1.0523 - val_accuracy: 0.7359\n",
      "Epoch 32/100\n",
      "17/17 [==============================] - 0s 3ms/step - loss: 0.1119 - accuracy: 0.9534 - val_loss: 1.1930 - val_accuracy: 0.7316\n",
      "Epoch 33/100\n",
      "17/17 [==============================] - 0s 3ms/step - loss: 0.1051 - accuracy: 0.9516 - val_loss: 1.5342 - val_accuracy: 0.6364\n",
      "Epoch 34/100\n",
      "17/17 [==============================] - 0s 4ms/step - loss: 0.1461 - accuracy: 0.9497 - val_loss: 1.2689 - val_accuracy: 0.7186\n",
      "Epoch 35/100\n",
      "17/17 [==============================] - 0s 4ms/step - loss: 0.0931 - accuracy: 0.9683 - val_loss: 1.7276 - val_accuracy: 0.6667\n",
      "Epoch 36/100\n",
      "17/17 [==============================] - 0s 4ms/step - loss: 0.0860 - accuracy: 0.9665 - val_loss: 1.3773 - val_accuracy: 0.7229\n",
      "Epoch 37/100\n",
      "17/17 [==============================] - 0s 4ms/step - loss: 0.0797 - accuracy: 0.9683 - val_loss: 1.5083 - val_accuracy: 0.6753\n",
      "Epoch 38/100\n",
      "17/17 [==============================] - 0s 4ms/step - loss: 0.0836 - accuracy: 0.9721 - val_loss: 1.6795 - val_accuracy: 0.7100\n",
      "Epoch 39/100\n",
      "17/17 [==============================] - 0s 3ms/step - loss: 0.1024 - accuracy: 0.9646 - val_loss: 1.6545 - val_accuracy: 0.6883\n",
      "Epoch 40/100\n",
      "17/17 [==============================] - 0s 3ms/step - loss: 0.0719 - accuracy: 0.9702 - val_loss: 1.6489 - val_accuracy: 0.7229\n",
      "Epoch 41/100\n",
      "17/17 [==============================] - 0s 3ms/step - loss: 0.0798 - accuracy: 0.9702 - val_loss: 2.4288 - val_accuracy: 0.6277\n",
      "Epoch 42/100\n",
      "17/17 [==============================] - 0s 3ms/step - loss: 0.0906 - accuracy: 0.9739 - val_loss: 1.5760 - val_accuracy: 0.7100\n",
      "Epoch 43/100\n",
      "17/17 [==============================] - 0s 3ms/step - loss: 0.0349 - accuracy: 0.9888 - val_loss: 1.8281 - val_accuracy: 0.7013\n",
      "Epoch 44/100\n",
      "17/17 [==============================] - 0s 3ms/step - loss: 0.0401 - accuracy: 0.9870 - val_loss: 2.6376 - val_accuracy: 0.7013\n",
      "Epoch 45/100\n",
      "17/17 [==============================] - 0s 3ms/step - loss: 0.1057 - accuracy: 0.9628 - val_loss: 1.7751 - val_accuracy: 0.7186\n",
      "Epoch 46/100\n",
      "17/17 [==============================] - 0s 3ms/step - loss: 0.0795 - accuracy: 0.9777 - val_loss: 1.7932 - val_accuracy: 0.7100\n",
      "Epoch 47/100\n",
      "17/17 [==============================] - 0s 3ms/step - loss: 0.0315 - accuracy: 0.9907 - val_loss: 1.8779 - val_accuracy: 0.7316\n",
      "Epoch 48/100\n",
      "17/17 [==============================] - 0s 3ms/step - loss: 0.0579 - accuracy: 0.9758 - val_loss: 1.9499 - val_accuracy: 0.7489\n",
      "Epoch 49/100\n",
      "17/17 [==============================] - 0s 3ms/step - loss: 0.0451 - accuracy: 0.9851 - val_loss: 1.9308 - val_accuracy: 0.7186\n",
      "Epoch 50/100\n",
      "17/17 [==============================] - 0s 3ms/step - loss: 0.0776 - accuracy: 0.9739 - val_loss: 1.9718 - val_accuracy: 0.7100\n",
      "Epoch 51/100\n",
      "17/17 [==============================] - 0s 3ms/step - loss: 0.0134 - accuracy: 0.9963 - val_loss: 2.3376 - val_accuracy: 0.6926\n",
      "Epoch 52/100\n",
      "17/17 [==============================] - 0s 3ms/step - loss: 0.1144 - accuracy: 0.9665 - val_loss: 1.7481 - val_accuracy: 0.7186\n",
      "Epoch 53/100\n",
      "17/17 [==============================] - 0s 3ms/step - loss: 0.0291 - accuracy: 0.9888 - val_loss: 1.7916 - val_accuracy: 0.7229\n",
      "Epoch 54/100\n",
      "17/17 [==============================] - 0s 3ms/step - loss: 0.0116 - accuracy: 0.9963 - val_loss: 2.1884 - val_accuracy: 0.6840\n",
      "Epoch 55/100\n",
      "17/17 [==============================] - 0s 3ms/step - loss: 0.0251 - accuracy: 0.9926 - val_loss: 2.2694 - val_accuracy: 0.7619\n",
      "Epoch 56/100\n",
      "17/17 [==============================] - 0s 3ms/step - loss: 0.0347 - accuracy: 0.9888 - val_loss: 2.6912 - val_accuracy: 0.7186\n",
      "Epoch 57/100\n",
      "17/17 [==============================] - 0s 3ms/step - loss: 0.0302 - accuracy: 0.9926 - val_loss: 2.7338 - val_accuracy: 0.7186\n",
      "Epoch 58/100\n",
      "17/17 [==============================] - 0s 3ms/step - loss: 0.0809 - accuracy: 0.9795 - val_loss: 2.0687 - val_accuracy: 0.7273\n",
      "Epoch 59/100\n",
      "17/17 [==============================] - 0s 3ms/step - loss: 0.0165 - accuracy: 0.9981 - val_loss: 2.2488 - val_accuracy: 0.7273\n",
      "Epoch 60/100\n",
      "17/17 [==============================] - 0s 3ms/step - loss: 0.0079 - accuracy: 0.9981 - val_loss: 2.3698 - val_accuracy: 0.7316\n",
      "Epoch 61/100\n",
      "17/17 [==============================] - 0s 3ms/step - loss: 0.0346 - accuracy: 0.9907 - val_loss: 2.5772 - val_accuracy: 0.7013\n",
      "Epoch 62/100\n",
      "17/17 [==============================] - 0s 3ms/step - loss: 0.0377 - accuracy: 0.9926 - val_loss: 2.5060 - val_accuracy: 0.7229\n",
      "Epoch 63/100\n",
      "17/17 [==============================] - 0s 3ms/step - loss: 0.0862 - accuracy: 0.9814 - val_loss: 2.1507 - val_accuracy: 0.7229\n",
      "Epoch 64/100\n",
      "17/17 [==============================] - 0s 3ms/step - loss: 0.0215 - accuracy: 0.9907 - val_loss: 2.2407 - val_accuracy: 0.7316\n",
      "Epoch 65/100\n",
      "17/17 [==============================] - 0s 3ms/step - loss: 0.0076 - accuracy: 0.9981 - val_loss: 2.3282 - val_accuracy: 0.7143\n",
      "Epoch 66/100\n",
      "17/17 [==============================] - 0s 3ms/step - loss: 0.0537 - accuracy: 0.9870 - val_loss: 2.3026 - val_accuracy: 0.7273\n",
      "Epoch 67/100\n",
      "17/17 [==============================] - 0s 3ms/step - loss: 0.0050 - accuracy: 1.0000 - val_loss: 2.6395 - val_accuracy: 0.7359\n",
      "Epoch 68/100\n",
      "17/17 [==============================] - 0s 3ms/step - loss: 0.0831 - accuracy: 0.9795 - val_loss: 2.4028 - val_accuracy: 0.7056\n",
      "Epoch 69/100\n",
      "17/17 [==============================] - 0s 3ms/step - loss: 0.0212 - accuracy: 0.9907 - val_loss: 2.3924 - val_accuracy: 0.7229\n",
      "Epoch 70/100\n",
      "17/17 [==============================] - 0s 3ms/step - loss: 0.0026 - accuracy: 1.0000 - val_loss: 2.5276 - val_accuracy: 0.7186\n",
      "Epoch 71/100\n",
      "17/17 [==============================] - 0s 3ms/step - loss: 0.0165 - accuracy: 0.9981 - val_loss: 2.5243 - val_accuracy: 0.7359\n",
      "Epoch 72/100\n",
      "17/17 [==============================] - 0s 3ms/step - loss: 0.0088 - accuracy: 0.9981 - val_loss: 2.9232 - val_accuracy: 0.7100\n",
      "Epoch 73/100\n",
      "17/17 [==============================] - 0s 3ms/step - loss: 0.0524 - accuracy: 0.9888 - val_loss: 2.4230 - val_accuracy: 0.7446\n",
      "Epoch 74/100\n",
      "17/17 [==============================] - 0s 3ms/step - loss: 0.0175 - accuracy: 0.9963 - val_loss: 2.6803 - val_accuracy: 0.7359\n",
      "Epoch 75/100\n",
      "17/17 [==============================] - 0s 3ms/step - loss: 0.0448 - accuracy: 0.9870 - val_loss: 3.0165 - val_accuracy: 0.6926\n",
      "Epoch 76/100\n",
      "17/17 [==============================] - 0s 3ms/step - loss: 0.0813 - accuracy: 0.9758 - val_loss: 2.2348 - val_accuracy: 0.7316\n",
      "Epoch 77/100\n",
      "17/17 [==============================] - 0s 3ms/step - loss: 0.0079 - accuracy: 0.9981 - val_loss: 2.3154 - val_accuracy: 0.7359\n",
      "Epoch 78/100\n",
      "17/17 [==============================] - 0s 3ms/step - loss: 0.0017 - accuracy: 1.0000 - val_loss: 2.5083 - val_accuracy: 0.7359\n",
      "Epoch 79/100\n",
      "17/17 [==============================] - 0s 3ms/step - loss: 8.7366e-04 - accuracy: 1.0000 - val_loss: 2.7441 - val_accuracy: 0.7489\n",
      "Epoch 80/100\n",
      "17/17 [==============================] - 0s 3ms/step - loss: 0.0588 - accuracy: 0.9814 - val_loss: 2.6214 - val_accuracy: 0.7446\n",
      "Epoch 81/100\n",
      "17/17 [==============================] - 0s 3ms/step - loss: 0.0331 - accuracy: 0.9907 - val_loss: 2.3765 - val_accuracy: 0.7359\n",
      "Epoch 82/100\n",
      "17/17 [==============================] - 0s 3ms/step - loss: 0.0074 - accuracy: 0.9981 - val_loss: 2.7581 - val_accuracy: 0.7316\n",
      "Epoch 83/100\n",
      "17/17 [==============================] - 0s 3ms/step - loss: 0.0148 - accuracy: 0.9981 - val_loss: 2.4964 - val_accuracy: 0.7403\n",
      "Epoch 84/100\n",
      "17/17 [==============================] - 0s 3ms/step - loss: 0.0109 - accuracy: 0.9944 - val_loss: 2.5337 - val_accuracy: 0.7316\n",
      "Epoch 85/100\n",
      "17/17 [==============================] - 0s 3ms/step - loss: 0.0249 - accuracy: 0.9926 - val_loss: 2.7059 - val_accuracy: 0.7359\n",
      "Epoch 86/100\n",
      "17/17 [==============================] - 0s 3ms/step - loss: 0.0531 - accuracy: 0.9926 - val_loss: 2.2297 - val_accuracy: 0.7359\n",
      "Epoch 87/100\n",
      "17/17 [==============================] - 0s 3ms/step - loss: 0.0020 - accuracy: 1.0000 - val_loss: 2.3326 - val_accuracy: 0.7316\n",
      "Epoch 88/100\n",
      "17/17 [==============================] - 0s 3ms/step - loss: 0.0011 - accuracy: 1.0000 - val_loss: 2.5984 - val_accuracy: 0.7359\n",
      "Epoch 89/100\n",
      "17/17 [==============================] - 0s 3ms/step - loss: 0.0048 - accuracy: 0.9981 - val_loss: 3.1234 - val_accuracy: 0.7143\n",
      "Epoch 90/100\n",
      "17/17 [==============================] - 0s 3ms/step - loss: 0.0992 - accuracy: 0.9683 - val_loss: 2.5312 - val_accuracy: 0.7316\n",
      "Epoch 91/100\n",
      "17/17 [==============================] - 0s 3ms/step - loss: 0.0173 - accuracy: 0.9926 - val_loss: 2.5118 - val_accuracy: 0.7100\n",
      "Epoch 92/100\n",
      "17/17 [==============================] - 0s 3ms/step - loss: 0.0414 - accuracy: 0.9870 - val_loss: 2.2591 - val_accuracy: 0.7359\n",
      "Epoch 93/100\n",
      "17/17 [==============================] - 0s 3ms/step - loss: 0.0242 - accuracy: 0.9926 - val_loss: 2.2721 - val_accuracy: 0.7489\n",
      "Epoch 94/100\n",
      "17/17 [==============================] - 0s 3ms/step - loss: 0.0033 - accuracy: 0.9981 - val_loss: 2.7112 - val_accuracy: 0.7273\n",
      "Epoch 95/100\n",
      "17/17 [==============================] - 0s 3ms/step - loss: 0.0149 - accuracy: 0.9981 - val_loss: 2.4299 - val_accuracy: 0.7359\n",
      "Epoch 96/100\n",
      "17/17 [==============================] - 0s 3ms/step - loss: 5.9315e-04 - accuracy: 1.0000 - val_loss: 2.6136 - val_accuracy: 0.7446\n",
      "Epoch 97/100\n",
      "17/17 [==============================] - 0s 3ms/step - loss: 4.0476e-04 - accuracy: 1.0000 - val_loss: 3.0095 - val_accuracy: 0.7316\n",
      "Epoch 98/100\n",
      "17/17 [==============================] - 0s 3ms/step - loss: 0.0271 - accuracy: 0.9926 - val_loss: 2.6994 - val_accuracy: 0.7403\n",
      "Epoch 99/100\n",
      "17/17 [==============================] - 0s 3ms/step - loss: 0.0214 - accuracy: 0.9944 - val_loss: 2.7012 - val_accuracy: 0.7532\n",
      "Epoch 100/100\n",
      "17/17 [==============================] - 0s 3ms/step - loss: 0.0011 - accuracy: 1.0000 - val_loss: 2.7419 - val_accuracy: 0.7403\n"
     ]
    },
    {
     "data": {
      "text/plain": [
       "<keras.src.callbacks.History at 0x18eeae31b70>"
      ]
     },
     "execution_count": 38,
     "metadata": {},
     "output_type": "execute_result"
    }
   ],
   "source": [
    "model.fit(x_train, y_train , batch_size=32 , epochs=100 , initial_epoch=6 , validation_data=(x_test,y_test)) # 5 ta epochs already run korce tai 6 theke start hyce"
   ]
  },
  {
   "cell_type": "markdown",
   "metadata": {},
   "source": [
    "Accuracy has improbed by using appropriate number of layers but the model is overfitting "
   ]
  },
  {
   "cell_type": "markdown",
   "metadata": {},
   "source": [
    "This is the final model combining all the things "
   ]
  },
  {
   "cell_type": "code",
   "execution_count": 59,
   "metadata": {},
   "outputs": [],
   "source": [
    "def build_model(hp):\n",
    "    model = Sequential()\n",
    "    counter = 0\n",
    "\n",
    "    for i in range (hp.Int('num_layers' , min_value = 1 , max_value = 10)):\n",
    "\n",
    "        if counter == 0 :\n",
    "            model.add( Dense(\n",
    "                 hp.Int( 'units' + str(i) , min_value = 8 , max_value = 128 ) , \n",
    "                 activation=hp.Choice('activation' + str(i) , values = ['relu', 'tanh' , 'sigmoid'] ),\n",
    "                 input_dim = 8\n",
    "                 )\n",
    "                )\n",
    "            model.add(Dropout(hp.Choice('dropout' + str(i) , values = [0.1,0.2,0.3,0.4,0.5,0.6,0.7,0.8,0.9])))\n",
    "        \n",
    "        else:\n",
    "            model.add( Dense(\n",
    "                 hp.Int( 'units' + str(i) , min_value = 8 , max_value = 128 ) , \n",
    "                 activation=hp.Choice('activation' + str(i) , values = ['relu', 'tanh' , 'sigmoid'] )\n",
    "                 )\n",
    "                )\n",
    "            model.add(Dropout(hp.Choice('dropout' + str(i) , values = [0.1,0.2,0.3,0.4,0.5,0.6,0.7,0.8,0.9])))\n",
    "        \n",
    "        counter += 1\n",
    "    \n",
    "    model.add(Dense(1 , activation='sigmoid'))\n",
    "\n",
    "    model.compile(optimizer=hp.Choice('optimizer' , values=['rmsprop', 'adam' , 'sgd']) ,\n",
    "                  loss = 'binary_crossentropy' , metrics=['accuracy']\n",
    "                  )\n",
    "    \n",
    "    return model"
   ]
  },
  {
   "cell_type": "code",
   "execution_count": 60,
   "metadata": {},
   "outputs": [],
   "source": [
    "tuner = kt.RandomSearch(build_model,\n",
    "                        objective='val_accuracy',\n",
    "                        max_trials=5,\n",
    "                        directory = 'mydir',\n",
    "                        project_name = 'final_hyperparameter_tuning'\n",
    "                        )"
   ]
  },
  {
   "cell_type": "code",
   "execution_count": 61,
   "metadata": {},
   "outputs": [
    {
     "name": "stdout",
     "output_type": "stream",
     "text": [
      "Trial 5 Complete [00h 00m 01s]\n",
      "val_accuracy: 0.7056276798248291\n",
      "\n",
      "Best val_accuracy So Far: 0.7056276798248291\n",
      "Total elapsed time: 00h 00m 08s\n"
     ]
    }
   ],
   "source": [
    "tuner.search(x_train, y_train , epochs = 5 , validation_data = (x_test, y_test))"
   ]
  },
  {
   "cell_type": "code",
   "execution_count": 62,
   "metadata": {},
   "outputs": [
    {
     "data": {
      "text/plain": [
       "{'num_layers': 1,\n",
       " 'units0': 48,\n",
       " 'activation0': 'tanh',\n",
       " 'dropout0': 0.2,\n",
       " 'optimizer': 'sgd',\n",
       " 'units1': 82,\n",
       " 'activation1': 'relu',\n",
       " 'dropout1': 0.8,\n",
       " 'units2': 59,\n",
       " 'activation2': 'sigmoid',\n",
       " 'dropout2': 0.1,\n",
       " 'units3': 66,\n",
       " 'activation3': 'relu',\n",
       " 'dropout3': 0.3,\n",
       " 'units4': 100,\n",
       " 'activation4': 'sigmoid',\n",
       " 'dropout4': 0.5,\n",
       " 'units5': 110,\n",
       " 'activation5': 'sigmoid',\n",
       " 'dropout5': 0.1,\n",
       " 'units6': 45,\n",
       " 'activation6': 'sigmoid',\n",
       " 'dropout6': 0.6}"
      ]
     },
     "execution_count": 62,
     "metadata": {},
     "output_type": "execute_result"
    }
   ],
   "source": [
    "tuner.get_best_hyperparameters()[0].values"
   ]
  },
  {
   "cell_type": "code",
   "execution_count": 63,
   "metadata": {},
   "outputs": [],
   "source": [
    "model = tuner.get_best_models(num_models=1)[0]"
   ]
  },
  {
   "cell_type": "code",
   "execution_count": 64,
   "metadata": {},
   "outputs": [
    {
     "name": "stdout",
     "output_type": "stream",
     "text": [
      "Model: \"sequential\"\n",
      "_________________________________________________________________\n",
      " Layer (type)                Output Shape              Param #   \n",
      "=================================================================\n",
      " dense (Dense)               (None, 48)                432       \n",
      "                                                                 \n",
      " dropout (Dropout)           (None, 48)                0         \n",
      "                                                                 \n",
      " dense_1 (Dense)             (None, 1)                 49        \n",
      "                                                                 \n",
      "=================================================================\n",
      "Total params: 481 (1.88 KB)\n",
      "Trainable params: 481 (1.88 KB)\n",
      "Non-trainable params: 0 (0.00 Byte)\n",
      "_________________________________________________________________\n"
     ]
    }
   ],
   "source": [
    "model.summary()"
   ]
  },
  {
   "cell_type": "code",
   "execution_count": 65,
   "metadata": {},
   "outputs": [
    {
     "name": "stdout",
     "output_type": "stream",
     "text": [
      "Epoch 7/200\n"
     ]
    },
    {
     "name": "stdout",
     "output_type": "stream",
     "text": [
      "17/17 [==============================] - 0s 8ms/step - loss: 0.5486 - accuracy: 0.7281 - val_loss: 0.5767 - val_accuracy: 0.7100\n",
      "Epoch 8/200\n",
      "17/17 [==============================] - 0s 3ms/step - loss: 0.5310 - accuracy: 0.7505 - val_loss: 0.5671 - val_accuracy: 0.7229\n",
      "Epoch 9/200\n",
      "17/17 [==============================] - 0s 2ms/step - loss: 0.5328 - accuracy: 0.7449 - val_loss: 0.5589 - val_accuracy: 0.7273\n",
      "Epoch 10/200\n",
      "17/17 [==============================] - 0s 2ms/step - loss: 0.5111 - accuracy: 0.7635 - val_loss: 0.5522 - val_accuracy: 0.7316\n",
      "Epoch 11/200\n",
      "17/17 [==============================] - 0s 2ms/step - loss: 0.5117 - accuracy: 0.7616 - val_loss: 0.5467 - val_accuracy: 0.7446\n",
      "Epoch 12/200\n",
      "17/17 [==============================] - 0s 2ms/step - loss: 0.5133 - accuracy: 0.7635 - val_loss: 0.5420 - val_accuracy: 0.7489\n",
      "Epoch 13/200\n",
      "17/17 [==============================] - 0s 2ms/step - loss: 0.4987 - accuracy: 0.7635 - val_loss: 0.5383 - val_accuracy: 0.7403\n",
      "Epoch 14/200\n",
      "17/17 [==============================] - 0s 2ms/step - loss: 0.4878 - accuracy: 0.7635 - val_loss: 0.5349 - val_accuracy: 0.7359\n",
      "Epoch 15/200\n",
      "17/17 [==============================] - 0s 2ms/step - loss: 0.4899 - accuracy: 0.7691 - val_loss: 0.5324 - val_accuracy: 0.7316\n",
      "Epoch 16/200\n",
      "17/17 [==============================] - 0s 2ms/step - loss: 0.4805 - accuracy: 0.7709 - val_loss: 0.5300 - val_accuracy: 0.7316\n",
      "Epoch 17/200\n",
      "17/17 [==============================] - 0s 2ms/step - loss: 0.4804 - accuracy: 0.7765 - val_loss: 0.5280 - val_accuracy: 0.7403\n",
      "Epoch 18/200\n",
      "17/17 [==============================] - 0s 2ms/step - loss: 0.4810 - accuracy: 0.7877 - val_loss: 0.5262 - val_accuracy: 0.7403\n",
      "Epoch 19/200\n",
      "17/17 [==============================] - 0s 2ms/step - loss: 0.4898 - accuracy: 0.7858 - val_loss: 0.5249 - val_accuracy: 0.7403\n",
      "Epoch 20/200\n",
      "17/17 [==============================] - 0s 2ms/step - loss: 0.4817 - accuracy: 0.7728 - val_loss: 0.5235 - val_accuracy: 0.7403\n",
      "Epoch 21/200\n",
      "17/17 [==============================] - 0s 2ms/step - loss: 0.4698 - accuracy: 0.7840 - val_loss: 0.5225 - val_accuracy: 0.7359\n",
      "Epoch 22/200\n",
      "17/17 [==============================] - 0s 2ms/step - loss: 0.4767 - accuracy: 0.7914 - val_loss: 0.5216 - val_accuracy: 0.7359\n",
      "Epoch 23/200\n",
      "17/17 [==============================] - 0s 2ms/step - loss: 0.4635 - accuracy: 0.7952 - val_loss: 0.5207 - val_accuracy: 0.7359\n",
      "Epoch 24/200\n",
      "17/17 [==============================] - 0s 2ms/step - loss: 0.4679 - accuracy: 0.7877 - val_loss: 0.5200 - val_accuracy: 0.7359\n",
      "Epoch 25/200\n",
      "17/17 [==============================] - 0s 2ms/step - loss: 0.4641 - accuracy: 0.7821 - val_loss: 0.5194 - val_accuracy: 0.7359\n",
      "Epoch 26/200\n",
      "17/17 [==============================] - 0s 2ms/step - loss: 0.4692 - accuracy: 0.7803 - val_loss: 0.5189 - val_accuracy: 0.7359\n",
      "Epoch 27/200\n",
      "17/17 [==============================] - 0s 2ms/step - loss: 0.4724 - accuracy: 0.7765 - val_loss: 0.5186 - val_accuracy: 0.7403\n",
      "Epoch 28/200\n",
      "17/17 [==============================] - 0s 2ms/step - loss: 0.4703 - accuracy: 0.7691 - val_loss: 0.5181 - val_accuracy: 0.7403\n",
      "Epoch 29/200\n",
      "17/17 [==============================] - 0s 2ms/step - loss: 0.4671 - accuracy: 0.7728 - val_loss: 0.5178 - val_accuracy: 0.7403\n",
      "Epoch 30/200\n",
      "17/17 [==============================] - 0s 3ms/step - loss: 0.4637 - accuracy: 0.7970 - val_loss: 0.5176 - val_accuracy: 0.7403\n",
      "Epoch 31/200\n",
      "17/17 [==============================] - 0s 2ms/step - loss: 0.4613 - accuracy: 0.7896 - val_loss: 0.5171 - val_accuracy: 0.7403\n",
      "Epoch 32/200\n",
      "17/17 [==============================] - 0s 2ms/step - loss: 0.4584 - accuracy: 0.7747 - val_loss: 0.5168 - val_accuracy: 0.7403\n",
      "Epoch 33/200\n",
      "17/17 [==============================] - 0s 2ms/step - loss: 0.4578 - accuracy: 0.7877 - val_loss: 0.5166 - val_accuracy: 0.7403\n",
      "Epoch 34/200\n",
      "17/17 [==============================] - 0s 2ms/step - loss: 0.4656 - accuracy: 0.7709 - val_loss: 0.5164 - val_accuracy: 0.7403\n",
      "Epoch 35/200\n",
      "17/17 [==============================] - 0s 2ms/step - loss: 0.4724 - accuracy: 0.7784 - val_loss: 0.5162 - val_accuracy: 0.7446\n",
      "Epoch 36/200\n",
      "17/17 [==============================] - 0s 2ms/step - loss: 0.4680 - accuracy: 0.7803 - val_loss: 0.5159 - val_accuracy: 0.7403\n",
      "Epoch 37/200\n",
      "17/17 [==============================] - 0s 2ms/step - loss: 0.4657 - accuracy: 0.7840 - val_loss: 0.5156 - val_accuracy: 0.7403\n",
      "Epoch 38/200\n",
      "17/17 [==============================] - 0s 2ms/step - loss: 0.4723 - accuracy: 0.7803 - val_loss: 0.5155 - val_accuracy: 0.7403\n",
      "Epoch 39/200\n",
      "17/17 [==============================] - 0s 2ms/step - loss: 0.4579 - accuracy: 0.7821 - val_loss: 0.5153 - val_accuracy: 0.7403\n",
      "Epoch 40/200\n",
      "17/17 [==============================] - 0s 2ms/step - loss: 0.4498 - accuracy: 0.7933 - val_loss: 0.5153 - val_accuracy: 0.7446\n",
      "Epoch 41/200\n",
      "17/17 [==============================] - 0s 2ms/step - loss: 0.4615 - accuracy: 0.7709 - val_loss: 0.5151 - val_accuracy: 0.7446\n",
      "Epoch 42/200\n",
      "17/17 [==============================] - 0s 2ms/step - loss: 0.4639 - accuracy: 0.7728 - val_loss: 0.5152 - val_accuracy: 0.7446\n",
      "Epoch 43/200\n",
      "17/17 [==============================] - 0s 2ms/step - loss: 0.4509 - accuracy: 0.7970 - val_loss: 0.5152 - val_accuracy: 0.7489\n",
      "Epoch 44/200\n",
      "17/17 [==============================] - 0s 2ms/step - loss: 0.4552 - accuracy: 0.7821 - val_loss: 0.5150 - val_accuracy: 0.7446\n",
      "Epoch 45/200\n",
      "17/17 [==============================] - 0s 2ms/step - loss: 0.4647 - accuracy: 0.7896 - val_loss: 0.5149 - val_accuracy: 0.7446\n",
      "Epoch 46/200\n",
      "17/17 [==============================] - 0s 2ms/step - loss: 0.4532 - accuracy: 0.7803 - val_loss: 0.5148 - val_accuracy: 0.7446\n",
      "Epoch 47/200\n",
      "17/17 [==============================] - 0s 2ms/step - loss: 0.4593 - accuracy: 0.7840 - val_loss: 0.5147 - val_accuracy: 0.7446\n",
      "Epoch 48/200\n",
      "17/17 [==============================] - 0s 2ms/step - loss: 0.4704 - accuracy: 0.7747 - val_loss: 0.5147 - val_accuracy: 0.7446\n",
      "Epoch 49/200\n",
      "17/17 [==============================] - 0s 2ms/step - loss: 0.4570 - accuracy: 0.7821 - val_loss: 0.5148 - val_accuracy: 0.7446\n",
      "Epoch 50/200\n",
      "17/17 [==============================] - 0s 2ms/step - loss: 0.4629 - accuracy: 0.7933 - val_loss: 0.5147 - val_accuracy: 0.7446\n",
      "Epoch 51/200\n",
      "17/17 [==============================] - 0s 2ms/step - loss: 0.4587 - accuracy: 0.7877 - val_loss: 0.5148 - val_accuracy: 0.7446\n",
      "Epoch 52/200\n",
      "17/17 [==============================] - 0s 2ms/step - loss: 0.4467 - accuracy: 0.7952 - val_loss: 0.5148 - val_accuracy: 0.7446\n",
      "Epoch 53/200\n",
      "17/17 [==============================] - 0s 2ms/step - loss: 0.4516 - accuracy: 0.7821 - val_loss: 0.5147 - val_accuracy: 0.7489\n",
      "Epoch 54/200\n",
      "17/17 [==============================] - 0s 2ms/step - loss: 0.4535 - accuracy: 0.7933 - val_loss: 0.5147 - val_accuracy: 0.7489\n",
      "Epoch 55/200\n",
      "17/17 [==============================] - 0s 2ms/step - loss: 0.4519 - accuracy: 0.7933 - val_loss: 0.5149 - val_accuracy: 0.7489\n",
      "Epoch 56/200\n",
      "17/17 [==============================] - 0s 2ms/step - loss: 0.4526 - accuracy: 0.7858 - val_loss: 0.5150 - val_accuracy: 0.7489\n",
      "Epoch 57/200\n",
      "17/17 [==============================] - 0s 2ms/step - loss: 0.4533 - accuracy: 0.7914 - val_loss: 0.5151 - val_accuracy: 0.7489\n",
      "Epoch 58/200\n",
      "17/17 [==============================] - 0s 2ms/step - loss: 0.4497 - accuracy: 0.7952 - val_loss: 0.5149 - val_accuracy: 0.7489\n",
      "Epoch 59/200\n",
      "17/17 [==============================] - 0s 2ms/step - loss: 0.4566 - accuracy: 0.7858 - val_loss: 0.5149 - val_accuracy: 0.7489\n",
      "Epoch 60/200\n",
      "17/17 [==============================] - 0s 2ms/step - loss: 0.4530 - accuracy: 0.7933 - val_loss: 0.5150 - val_accuracy: 0.7489\n",
      "Epoch 61/200\n",
      "17/17 [==============================] - 0s 2ms/step - loss: 0.4480 - accuracy: 0.7970 - val_loss: 0.5150 - val_accuracy: 0.7489\n",
      "Epoch 62/200\n",
      "17/17 [==============================] - 0s 2ms/step - loss: 0.4544 - accuracy: 0.7914 - val_loss: 0.5151 - val_accuracy: 0.7489\n",
      "Epoch 63/200\n",
      "17/17 [==============================] - 0s 2ms/step - loss: 0.4592 - accuracy: 0.7896 - val_loss: 0.5152 - val_accuracy: 0.7489\n",
      "Epoch 64/200\n",
      "17/17 [==============================] - 0s 2ms/step - loss: 0.4673 - accuracy: 0.7840 - val_loss: 0.5152 - val_accuracy: 0.7489\n",
      "Epoch 65/200\n",
      "17/17 [==============================] - 0s 2ms/step - loss: 0.4513 - accuracy: 0.7765 - val_loss: 0.5152 - val_accuracy: 0.7489\n",
      "Epoch 66/200\n",
      "17/17 [==============================] - 0s 2ms/step - loss: 0.4610 - accuracy: 0.7933 - val_loss: 0.5150 - val_accuracy: 0.7489\n",
      "Epoch 67/200\n",
      "17/17 [==============================] - 0s 2ms/step - loss: 0.4452 - accuracy: 0.8007 - val_loss: 0.5152 - val_accuracy: 0.7489\n",
      "Epoch 68/200\n",
      "17/17 [==============================] - 0s 3ms/step - loss: 0.4519 - accuracy: 0.7840 - val_loss: 0.5153 - val_accuracy: 0.7489\n",
      "Epoch 69/200\n",
      "17/17 [==============================] - 0s 3ms/step - loss: 0.4529 - accuracy: 0.7970 - val_loss: 0.5152 - val_accuracy: 0.7489\n",
      "Epoch 70/200\n",
      "17/17 [==============================] - 0s 2ms/step - loss: 0.4517 - accuracy: 0.8045 - val_loss: 0.5152 - val_accuracy: 0.7489\n",
      "Epoch 71/200\n",
      "17/17 [==============================] - 0s 2ms/step - loss: 0.4497 - accuracy: 0.7914 - val_loss: 0.5152 - val_accuracy: 0.7489\n",
      "Epoch 72/200\n",
      "17/17 [==============================] - 0s 2ms/step - loss: 0.4484 - accuracy: 0.7896 - val_loss: 0.5153 - val_accuracy: 0.7489\n",
      "Epoch 73/200\n",
      "17/17 [==============================] - 0s 2ms/step - loss: 0.4505 - accuracy: 0.7933 - val_loss: 0.5153 - val_accuracy: 0.7532\n",
      "Epoch 74/200\n",
      "17/17 [==============================] - 0s 2ms/step - loss: 0.4450 - accuracy: 0.7933 - val_loss: 0.5152 - val_accuracy: 0.7532\n",
      "Epoch 75/200\n",
      "17/17 [==============================] - 0s 2ms/step - loss: 0.4515 - accuracy: 0.7877 - val_loss: 0.5152 - val_accuracy: 0.7532\n",
      "Epoch 76/200\n",
      "17/17 [==============================] - 0s 2ms/step - loss: 0.4482 - accuracy: 0.7970 - val_loss: 0.5151 - val_accuracy: 0.7532\n",
      "Epoch 77/200\n",
      "17/17 [==============================] - 0s 2ms/step - loss: 0.4472 - accuracy: 0.7858 - val_loss: 0.5152 - val_accuracy: 0.7532\n",
      "Epoch 78/200\n",
      "17/17 [==============================] - 0s 2ms/step - loss: 0.4520 - accuracy: 0.7933 - val_loss: 0.5151 - val_accuracy: 0.7532\n",
      "Epoch 79/200\n",
      "17/17 [==============================] - 0s 2ms/step - loss: 0.4587 - accuracy: 0.7821 - val_loss: 0.5149 - val_accuracy: 0.7532\n",
      "Epoch 80/200\n",
      "17/17 [==============================] - 0s 2ms/step - loss: 0.4567 - accuracy: 0.7728 - val_loss: 0.5149 - val_accuracy: 0.7532\n",
      "Epoch 81/200\n",
      "17/17 [==============================] - 0s 2ms/step - loss: 0.4560 - accuracy: 0.7914 - val_loss: 0.5149 - val_accuracy: 0.7532\n",
      "Epoch 82/200\n",
      "17/17 [==============================] - 0s 2ms/step - loss: 0.4514 - accuracy: 0.7821 - val_loss: 0.5150 - val_accuracy: 0.7532\n",
      "Epoch 83/200\n",
      "17/17 [==============================] - 0s 2ms/step - loss: 0.4528 - accuracy: 0.7896 - val_loss: 0.5152 - val_accuracy: 0.7576\n",
      "Epoch 84/200\n",
      "17/17 [==============================] - 0s 2ms/step - loss: 0.4447 - accuracy: 0.8026 - val_loss: 0.5150 - val_accuracy: 0.7532\n",
      "Epoch 85/200\n",
      "17/17 [==============================] - 0s 2ms/step - loss: 0.4522 - accuracy: 0.7877 - val_loss: 0.5150 - val_accuracy: 0.7576\n",
      "Epoch 86/200\n",
      "17/17 [==============================] - 0s 2ms/step - loss: 0.4516 - accuracy: 0.7933 - val_loss: 0.5149 - val_accuracy: 0.7576\n",
      "Epoch 87/200\n",
      "17/17 [==============================] - 0s 2ms/step - loss: 0.4521 - accuracy: 0.7877 - val_loss: 0.5149 - val_accuracy: 0.7576\n",
      "Epoch 88/200\n",
      "17/17 [==============================] - 0s 2ms/step - loss: 0.4542 - accuracy: 0.7858 - val_loss: 0.5149 - val_accuracy: 0.7576\n",
      "Epoch 89/200\n",
      "17/17 [==============================] - 0s 2ms/step - loss: 0.4506 - accuracy: 0.7914 - val_loss: 0.5148 - val_accuracy: 0.7576\n",
      "Epoch 90/200\n",
      "17/17 [==============================] - 0s 2ms/step - loss: 0.4535 - accuracy: 0.7952 - val_loss: 0.5149 - val_accuracy: 0.7576\n",
      "Epoch 91/200\n",
      "17/17 [==============================] - 0s 2ms/step - loss: 0.4413 - accuracy: 0.7858 - val_loss: 0.5149 - val_accuracy: 0.7576\n",
      "Epoch 92/200\n",
      "17/17 [==============================] - 0s 2ms/step - loss: 0.4609 - accuracy: 0.7821 - val_loss: 0.5150 - val_accuracy: 0.7576\n",
      "Epoch 93/200\n",
      "17/17 [==============================] - 0s 2ms/step - loss: 0.4383 - accuracy: 0.8101 - val_loss: 0.5148 - val_accuracy: 0.7576\n",
      "Epoch 94/200\n",
      "17/17 [==============================] - 0s 3ms/step - loss: 0.4548 - accuracy: 0.7877 - val_loss: 0.5147 - val_accuracy: 0.7576\n",
      "Epoch 95/200\n",
      "17/17 [==============================] - 0s 2ms/step - loss: 0.4440 - accuracy: 0.7914 - val_loss: 0.5148 - val_accuracy: 0.7576\n",
      "Epoch 96/200\n",
      "17/17 [==============================] - 0s 2ms/step - loss: 0.4537 - accuracy: 0.7952 - val_loss: 0.5149 - val_accuracy: 0.7576\n",
      "Epoch 97/200\n",
      "17/17 [==============================] - 0s 2ms/step - loss: 0.4528 - accuracy: 0.7877 - val_loss: 0.5149 - val_accuracy: 0.7576\n",
      "Epoch 98/200\n",
      "17/17 [==============================] - 0s 3ms/step - loss: 0.4489 - accuracy: 0.7970 - val_loss: 0.5149 - val_accuracy: 0.7576\n",
      "Epoch 99/200\n",
      "17/17 [==============================] - 0s 2ms/step - loss: 0.4530 - accuracy: 0.7933 - val_loss: 0.5149 - val_accuracy: 0.7576\n",
      "Epoch 100/200\n",
      "17/17 [==============================] - 0s 2ms/step - loss: 0.4558 - accuracy: 0.8026 - val_loss: 0.5147 - val_accuracy: 0.7576\n",
      "Epoch 101/200\n",
      "17/17 [==============================] - 0s 2ms/step - loss: 0.4550 - accuracy: 0.7896 - val_loss: 0.5148 - val_accuracy: 0.7576\n",
      "Epoch 102/200\n",
      "17/17 [==============================] - 0s 2ms/step - loss: 0.4450 - accuracy: 0.7952 - val_loss: 0.5147 - val_accuracy: 0.7576\n",
      "Epoch 103/200\n",
      "17/17 [==============================] - 0s 2ms/step - loss: 0.4549 - accuracy: 0.7896 - val_loss: 0.5146 - val_accuracy: 0.7576\n",
      "Epoch 104/200\n",
      "17/17 [==============================] - 0s 2ms/step - loss: 0.4473 - accuracy: 0.7933 - val_loss: 0.5145 - val_accuracy: 0.7576\n",
      "Epoch 105/200\n",
      "17/17 [==============================] - 0s 2ms/step - loss: 0.4424 - accuracy: 0.7914 - val_loss: 0.5147 - val_accuracy: 0.7576\n",
      "Epoch 106/200\n",
      "17/17 [==============================] - 0s 2ms/step - loss: 0.4488 - accuracy: 0.7840 - val_loss: 0.5146 - val_accuracy: 0.7576\n",
      "Epoch 107/200\n",
      "17/17 [==============================] - 0s 2ms/step - loss: 0.4458 - accuracy: 0.8063 - val_loss: 0.5145 - val_accuracy: 0.7576\n",
      "Epoch 108/200\n",
      "17/17 [==============================] - 0s 2ms/step - loss: 0.4516 - accuracy: 0.7858 - val_loss: 0.5144 - val_accuracy: 0.7576\n",
      "Epoch 109/200\n",
      "17/17 [==============================] - 0s 2ms/step - loss: 0.4518 - accuracy: 0.7858 - val_loss: 0.5146 - val_accuracy: 0.7576\n",
      "Epoch 110/200\n",
      "17/17 [==============================] - 0s 2ms/step - loss: 0.4437 - accuracy: 0.7952 - val_loss: 0.5145 - val_accuracy: 0.7576\n",
      "Epoch 111/200\n",
      "17/17 [==============================] - 0s 2ms/step - loss: 0.4509 - accuracy: 0.7970 - val_loss: 0.5144 - val_accuracy: 0.7576\n",
      "Epoch 112/200\n",
      "17/17 [==============================] - 0s 2ms/step - loss: 0.4504 - accuracy: 0.7877 - val_loss: 0.5146 - val_accuracy: 0.7576\n",
      "Epoch 113/200\n",
      "17/17 [==============================] - 0s 2ms/step - loss: 0.4527 - accuracy: 0.7858 - val_loss: 0.5146 - val_accuracy: 0.7576\n",
      "Epoch 114/200\n",
      "17/17 [==============================] - 0s 2ms/step - loss: 0.4432 - accuracy: 0.7933 - val_loss: 0.5148 - val_accuracy: 0.7576\n",
      "Epoch 115/200\n",
      "17/17 [==============================] - 0s 2ms/step - loss: 0.4495 - accuracy: 0.7914 - val_loss: 0.5147 - val_accuracy: 0.7576\n",
      "Epoch 116/200\n",
      "17/17 [==============================] - 0s 2ms/step - loss: 0.4488 - accuracy: 0.7952 - val_loss: 0.5145 - val_accuracy: 0.7576\n",
      "Epoch 117/200\n",
      "17/17 [==============================] - 0s 2ms/step - loss: 0.4554 - accuracy: 0.7709 - val_loss: 0.5145 - val_accuracy: 0.7576\n",
      "Epoch 118/200\n",
      "17/17 [==============================] - 0s 3ms/step - loss: 0.4434 - accuracy: 0.7989 - val_loss: 0.5145 - val_accuracy: 0.7576\n",
      "Epoch 119/200\n",
      "17/17 [==============================] - 0s 3ms/step - loss: 0.4526 - accuracy: 0.7952 - val_loss: 0.5146 - val_accuracy: 0.7576\n",
      "Epoch 120/200\n",
      "17/17 [==============================] - 0s 3ms/step - loss: 0.4471 - accuracy: 0.7914 - val_loss: 0.5145 - val_accuracy: 0.7576\n",
      "Epoch 121/200\n",
      "17/17 [==============================] - 0s 3ms/step - loss: 0.4444 - accuracy: 0.7989 - val_loss: 0.5145 - val_accuracy: 0.7576\n",
      "Epoch 122/200\n",
      "17/17 [==============================] - 0s 3ms/step - loss: 0.4468 - accuracy: 0.8026 - val_loss: 0.5145 - val_accuracy: 0.7576\n",
      "Epoch 123/200\n",
      "17/17 [==============================] - 0s 2ms/step - loss: 0.4543 - accuracy: 0.7896 - val_loss: 0.5144 - val_accuracy: 0.7576\n",
      "Epoch 124/200\n",
      "17/17 [==============================] - 0s 2ms/step - loss: 0.4441 - accuracy: 0.7877 - val_loss: 0.5145 - val_accuracy: 0.7576\n",
      "Epoch 125/200\n",
      "17/17 [==============================] - 0s 2ms/step - loss: 0.4512 - accuracy: 0.7840 - val_loss: 0.5144 - val_accuracy: 0.7576\n",
      "Epoch 126/200\n",
      "17/17 [==============================] - 0s 2ms/step - loss: 0.4458 - accuracy: 0.7914 - val_loss: 0.5145 - val_accuracy: 0.7576\n",
      "Epoch 127/200\n",
      "17/17 [==============================] - 0s 3ms/step - loss: 0.4531 - accuracy: 0.7933 - val_loss: 0.5146 - val_accuracy: 0.7576\n",
      "Epoch 128/200\n",
      "17/17 [==============================] - 0s 3ms/step - loss: 0.4418 - accuracy: 0.7952 - val_loss: 0.5145 - val_accuracy: 0.7576\n",
      "Epoch 129/200\n",
      "17/17 [==============================] - 0s 2ms/step - loss: 0.4382 - accuracy: 0.7877 - val_loss: 0.5144 - val_accuracy: 0.7576\n",
      "Epoch 130/200\n",
      "17/17 [==============================] - 0s 2ms/step - loss: 0.4455 - accuracy: 0.7933 - val_loss: 0.5145 - val_accuracy: 0.7576\n",
      "Epoch 131/200\n",
      "17/17 [==============================] - 0s 2ms/step - loss: 0.4496 - accuracy: 0.7896 - val_loss: 0.5143 - val_accuracy: 0.7576\n",
      "Epoch 132/200\n",
      "17/17 [==============================] - 0s 3ms/step - loss: 0.4444 - accuracy: 0.8026 - val_loss: 0.5140 - val_accuracy: 0.7576\n",
      "Epoch 133/200\n",
      "17/17 [==============================] - 0s 3ms/step - loss: 0.4578 - accuracy: 0.7840 - val_loss: 0.5140 - val_accuracy: 0.7576\n",
      "Epoch 134/200\n",
      "17/17 [==============================] - 0s 2ms/step - loss: 0.4449 - accuracy: 0.7877 - val_loss: 0.5141 - val_accuracy: 0.7576\n",
      "Epoch 135/200\n",
      "17/17 [==============================] - 0s 2ms/step - loss: 0.4493 - accuracy: 0.7858 - val_loss: 0.5143 - val_accuracy: 0.7576\n",
      "Epoch 136/200\n",
      "17/17 [==============================] - 0s 2ms/step - loss: 0.4527 - accuracy: 0.7858 - val_loss: 0.5142 - val_accuracy: 0.7576\n",
      "Epoch 137/200\n",
      "17/17 [==============================] - 0s 2ms/step - loss: 0.4470 - accuracy: 0.7989 - val_loss: 0.5143 - val_accuracy: 0.7576\n",
      "Epoch 138/200\n",
      "17/17 [==============================] - 0s 2ms/step - loss: 0.4528 - accuracy: 0.7877 - val_loss: 0.5144 - val_accuracy: 0.7576\n",
      "Epoch 139/200\n",
      "17/17 [==============================] - 0s 2ms/step - loss: 0.4506 - accuracy: 0.7970 - val_loss: 0.5144 - val_accuracy: 0.7576\n",
      "Epoch 140/200\n",
      "17/17 [==============================] - 0s 2ms/step - loss: 0.4530 - accuracy: 0.7840 - val_loss: 0.5143 - val_accuracy: 0.7576\n",
      "Epoch 141/200\n",
      "17/17 [==============================] - 0s 3ms/step - loss: 0.4501 - accuracy: 0.7821 - val_loss: 0.5144 - val_accuracy: 0.7576\n",
      "Epoch 142/200\n",
      "17/17 [==============================] - 0s 3ms/step - loss: 0.4568 - accuracy: 0.7821 - val_loss: 0.5146 - val_accuracy: 0.7576\n",
      "Epoch 143/200\n",
      "17/17 [==============================] - 0s 2ms/step - loss: 0.4493 - accuracy: 0.7914 - val_loss: 0.5146 - val_accuracy: 0.7576\n",
      "Epoch 144/200\n",
      "17/17 [==============================] - 0s 2ms/step - loss: 0.4455 - accuracy: 0.7914 - val_loss: 0.5146 - val_accuracy: 0.7576\n",
      "Epoch 145/200\n",
      "17/17 [==============================] - 0s 2ms/step - loss: 0.4441 - accuracy: 0.7970 - val_loss: 0.5145 - val_accuracy: 0.7576\n",
      "Epoch 146/200\n",
      "17/17 [==============================] - 0s 2ms/step - loss: 0.4441 - accuracy: 0.7877 - val_loss: 0.5145 - val_accuracy: 0.7576\n",
      "Epoch 147/200\n",
      "17/17 [==============================] - 0s 2ms/step - loss: 0.4454 - accuracy: 0.7896 - val_loss: 0.5145 - val_accuracy: 0.7576\n",
      "Epoch 148/200\n",
      "17/17 [==============================] - 0s 2ms/step - loss: 0.4574 - accuracy: 0.7877 - val_loss: 0.5144 - val_accuracy: 0.7576\n",
      "Epoch 149/200\n",
      "17/17 [==============================] - 0s 2ms/step - loss: 0.4501 - accuracy: 0.8007 - val_loss: 0.5144 - val_accuracy: 0.7576\n",
      "Epoch 150/200\n",
      "17/17 [==============================] - 0s 2ms/step - loss: 0.4455 - accuracy: 0.7989 - val_loss: 0.5144 - val_accuracy: 0.7576\n",
      "Epoch 151/200\n",
      "17/17 [==============================] - 0s 2ms/step - loss: 0.4520 - accuracy: 0.7933 - val_loss: 0.5144 - val_accuracy: 0.7576\n",
      "Epoch 152/200\n",
      "17/17 [==============================] - 0s 2ms/step - loss: 0.4491 - accuracy: 0.7970 - val_loss: 0.5142 - val_accuracy: 0.7576\n",
      "Epoch 153/200\n",
      "17/17 [==============================] - 0s 2ms/step - loss: 0.4440 - accuracy: 0.7896 - val_loss: 0.5143 - val_accuracy: 0.7576\n",
      "Epoch 154/200\n",
      "17/17 [==============================] - 0s 2ms/step - loss: 0.4416 - accuracy: 0.7858 - val_loss: 0.5142 - val_accuracy: 0.7576\n",
      "Epoch 155/200\n",
      "17/17 [==============================] - 0s 2ms/step - loss: 0.4431 - accuracy: 0.7933 - val_loss: 0.5142 - val_accuracy: 0.7576\n",
      "Epoch 156/200\n",
      "17/17 [==============================] - 0s 2ms/step - loss: 0.4465 - accuracy: 0.7933 - val_loss: 0.5142 - val_accuracy: 0.7576\n",
      "Epoch 157/200\n",
      "17/17 [==============================] - 0s 2ms/step - loss: 0.4592 - accuracy: 0.7821 - val_loss: 0.5142 - val_accuracy: 0.7576\n",
      "Epoch 158/200\n",
      "17/17 [==============================] - 0s 2ms/step - loss: 0.4444 - accuracy: 0.7952 - val_loss: 0.5142 - val_accuracy: 0.7576\n",
      "Epoch 159/200\n",
      "17/17 [==============================] - 0s 2ms/step - loss: 0.4571 - accuracy: 0.7896 - val_loss: 0.5141 - val_accuracy: 0.7576\n",
      "Epoch 160/200\n",
      "17/17 [==============================] - 0s 2ms/step - loss: 0.4396 - accuracy: 0.7970 - val_loss: 0.5140 - val_accuracy: 0.7576\n",
      "Epoch 161/200\n",
      "17/17 [==============================] - 0s 2ms/step - loss: 0.4546 - accuracy: 0.7896 - val_loss: 0.5139 - val_accuracy: 0.7576\n",
      "Epoch 162/200\n",
      "17/17 [==============================] - 0s 2ms/step - loss: 0.4412 - accuracy: 0.8007 - val_loss: 0.5139 - val_accuracy: 0.7576\n",
      "Epoch 163/200\n",
      "17/17 [==============================] - 0s 3ms/step - loss: 0.4513 - accuracy: 0.7803 - val_loss: 0.5139 - val_accuracy: 0.7576\n",
      "Epoch 164/200\n",
      "17/17 [==============================] - 0s 3ms/step - loss: 0.4478 - accuracy: 0.7933 - val_loss: 0.5138 - val_accuracy: 0.7576\n",
      "Epoch 165/200\n",
      "17/17 [==============================] - 0s 2ms/step - loss: 0.4469 - accuracy: 0.7914 - val_loss: 0.5138 - val_accuracy: 0.7576\n",
      "Epoch 166/200\n",
      "17/17 [==============================] - 0s 2ms/step - loss: 0.4498 - accuracy: 0.7803 - val_loss: 0.5136 - val_accuracy: 0.7576\n",
      "Epoch 167/200\n",
      "17/17 [==============================] - 0s 2ms/step - loss: 0.4452 - accuracy: 0.7877 - val_loss: 0.5136 - val_accuracy: 0.7576\n",
      "Epoch 168/200\n",
      "17/17 [==============================] - 0s 2ms/step - loss: 0.4432 - accuracy: 0.7821 - val_loss: 0.5136 - val_accuracy: 0.7576\n",
      "Epoch 169/200\n",
      "17/17 [==============================] - 0s 2ms/step - loss: 0.4402 - accuracy: 0.8026 - val_loss: 0.5137 - val_accuracy: 0.7576\n",
      "Epoch 170/200\n",
      "17/17 [==============================] - 0s 2ms/step - loss: 0.4411 - accuracy: 0.7952 - val_loss: 0.5136 - val_accuracy: 0.7576\n",
      "Epoch 171/200\n",
      "17/17 [==============================] - 0s 2ms/step - loss: 0.4361 - accuracy: 0.7952 - val_loss: 0.5136 - val_accuracy: 0.7576\n",
      "Epoch 172/200\n",
      "17/17 [==============================] - 0s 2ms/step - loss: 0.4405 - accuracy: 0.7970 - val_loss: 0.5137 - val_accuracy: 0.7576\n",
      "Epoch 173/200\n",
      "17/17 [==============================] - 0s 2ms/step - loss: 0.4395 - accuracy: 0.7970 - val_loss: 0.5140 - val_accuracy: 0.7576\n",
      "Epoch 174/200\n",
      "17/17 [==============================] - 0s 2ms/step - loss: 0.4502 - accuracy: 0.8026 - val_loss: 0.5139 - val_accuracy: 0.7576\n",
      "Epoch 175/200\n",
      "17/17 [==============================] - 0s 2ms/step - loss: 0.4434 - accuracy: 0.7933 - val_loss: 0.5139 - val_accuracy: 0.7576\n",
      "Epoch 176/200\n",
      "17/17 [==============================] - 0s 2ms/step - loss: 0.4394 - accuracy: 0.7896 - val_loss: 0.5138 - val_accuracy: 0.7576\n",
      "Epoch 177/200\n",
      "17/17 [==============================] - 0s 2ms/step - loss: 0.4473 - accuracy: 0.7933 - val_loss: 0.5138 - val_accuracy: 0.7576\n",
      "Epoch 178/200\n",
      "17/17 [==============================] - 0s 2ms/step - loss: 0.4426 - accuracy: 0.8007 - val_loss: 0.5137 - val_accuracy: 0.7576\n",
      "Epoch 179/200\n",
      "17/17 [==============================] - 0s 2ms/step - loss: 0.4508 - accuracy: 0.7858 - val_loss: 0.5138 - val_accuracy: 0.7576\n",
      "Epoch 180/200\n",
      "17/17 [==============================] - 0s 2ms/step - loss: 0.4486 - accuracy: 0.7952 - val_loss: 0.5139 - val_accuracy: 0.7576\n",
      "Epoch 181/200\n",
      "17/17 [==============================] - 0s 2ms/step - loss: 0.4463 - accuracy: 0.7858 - val_loss: 0.5138 - val_accuracy: 0.7576\n",
      "Epoch 182/200\n",
      "17/17 [==============================] - 0s 2ms/step - loss: 0.4470 - accuracy: 0.7952 - val_loss: 0.5139 - val_accuracy: 0.7576\n",
      "Epoch 183/200\n",
      "17/17 [==============================] - 0s 2ms/step - loss: 0.4455 - accuracy: 0.7914 - val_loss: 0.5138 - val_accuracy: 0.7576\n",
      "Epoch 184/200\n",
      "17/17 [==============================] - 0s 3ms/step - loss: 0.4448 - accuracy: 0.7989 - val_loss: 0.5138 - val_accuracy: 0.7576\n",
      "Epoch 185/200\n",
      "17/17 [==============================] - 0s 2ms/step - loss: 0.4483 - accuracy: 0.7877 - val_loss: 0.5138 - val_accuracy: 0.7576\n",
      "Epoch 186/200\n",
      "17/17 [==============================] - 0s 2ms/step - loss: 0.4459 - accuracy: 0.7933 - val_loss: 0.5140 - val_accuracy: 0.7576\n",
      "Epoch 187/200\n",
      "17/17 [==============================] - 0s 2ms/step - loss: 0.4450 - accuracy: 0.7989 - val_loss: 0.5139 - val_accuracy: 0.7576\n",
      "Epoch 188/200\n",
      "17/17 [==============================] - 0s 2ms/step - loss: 0.4426 - accuracy: 0.8026 - val_loss: 0.5138 - val_accuracy: 0.7576\n",
      "Epoch 189/200\n",
      "17/17 [==============================] - 0s 2ms/step - loss: 0.4456 - accuracy: 0.7877 - val_loss: 0.5136 - val_accuracy: 0.7576\n",
      "Epoch 190/200\n",
      "17/17 [==============================] - 0s 2ms/step - loss: 0.4372 - accuracy: 0.7952 - val_loss: 0.5135 - val_accuracy: 0.7576\n",
      "Epoch 191/200\n",
      "17/17 [==============================] - 0s 2ms/step - loss: 0.4402 - accuracy: 0.7952 - val_loss: 0.5137 - val_accuracy: 0.7576\n",
      "Epoch 192/200\n",
      "17/17 [==============================] - 0s 2ms/step - loss: 0.4426 - accuracy: 0.8007 - val_loss: 0.5137 - val_accuracy: 0.7576\n",
      "Epoch 193/200\n",
      "17/17 [==============================] - 0s 2ms/step - loss: 0.4510 - accuracy: 0.7933 - val_loss: 0.5137 - val_accuracy: 0.7576\n",
      "Epoch 194/200\n",
      "17/17 [==============================] - 0s 2ms/step - loss: 0.4448 - accuracy: 0.7877 - val_loss: 0.5138 - val_accuracy: 0.7576\n",
      "Epoch 195/200\n",
      "17/17 [==============================] - 0s 2ms/step - loss: 0.4533 - accuracy: 0.7858 - val_loss: 0.5139 - val_accuracy: 0.7576\n",
      "Epoch 196/200\n",
      "17/17 [==============================] - 0s 2ms/step - loss: 0.4533 - accuracy: 0.7914 - val_loss: 0.5138 - val_accuracy: 0.7576\n",
      "Epoch 197/200\n",
      "17/17 [==============================] - 0s 2ms/step - loss: 0.4526 - accuracy: 0.7840 - val_loss: 0.5140 - val_accuracy: 0.7576\n",
      "Epoch 198/200\n",
      "17/17 [==============================] - 0s 2ms/step - loss: 0.4444 - accuracy: 0.7896 - val_loss: 0.5142 - val_accuracy: 0.7576\n",
      "Epoch 199/200\n",
      "17/17 [==============================] - 0s 2ms/step - loss: 0.4492 - accuracy: 0.7877 - val_loss: 0.5141 - val_accuracy: 0.7576\n",
      "Epoch 200/200\n",
      "17/17 [==============================] - 0s 2ms/step - loss: 0.4556 - accuracy: 0.7784 - val_loss: 0.5141 - val_accuracy: 0.7576\n"
     ]
    },
    {
     "data": {
      "text/plain": [
       "<keras.src.callbacks.History at 0x18ef386e1a0>"
      ]
     },
     "execution_count": 65,
     "metadata": {},
     "output_type": "execute_result"
    }
   ],
   "source": [
    "model.fit(x_train,y_train, epochs=200 , initial_epoch=6, validation_data=(x_test,y_test))"
   ]
  },
  {
   "cell_type": "code",
   "execution_count": null,
   "metadata": {},
   "outputs": [],
   "source": []
  },
  {
   "cell_type": "code",
   "execution_count": null,
   "metadata": {},
   "outputs": [],
   "source": []
  },
  {
   "cell_type": "code",
   "execution_count": null,
   "metadata": {},
   "outputs": [],
   "source": []
  },
  {
   "cell_type": "markdown",
   "metadata": {},
   "source": []
  }
 ],
 "metadata": {
  "kernelspec": {
   "display_name": "Python 3",
   "language": "python",
   "name": "python3"
  },
  "language_info": {
   "codemirror_mode": {
    "name": "ipython",
    "version": 3
   },
   "file_extension": ".py",
   "mimetype": "text/x-python",
   "name": "python",
   "nbconvert_exporter": "python",
   "pygments_lexer": "ipython3",
   "version": "3.10.8"
  }
 },
 "nbformat": 4,
 "nbformat_minor": 2
}
