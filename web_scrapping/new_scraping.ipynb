{
 "cells": [
  {
   "cell_type": "code",
   "execution_count": 1,
   "metadata": {},
   "outputs": [],
   "source": [
    "import requests\n",
    "from bs4 import BeautifulSoup as bs\n",
    "import pandas as pd\n",
    "import numpy as np"
   ]
  },
  {
   "cell_type": "code",
   "execution_count": 2,
   "metadata": {},
   "outputs": [],
   "source": [
    "def get_access(url):\n",
    "    response = requests.get(url)\n",
    "    soup = bs(response.content, \"html.parser\")\n",
    "    return soup\n",
    "\n",
    "soup = get_access(\"https://www.prothomalo.com/\")\n"
   ]
  },
  {
   "cell_type": "code",
   "execution_count": 3,
   "metadata": {},
   "outputs": [
    {
     "name": "stdout",
     "output_type": "stream",
     "text": [
      " ১৮ লাখ কোটি টাকা ঋণ রেখে গেছে আওয়ামী লীগ সরকার\n",
      " চাপের মুখে আর জি কর নিয়ে বক্তব্য বদলালেন সৌরভ গাঙ্গুলী\n",
      " ডেমোক্রেটিক পার্টির জাতীয় সম্মেলনের মঞ্চে কাঁদলেন বাইডেন\n",
      " জাতীয় সম্মেলনে হঠাৎ মঞ্চে এসে কমলার চমক, জয়ের অঙ্গীকার\n",
      " সারা দেশে দেড় হাজার ভাস্কর্য ও ম্যুরাল ভাঙচুর\n",
      " নিপুণকে জয়ী করতে ১৭ বার ফোন করেন শেখ সেলিম\n",
      "মতামত পাকিস্তানে যে চার কারণে বাংলাদেশের মতো কিছু ঘটবে না\n",
      "বিশেষ সাক্ষাৎকার: রানা দাশগুপ্ত আমরা বাংলাদেশেরই দালাল, অন্য কোনো দেশের নয়\n",
      " সাগরে লঘুচাপ, বৃষ্টি থাকতে পারে\n",
      " কুমিল্লায় বাহার ও তাঁর মেয়েসহ ৩৭৫ জনের বিরুদ্ধে আরেকটি হত্যা মামলা\n",
      " ‘একজন মা হয়ে প্রতিটি সন্তান হত্যার বিচার চাই’\n",
      " যে কারণে এখনকার ছেলেরা লম্বা চুল রাখছেন\n",
      " নিষিদ্ধের আদেশ প্রত্যাহারের চেষ্টায় জামায়াত\n",
      " শাহীন চাকলাদারের হোটেলে আগুন ধরিয়ে ২৪ জনকে হত্যার অভিযোগে মামলা\n",
      " রাওয়ালপিন্ডিতে সুযোগ আছে বাংলাদেশের ব্যাটসম্যানদেরও\n",
      "বগুড়ার গাবতলী পালপাড়ায় হামলা-ভাঙচুর, সন্ধ্যা নামলেই আতঙ্কে বাসিন্দারা\n",
      " কানাডায় সম্পূর্ণ টিউশন ফি নিয়ে স্নাতকোত্তর, করুন আবেদন\n",
      " শিবির নেতা নিহতের ঘটনায় সাবেক মেয়র লিটনসহ ১২০০ জনের বিরুদ্ধে মামলা\n",
      " খালেদা জিয়ার সব ব্যাংক হিসাব দীর্ঘ ১৭ বছর পর সচল\n",
      " সাবেক মন্ত্রী দীপু মনি গ্রেপ্তার\n",
      " ১৮ লাখ কোটি টাকা ঋণ রেখে গেছে আওয়ামী লীগ সরকার\n",
      " চাপের মুখে আর জি কর নিয়ে বক্তব্য বদলালেন সৌরভ গাঙ্গুলী\n",
      " ডেমোক্রেটিক পার্টির জাতীয় সম্মেলনের মঞ্চে কাঁদলেন বাইডেন\n",
      " জাতীয় সম্মেলনে হঠাৎ মঞ্চে এসে কমলার চমক, জয়ের অঙ্গীকার\n",
      " সারা দেশে দেড় হাজার ভাস্কর্য ও ম্যুরাল ভাঙচুর\n",
      " নিপুণকে জয়ী করতে ১৭ বার ফোন করেন শেখ সেলিম\n",
      "মতামত পাকিস্তানে যে চার কারণে বাংলাদেশের মতো কিছু ঘটবে না\n",
      "বিশেষ সাক্ষাৎকার: রানা দাশগুপ্ত আমরা বাংলাদেশেরই দালাল, অন্য কোনো দেশের নয়\n",
      " সাগরে লঘুচাপ, বৃষ্টি থাকতে পারে\n",
      " কুমিল্লায় বাহার ও তাঁর মেয়েসহ ৩৭৫ জনের বিরুদ্ধে আরেকটি হত্যা মামলা\n",
      " ‘একজন মা হয়ে প্রতিটি সন্তান হত্যার বিচার চাই’\n",
      " যে কারণে এখনকার ছেলেরা লম্বা চুল রাখছেন\n",
      " নিষিদ্ধের আদেশ প্রত্যাহারের চেষ্টায় জামায়াত\n",
      " শাহীন চাকলাদারের হোটেলে আগুন ধরিয়ে ২৪ জনকে হত্যার অভিযোগে মামলা\n",
      " রাওয়ালপিন্ডিতে সুযোগ আছে বাংলাদেশের ব্যাটসম্যানদেরও\n",
      "বগুড়ার গাবতলী পালপাড়ায় হামলা-ভাঙচুর, সন্ধ্যা নামলেই আতঙ্কে বাসিন্দারা\n",
      " কানাডায় সম্পূর্ণ টিউশন ফি নিয়ে স্নাতকোত্তর, করুন আবেদন\n",
      " শিবির নেতা নিহতের ঘটনায় সাবেক মেয়র লিটনসহ ১২০০ জনের বিরুদ্ধে মামলা\n",
      " খালেদা জিয়ার সব ব্যাংক হিসাব দীর্ঘ ১৭ বছর পর সচল\n",
      " সাবেক মন্ত্রী দীপু মনি গ্রেপ্তার\n",
      " চাপের মুখে আর জি কর নিয়ে বক্তব্য বদলালেন সৌরভ গাঙ্গুলী\n",
      " ডেমোক্রেটিক পার্টির জাতীয় সম্মেলনের মঞ্চে কাঁদলেন বাইডেন\n",
      " জাতীয় সম্মেলনে হঠাৎ মঞ্চে এসে কমলার চমক, জয়ের অঙ্গীকার\n",
      "বগুড়ার গাবতলী পালপাড়ায় হামলা-ভাঙচুর, সন্ধ্যা নামলেই আতঙ্কে বাসিন্দারা\n",
      " কানাডায় সম্পূর্ণ টিউশন ফি নিয়ে স্নাতকোত্তর, করুন আবেদন\n",
      " শিবির নেতা নিহতের ঘটনায় সাবেক মেয়র লিটনসহ ১২০০ জনের বিরুদ্ধে মামলা\n",
      " খালেদা জিয়ার সব ব্যাংক হিসাব দীর্ঘ ১৭ বছর পর সচল\n",
      " সাবেক মন্ত্রী দীপু মনি গ্রেপ্তার\n",
      " ১৮ লাখ কোটি টাকা ঋণ রেখে গেছে আওয়ামী লীগ সরকার\n",
      " সারা দেশে দেড় হাজার ভাস্কর্য ও ম্যুরাল ভাঙচুর\n",
      " নিপুণকে জয়ী করতে ১৭ বার ফোন করেন শেখ সেলিম\n",
      " কুমিল্লায় বাহার ও তাঁর মেয়েসহ ৩৭৫ জনের বিরুদ্ধে আরেকটি হত্যা মামলা\n",
      " ‘একজন মা হয়ে প্রতিটি সন্তান হত্যার বিচার চাই’\n",
      " যে কারণে এখনকার ছেলেরা লম্বা চুল রাখছেন\n",
      " নিষিদ্ধের আদেশ প্রত্যাহারের চেষ্টায় জামায়াত\n",
      " শাহীন চাকলাদারের হোটেলে আগুন ধরিয়ে ২৪ জনকে হত্যার অভিযোগে মামলা\n",
      " রাওয়ালপিন্ডিতে সুযোগ আছে বাংলাদেশের ব্যাটসম্যানদেরও\n",
      "মতামত পাকিস্তানে যে চার কারণে বাংলাদেশের মতো কিছু ঘটবে না\n",
      "বিশেষ সাক্ষাৎকার: রানা দাশগুপ্ত আমরা বাংলাদেশেরই দালাল, অন্য কোনো দেশের নয়\n",
      " সাগরে লঘুচাপ, বৃষ্টি থাকতে পারে\n"
     ]
    }
   ],
   "source": [
    "header = soup.find_all('span' , attrs={'class':'tilte-no-link-parent'})\n",
    "for i in header:\n",
    "    print(i.text)"
   ]
  },
  {
   "cell_type": "code",
   "execution_count": 33,
   "metadata": {},
   "outputs": [],
   "source": [
    "# Find all <img> tags\n",
    "uurl = \"https://www.prothomalo.com/\"\n",
    "images = soup.find_all('img')\n",
    "# List to store image URLs\n",
    "image_urls = []\n",
    "# Extract the 'src' attribute and resolve relative URLs\n",
    "for img in images:\n",
    "    img_src = img.get('src')\n",
    "    if img_src:\n",
    "        img_url = requests.compat.urljoin(uurl, img_src)\n",
    "        image_urls.append(img_url)\n",
    "\n",
    "    # Print the image URLs\n",
    "for img_url in image_urls:\n",
    "    print(img_url)"
   ]
  },
  {
   "cell_type": "code",
   "execution_count": 35,
   "metadata": {},
   "outputs": [
    {
     "data": {
      "text/plain": [
       "0"
      ]
     },
     "execution_count": 35,
     "metadata": {},
     "output_type": "execute_result"
    }
   ],
   "source": [
    "len(image_urls)"
   ]
  },
  {
   "cell_type": "code",
   "execution_count": 27,
   "metadata": {},
   "outputs": [
    {
     "data": {
      "text/plain": [
       "[<picture class=\"qt-image zoom-desktop default\"><div style=\"height:50px\"></div></picture>,\n",
       " <picture class=\"qt-image zoom-desktop default\"><div style=\"height:50px\"></div></picture>,\n",
       " <picture class=\"qt-image zoom-desktop default\"><div style=\"height:50px\"></div></picture>,\n",
       " <picture class=\"qt-image zoom-desktop default\"><div style=\"height:50px\"></div></picture>,\n",
       " <picture class=\"qt-image zoom-desktop default\"><div style=\"height:50px\"></div></picture>,\n",
       " <picture class=\"qt-image zoom-desktop default\"><div style=\"height:50px\"></div></picture>,\n",
       " <picture class=\"qt-image zoom-desktop default\"><div style=\"height:50px\"></div></picture>,\n",
       " <picture class=\"qt-image zoom-desktop default\"><div style=\"height:50px\"></div></picture>,\n",
       " <picture class=\"qt-image zoom-desktop default\"><div style=\"height:50px\"></div></picture>,\n",
       " <picture class=\"qt-image zoom-desktop default\"><div style=\"height:50px\"></div></picture>,\n",
       " <picture class=\"qt-image zoom-desktop default\"><div style=\"height:50px\"></div></picture>,\n",
       " <picture class=\"qt-image zoom-desktop default\"><div style=\"height:50px\"></div></picture>,\n",
       " <picture class=\"qt-image zoom-desktop default\"><div style=\"height:50px\"></div></picture>,\n",
       " <picture class=\"qt-image zoom-desktop default\"><div style=\"height:50px\"></div></picture>,\n",
       " <picture class=\"qt-image zoom-desktop default\"><div style=\"height:50px\"></div></picture>,\n",
       " <picture class=\"qt-image zoom-desktop default\"><div style=\"height:50px\"></div></picture>,\n",
       " <picture class=\"qt-image zoom-desktop default\"><div style=\"height:50px\"></div></picture>,\n",
       " <picture class=\"qt-image zoom-desktop default\"><div style=\"height:50px\"></div></picture>,\n",
       " <picture class=\"qt-image zoom-desktop default\"><div style=\"height:50px\"></div></picture>,\n",
       " <picture class=\"qt-image zoom-desktop default\"><div style=\"height:50px\"></div></picture>,\n",
       " <picture class=\"qt-image zoom-desktop default\"><div style=\"height:50px\"></div></picture>,\n",
       " <picture class=\"qt-image zoom-desktop default\"><div style=\"height:50px\"></div></picture>,\n",
       " <picture class=\"qt-image zoom-desktop default\"><div style=\"height:50px\"></div></picture>,\n",
       " <picture class=\"qt-image zoom-desktop default\"><div style=\"height:50px\"></div></picture>,\n",
       " <picture class=\"qt-image zoom-desktop default\"><div style=\"height:50px\"></div></picture>,\n",
       " <picture class=\"qt-image zoom-desktop default\"><div style=\"height:50px\"></div></picture>,\n",
       " <picture class=\"qt-image zoom-desktop default\"><div style=\"height:50px\"></div></picture>,\n",
       " <picture class=\"qt-image zoom-desktop default\"><div style=\"height:50px\"></div></picture>,\n",
       " <picture class=\"qt-image zoom-desktop default\"><div style=\"height:50px\"></div></picture>,\n",
       " <picture class=\"qt-image zoom-desktop default\"><div style=\"height:50px\"></div></picture>,\n",
       " <picture class=\"qt-image zoom-desktop default\"><div style=\"height:50px\"></div></picture>,\n",
       " <picture class=\"qt-image zoom-desktop default\"><div style=\"height:50px\"></div></picture>,\n",
       " <picture class=\"qt-image zoom-desktop default\"><div style=\"height:50px\"></div></picture>,\n",
       " <picture class=\"qt-image zoom-desktop default\"><div style=\"height:50px\"></div></picture>,\n",
       " <picture class=\"qt-image zoom-desktop default\"><div style=\"height:50px\"></div></picture>,\n",
       " <picture class=\"qt-image zoom-desktop default\"><div style=\"height:50px\"></div></picture>,\n",
       " <picture class=\"qt-image zoom-desktop default\"><div style=\"height:50px\"></div></picture>,\n",
       " <picture class=\"qt-image zoom-desktop default\"><div style=\"height:50px\"></div></picture>,\n",
       " <picture class=\"qt-image zoom-desktop default\"><div style=\"height:50px\"></div></picture>,\n",
       " <picture class=\"qt-image zoom-desktop default\"><div style=\"height:50px\"></div></picture>,\n",
       " <picture class=\"qt-image zoom-desktop default\"><div style=\"height:50px\"></div></picture>,\n",
       " <picture class=\"qt-image zoom-desktop default\"><div style=\"height:50px\"></div></picture>,\n",
       " <picture class=\"qt-image zoom-desktop default\"><div style=\"height:50px\"></div></picture>,\n",
       " <picture class=\"qt-image zoom-desktop default\"><div style=\"height:50px\"></div></picture>]"
      ]
     },
     "execution_count": 27,
     "metadata": {},
     "output_type": "execute_result"
    }
   ],
   "source": [
    "img_link"
   ]
  },
  {
   "cell_type": "code",
   "execution_count": null,
   "metadata": {},
   "outputs": [],
   "source": []
  }
 ],
 "metadata": {
  "kernelspec": {
   "display_name": "Python 3",
   "language": "python",
   "name": "python3"
  },
  "language_info": {
   "codemirror_mode": {
    "name": "ipython",
    "version": 3
   },
   "file_extension": ".py",
   "mimetype": "text/x-python",
   "name": "python",
   "nbconvert_exporter": "python",
   "pygments_lexer": "ipython3",
   "version": "3.10.8"
  }
 },
 "nbformat": 4,
 "nbformat_minor": 2
}
