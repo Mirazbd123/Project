{
 "cells": [
  {
   "cell_type": "code",
   "execution_count": 2,
   "metadata": {},
   "outputs": [],
   "source": [
    "import numpy as np\n",
    "import matplotlib.pyplot as plt\n"
   ]
  },
  {
   "cell_type": "code",
   "execution_count": 3,
   "metadata": {},
   "outputs": [],
   "source": [
    "def init_parameters(layer_dimention):\n",
    "    np.random.seed(4)\n",
    "    parameters = {}\n",
    "    L = len(layer_dimention)\n",
    "\n",
    "    for l in range(1,L):\n",
    "        parameters['w'+str(l)] = np.random.randn(layer_dimention[l-1] , layer_dimention[l]) * 0.01\n",
    "        parameters['b'+str(l)] = np.zeros((layer_dimention[l],1))\n",
    "    \n",
    "    return parameters"
   ]
  },
  {
   "cell_type": "code",
   "execution_count": 4,
   "metadata": {},
   "outputs": [],
   "source": [
    "ii = init_parameters([2,2,1])"
   ]
  },
  {
   "cell_type": "code",
   "execution_count": 5,
   "metadata": {},
   "outputs": [
    {
     "name": "stdout",
     "output_type": "stream",
     "text": [
      "{'w1': array([[ 0.00050562,  0.00499951],\n",
      "       [-0.00995909,  0.00693599]]), 'b1': array([[0.],\n",
      "       [0.]]), 'w2': array([[-0.00418302],\n",
      "       [-0.01584577]]), 'b2': array([[0.]])}\n",
      "(2, 1)\n"
     ]
    }
   ],
   "source": [
    "print(ii)\n",
    "print(np.asarray(ii['w2']).shape)"
   ]
  },
  {
   "cell_type": "code",
   "execution_count": 20,
   "metadata": {},
   "outputs": [],
   "source": [
    "def activation_fn(z):\n",
    "    active = 1 / (1+np.exp(np.dot(-1,z))) #used sigmoid activation function\n",
    "    cache = (z)\n",
    "    return active"
   ]
  },
  {
   "cell_type": "code",
   "execution_count": 21,
   "metadata": {},
   "outputs": [
    {
     "data": {
      "text/plain": [
       "0.612159809396489"
      ]
     },
     "execution_count": 21,
     "metadata": {},
     "output_type": "execute_result"
    }
   ],
   "source": [
    "activation_fn(0.4564)"
   ]
  },
  {
   "cell_type": "code",
   "execution_count": 28,
   "metadata": {},
   "outputs": [],
   "source": [
    "#forward_propagation\n",
    "def forward_prop(inputs , parameters):\n",
    "    \n",
    "    lenn = len(parameters) // 2\n",
    "    A = inputs #training data\n",
    "    caches = []\n",
    "    for l in range(1,lenn+1):\n",
    "\n",
    "        prev_A = A\n",
    "        z = np.dot(parameters['w'+str(l)].T, prev_A) + parameters['b'+str(l)]\n",
    "        A = activation_fn(z)\n",
    "        activation_cache = z\n",
    "        linear_cache = (prev_A , parameters['w'+str(l)],  parameters['b'+str(l)])\n",
    "        cache = (linear_cache, activation_cache)\n",
    "        caches.append(cache)\n",
    "        #print(f\"A{parameters['w'+str(l)]} = {A} end\")\n",
    "    \n",
    "    return  caches , A #here A becomes output (Y_hat)\n",
    "        \n"
   ]
  },
  {
   "cell_type": "code",
   "execution_count": 29,
   "metadata": {},
   "outputs": [
    {
     "data": {
      "text/plain": [
       "(2, 1)"
      ]
     },
     "execution_count": 29,
     "metadata": {},
     "output_type": "execute_result"
    }
   ],
   "source": [
    "inputs = np.array([[2],[4]])\n",
    "np.asarray(inputs).shape"
   ]
  },
  {
   "cell_type": "code",
   "execution_count": 30,
   "metadata": {},
   "outputs": [],
   "source": [
    "cache , Ans = forward_prop(inputs,ii)"
   ]
  },
  {
   "cell_type": "code",
   "execution_count": 43,
   "metadata": {},
   "outputs": [
    {
     "data": {
      "text/plain": [
       "[2, 2]"
      ]
     },
     "execution_count": 43,
     "metadata": {},
     "output_type": "execute_result"
    }
   ],
   "source": [
    "[len(a) for a in cache]"
   ]
  },
  {
   "cell_type": "code",
   "execution_count": 32,
   "metadata": {},
   "outputs": [
    {
     "data": {
      "text/plain": [
       "array([[0.4974692]])"
      ]
     },
     "execution_count": 32,
     "metadata": {},
     "output_type": "execute_result"
    }
   ],
   "source": [
    "Ans"
   ]
  },
  {
   "cell_type": "code",
   "execution_count": 33,
   "metadata": {},
   "outputs": [],
   "source": [
    "#Calculating cost function\n",
    "def cost_function(A,Y):\n",
    "    m = Y.shape[1]\n",
    "    cost = (-1/m)*(np.dot(np.log(A) , Y.T)) + np.dot(np.log(1-A) , 1 - Y.T)\n",
    "    return cost"
   ]
  },
  {
   "cell_type": "code",
   "execution_count": null,
   "metadata": {},
   "outputs": [],
   "source": []
  }
 ],
 "metadata": {
  "kernelspec": {
   "display_name": "Python 3",
   "language": "python",
   "name": "python3"
  },
  "language_info": {
   "codemirror_mode": {
    "name": "ipython",
    "version": 3
   },
   "file_extension": ".py",
   "mimetype": "text/x-python",
   "name": "python",
   "nbconvert_exporter": "python",
   "pygments_lexer": "ipython3",
   "version": "3.10.8"
  }
 },
 "nbformat": 4,
 "nbformat_minor": 2
}
