{
 "cells": [
  {
   "cell_type": "code",
   "execution_count": 1,
   "metadata": {},
   "outputs": [],
   "source": [
    "import numpy as np\n",
    "import matplotlib.pyplot as plt\n"
   ]
  },
  {
   "cell_type": "code",
   "execution_count": 96,
   "metadata": {},
   "outputs": [],
   "source": [
    "def init_parameters(layer_dimention):\n",
    "    np.random.seed(4)\n",
    "    parameters = {}\n",
    "    l = len(layer_dimention)\n",
    "\n",
    "    for l in range(1,l):\n",
    "        parameters['w'+str(l)] = np.ones((layer_dimention[l] , layer_dimention[l-1])) * 0.01\n",
    "        parameters['b'+str(l)] = np.zeros((layer_dimention[l],1))\n",
    "    \n",
    "    return parameters"
   ]
  },
  {
   "cell_type": "code",
   "execution_count": 97,
   "metadata": {},
   "outputs": [],
   "source": [
    "ii = init_parameters([2,2,1])"
   ]
  },
  {
   "cell_type": "code",
   "execution_count": 98,
   "metadata": {},
   "outputs": [
    {
     "name": "stdout",
     "output_type": "stream",
     "text": [
      "{'w1': array([[0.01, 0.01],\n",
      "       [0.01, 0.01]]), 'b1': array([[0.],\n",
      "       [0.]]), 'w2': array([[0.01, 0.01]]), 'b2': array([[0.]])}\n",
      "(2, 1)\n"
     ]
    }
   ],
   "source": [
    "print(ii)\n",
    "print(np.asarray(ii['b1']).shape)"
   ]
  },
  {
   "cell_type": "code",
   "execution_count": 4,
   "metadata": {},
   "outputs": [],
   "source": [
    "def activation_fn(z):\n",
    "    active = 1 / (1+np.exp(np.dot(-1,z))) #used sigmoid activation function\n",
    "    return active"
   ]
  },
  {
   "cell_type": "code",
   "execution_count": 5,
   "metadata": {},
   "outputs": [
    {
     "data": {
      "text/plain": [
       "0.612159809396489"
      ]
     },
     "execution_count": 5,
     "metadata": {},
     "output_type": "execute_result"
    }
   ],
   "source": [
    "activation_fn(0.4564)"
   ]
  },
  {
   "cell_type": "code",
   "execution_count": 105,
   "metadata": {},
   "outputs": [],
   "source": [
    "#forward_propagation\n",
    "def forward_prop(inputs , parameters):\n",
    "    \n",
    "    lenn = len(parameters) // 2\n",
    "    A = inputs #training data\n",
    "    cache = []\n",
    "    z_store = {}\n",
    "    for l in range(1,lenn+1):\n",
    "        prev_A = A\n",
    "        z = np.dot(parameters['w'+str(l)], prev_A) + parameters['b'+str(l)]\n",
    "        z_store[str(1)] = z\n",
    "        A = activation_fn(z)\n",
    "        z_store[\"active \"+str(1)] = activation_fn(z)\n",
    "    \n",
    "    return z_store , A #here A becomes output (Y_hat)\n",
    "        \n"
   ]
  },
  {
   "cell_type": "code",
   "execution_count": 106,
   "metadata": {},
   "outputs": [
    {
     "data": {
      "text/plain": [
       "(2, 1)"
      ]
     },
     "execution_count": 106,
     "metadata": {},
     "output_type": "execute_result"
    }
   ],
   "source": [
    "inputs = np.array([[2],[4]])\n",
    "np.asarray(inputs).shape"
   ]
  },
  {
   "cell_type": "code",
   "execution_count": 107,
   "metadata": {},
   "outputs": [
    {
     "data": {
      "text/plain": [
       "({'1': array([[0.01029991]]), 'active 1': array([[0.50257495]])},\n",
       " array([[0.50257495]]))"
      ]
     },
     "execution_count": 107,
     "metadata": {},
     "output_type": "execute_result"
    }
   ],
   "source": [
    "forward_prop(inputs,ii)"
   ]
  },
  {
   "cell_type": "code",
   "execution_count": null,
   "metadata": {},
   "outputs": [],
   "source": [
    "def cost_function(A,Y):\n",
    "    m = Y.shape[1]\n",
    "    cost = (-1/m) "
   ]
  }
 ],
 "metadata": {
  "kernelspec": {
   "display_name": "Python 3",
   "language": "python",
   "name": "python3"
  },
  "language_info": {
   "codemirror_mode": {
    "name": "ipython",
    "version": 3
   },
   "file_extension": ".py",
   "mimetype": "text/x-python",
   "name": "python",
   "nbconvert_exporter": "python",
   "pygments_lexer": "ipython3",
   "version": "3.10.8"
  }
 },
 "nbformat": 4,
 "nbformat_minor": 2
}
