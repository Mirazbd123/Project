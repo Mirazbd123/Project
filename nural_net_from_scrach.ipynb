{
 "cells": [
  {
   "cell_type": "code",
   "execution_count": 1,
   "metadata": {},
   "outputs": [],
   "source": [
    "import numpy as np\n",
    "import matplotlib.pyplot as plt\n"
   ]
  },
  {
   "cell_type": "code",
   "execution_count": 145,
   "metadata": {},
   "outputs": [],
   "source": [
    "def init_parameters(layer_dimention):\n",
    "    np.random.seed(4)\n",
    "    parameters = {}\n",
    "    L = len(layer_dimention)\n",
    "\n",
    "    for l in range(1,L):\n",
    "        parameters['w'+str(l)] = np.random.randn(layer_dimention[l-1] , layer_dimention[l]) * 0.01\n",
    "        parameters['b'+str(l)] = np.zeros((layer_dimention[l],1))\n",
    "    \n",
    "    return parameters"
   ]
  },
  {
   "cell_type": "code",
   "execution_count": 146,
   "metadata": {},
   "outputs": [],
   "source": [
    "ii = init_parameters([2,2,1])"
   ]
  },
  {
   "cell_type": "code",
   "execution_count": 147,
   "metadata": {},
   "outputs": [
    {
     "name": "stdout",
     "output_type": "stream",
     "text": [
      "{'w1': array([[ 0.00050562,  0.00499951],\n",
      "       [-0.00995909,  0.00693599]]), 'b1': array([[0.],\n",
      "       [0.]]), 'w2': array([[-0.00418302],\n",
      "       [-0.01584577]]), 'b2': array([[0.]])}\n",
      "(2, 1)\n"
     ]
    }
   ],
   "source": [
    "print(ii)\n",
    "print(np.asarray(ii['w2']).shape)"
   ]
  },
  {
   "cell_type": "code",
   "execution_count": 148,
   "metadata": {},
   "outputs": [],
   "source": [
    "def activation_fn(z):\n",
    "    active = 1 / (1+np.exp(np.dot(-1,z))) #used sigmoid activation function\n",
    "    return active"
   ]
  },
  {
   "cell_type": "code",
   "execution_count": 149,
   "metadata": {},
   "outputs": [
    {
     "data": {
      "text/plain": [
       "0.612159809396489"
      ]
     },
     "execution_count": 149,
     "metadata": {},
     "output_type": "execute_result"
    }
   ],
   "source": [
    "activation_fn(0.4564)"
   ]
  },
  {
   "cell_type": "code",
   "execution_count": 153,
   "metadata": {},
   "outputs": [],
   "source": [
    "#forward_propagation\n",
    "def forward_prop(inputs , parameters):\n",
    "    \n",
    "    lenn = len(parameters) // 2\n",
    "    A = inputs #training data\n",
    "    cache = []\n",
    "    z_store = {}\n",
    "    for l in range(1,lenn+1):\n",
    "        prev_A = A\n",
    "        z = np.dot(parameters['w'+str(l)].T, prev_A) + parameters['b'+str(l)]\n",
    "        z_store[str(1)] = z\n",
    "        A = activation_fn(z)\n",
    "        print(np.asarray(A).shape)\n",
    "        z_store[\"active \"+str(1)] = activation_fn(z)\n",
    "    \n",
    "    return z_store , A #here A becomes output (Y_hat)\n",
    "        \n"
   ]
  },
  {
   "cell_type": "code",
   "execution_count": 154,
   "metadata": {},
   "outputs": [
    {
     "data": {
      "text/plain": [
       "(2, 1)"
      ]
     },
     "execution_count": 154,
     "metadata": {},
     "output_type": "execute_result"
    }
   ],
   "source": [
    "inputs = np.array([[2],[4]])\n",
    "np.asarray(inputs).shape"
   ]
  },
  {
   "cell_type": "code",
   "execution_count": 155,
   "metadata": {},
   "outputs": [
    {
     "name": "stdout",
     "output_type": "stream",
     "text": [
      "(2, 1)\n",
      "(1, 1)\n"
     ]
    },
    {
     "data": {
      "text/plain": [
       "({'1': array([[-0.0101233]]), 'active 1': array([[0.4974692]])},\n",
       " array([[0.4974692]]))"
      ]
     },
     "execution_count": 155,
     "metadata": {},
     "output_type": "execute_result"
    }
   ],
   "source": [
    "forward_prop(inputs,ii)"
   ]
  },
  {
   "cell_type": "code",
   "execution_count": null,
   "metadata": {},
   "outputs": [],
   "source": [
    "def cost_function(A,Y):\n",
    "    m = Y.shape[1]\n",
    "    cost = (-1/m) "
   ]
  }
 ],
 "metadata": {
  "kernelspec": {
   "display_name": "Python 3",
   "language": "python",
   "name": "python3"
  },
  "language_info": {
   "codemirror_mode": {
    "name": "ipython",
    "version": 3
   },
   "file_extension": ".py",
   "mimetype": "text/x-python",
   "name": "python",
   "nbconvert_exporter": "python",
   "pygments_lexer": "ipython3",
   "version": "3.10.8"
  }
 },
 "nbformat": 4,
 "nbformat_minor": 2
}
